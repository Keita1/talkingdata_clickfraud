{
 "cells": [
  {
   "cell_type": "code",
   "execution_count": null,
   "metadata": {},
   "outputs": [],
   "source": [
    "%matplotlib inline\n",
    "%reload_ext autoreload\n",
    "%autoreload 2\n",
    "\n",
    "import pandas as pd\n",
    "import numpy as np\n",
    "import matplotlib.pyplot as plt\n",
    "\n",
    "from pathlib import Path\n",
    "\n",
    "import gc\n",
    "import time\n",
    "\n",
    "from utils import *\n",
    "\n",
    "from sklearn.ensemble import RandomForestClassifier\n",
    "from sklearn.metrics import roc_auc_score\n",
    "import pickle\n",
    "seed=42\n",
    "PATH = Path('data')\n",
    "list(PATH.iterdir())"
   ]
  },
  {
   "cell_type": "code",
   "execution_count": null,
   "metadata": {},
   "outputs": [],
   "source": [
    "def metric(rf,X_val,y_val):\n",
    "    y_val_pred = rf.predict_proba(X_val)[:,1]\n",
    "    return roc_auc_score(y_val,y_val_pred)\n",
    "\n",
    "def permutation_importances(rf,X_val,y_val,metric):\n",
    "    baseline = metric(rf,X_val,y_val)\n",
    "    imp=[]\n",
    "    for col in X_val.columns:\n",
    "        save = X_val[col].copy()\n",
    "        X_val[col] = np.random.permutation(X_val[col])\n",
    "        m = metric(rf,X_val,y_val)\n",
    "        print(f'Score after {col} perm: {m:.5f}')\n",
    "        X_val[col] = save\n",
    "        imp.append(baseline-m)\n",
    "    return np.array(imp)\n",
    "\n",
    "def get_sample(filename,sz):\n",
    "    df = get_feather(filename)\n",
    "    sample_idx =np.random.permutation(df.shape[0])\n",
    "    sample_idx=sorted(sample_idx[:sz])\n",
    "    df = df.loc[sample_idx,:].reset_index().drop('index',axis=1)\n",
    "    gc.collect()\n",
    "    return df\n",
    "\n",
    "def prediction_score(rf,train_df,y_train,val_df,y_val):\n",
    "    y_train_pred = rf.predict_proba(train_df)[:,1]\n",
    "    print(f'Train AUC: {roc_auc_score(y_train, y_train_pred)}')\n",
    "    y_val_pred = rf.predict_proba(val_df)[:,1]\n",
    "    val_auc = roc_auc_score(y_val, y_val_pred)\n",
    "    print(f'Val AUC: {roc_auc_score(y_val, y_val_pred)}')\n",
    "    return val_auc"
   ]
  },
  {
   "cell_type": "code",
   "execution_count": null,
   "metadata": {},
   "outputs": [],
   "source": [
    "from hyperopt import STATUS_OK, Trials, fmin, hp, tpe\n",
    "\n",
    "val_losses=[]\n",
    "def score(params):\n",
    "    print(\"Training with params: \")\n",
    "    print(params)\n",
    "    \n",
    "    rf = RandomForestClassifier(oob_score=False,n_jobs=-1,class_weight={1:100},random_state=seed,**params)\n",
    "    rf.fit(train_df,y_train)\n",
    "    loss=prediction_score(rf,train_df,y_train,val_df,y_val)\n",
    "    val_losses.append(loss)\n",
    "    del rf\n",
    "    gc.collect()\n",
    "    return {'loss': loss, 'status': STATUS_OK}\n",
    "\n",
    "def optimize(space,max_evals=5):\n",
    "    \n",
    "    best = fmin(score, space, algo=tpe.suggest, \n",
    "        # trials=trials, \n",
    "        max_evals=max_evals)\n",
    "    return best"
   ]
  }
 ],
 "metadata": {
  "kernelspec": {
   "display_name": "Python 3",
   "language": "python",
   "name": "python3"
  },
  "language_info": {
   "codemirror_mode": {
    "name": "ipython",
    "version": 3
   },
   "file_extension": ".py",
   "mimetype": "text/x-python",
   "name": "python",
   "nbconvert_exporter": "python",
   "pygments_lexer": "ipython3",
   "version": "3.6.5"
  }
 },
 "nbformat": 4,
 "nbformat_minor": 2
}
