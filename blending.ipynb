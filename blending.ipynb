{
 "cells": [
  {
   "cell_type": "code",
   "execution_count": 5,
   "metadata": {},
   "outputs": [
    {
     "data": {
      "text/plain": [
       "[PosixPath('data/tmp'),\n",
       " PosixPath('data/test_nextclick_FE.feather'),\n",
       " PosixPath('data/submission'),\n",
       " PosixPath('data/sample_submission.csv'),\n",
       " PosixPath('data/xgb2.model'),\n",
       " PosixPath('data/train_sample.csv'),\n",
       " PosixPath('data/dtree.dot'),\n",
       " PosixPath('data/test_FE.feather'),\n",
       " PosixPath('data/xgb1.model'),\n",
       " PosixPath('data/models'),\n",
       " PosixPath('data/val_idxs.p'),\n",
       " PosixPath('data/train_day8_3to16_nextclick_FE.feather'),\n",
       " PosixPath('data/mean_enc_df'),\n",
       " PosixPath('data/xgb1_noratio.model'),\n",
       " PosixPath('data/train_day9_3to16_nextclick_FE.feather'),\n",
       " PosixPath('data/validation'),\n",
       " PosixPath('data/xgb_FE_best_more.model')]"
      ]
     },
     "execution_count": 5,
     "metadata": {},
     "output_type": "execute_result"
    }
   ],
   "source": [
    "%matplotlib inline\n",
    "%reload_ext autoreload\n",
    "%autoreload 2\n",
    "\n",
    "\n",
    "from pathlib import Path\n",
    "\n",
    "import gc\n",
    "import time\n",
    "\n",
    "from utils import *\n",
    "\n",
    "seed=42\n",
    "PATH = Path('data')\n",
    "list(PATH.iterdir())"
   ]
  },
  {
   "cell_type": "markdown",
   "metadata": {},
   "source": [
    "# Simple average"
   ]
  },
  {
   "cell_type": "code",
   "execution_count": 6,
   "metadata": {},
   "outputs": [],
   "source": [
    "nn_pred = pd.read_csv(PATH/'submission'/'imbalanced_data.csv') # .9728\n",
    "fm_pred =  pd.read_csv(PATH/'submission'/'wordbatch_fm_ftrl.csv')# .9769\n",
    "xgb_pred = pd.read_csv(PATH/'submission'/'XGB_FE_day89_ratio2_10mil_moreite.csv') # .9777\n",
    "lgb_pred = pd.read_csv(PATH/'submission'/'sub_it6.csv') "
   ]
  },
  {
   "cell_type": "code",
   "execution_count": 9,
   "metadata": {},
   "outputs": [],
   "source": [
    "# final_pred = xgb_pred.is_attributed*0.4 + nn_pred.is_attributed*0.3+fm_pred.is_attributed*0.3\n",
    "final_pred = xgb_pred.is_attributed*0.4 + nn_pred.is_attributed*0.25+fm_pred.is_attributed*0.25 + lgb_pred.is_attributed*0.1"
   ]
  },
  {
   "cell_type": "code",
   "execution_count": 7,
   "metadata": {},
   "outputs": [],
   "source": [
    "final_pred = xgb_pred.is_attributed*0.25 + nn_pred.is_attributed*0.25+fm_pred.is_attributed*0.25 + lgb_pred.is_attributed*0.25\n"
   ]
  },
  {
   "cell_type": "code",
   "execution_count": 11,
   "metadata": {},
   "outputs": [],
   "source": [
    "sub = xgb_pred.copy()\n",
    "sub.is_attributed = final_pred\n",
    "# sub.to_csv(PATH/'submission'/'blending_4_models_even.csv',index=False)\n",
    "sub.to_csv(PATH/'submission'/'blending_4_.25_.25_.1.csv',index=False)"
   ]
  },
  {
   "cell_type": "code",
   "execution_count": 10,
   "metadata": {},
   "outputs": [
    {
     "data": {
      "text/html": [
       "<div>\n",
       "<style scoped>\n",
       "    .dataframe tbody tr th:only-of-type {\n",
       "        vertical-align: middle;\n",
       "    }\n",
       "\n",
       "    .dataframe tbody tr th {\n",
       "        vertical-align: top;\n",
       "    }\n",
       "\n",
       "    .dataframe thead th {\n",
       "        text-align: right;\n",
       "    }\n",
       "</style>\n",
       "<table border=\"1\" class=\"dataframe\">\n",
       "  <thead>\n",
       "    <tr style=\"text-align: right;\">\n",
       "      <th></th>\n",
       "      <th>click_id</th>\n",
       "      <th>is_attributed</th>\n",
       "    </tr>\n",
       "  </thead>\n",
       "  <tbody>\n",
       "    <tr>\n",
       "      <th>18790464</th>\n",
       "      <td>18790464</td>\n",
       "      <td>0.235438</td>\n",
       "    </tr>\n",
       "    <tr>\n",
       "      <th>18790465</th>\n",
       "      <td>18790465</td>\n",
       "      <td>0.000576</td>\n",
       "    </tr>\n",
       "    <tr>\n",
       "      <th>18790466</th>\n",
       "      <td>18790467</td>\n",
       "      <td>0.015148</td>\n",
       "    </tr>\n",
       "    <tr>\n",
       "      <th>18790467</th>\n",
       "      <td>18790466</td>\n",
       "      <td>0.041388</td>\n",
       "    </tr>\n",
       "    <tr>\n",
       "      <th>18790468</th>\n",
       "      <td>18790468</td>\n",
       "      <td>0.001498</td>\n",
       "    </tr>\n",
       "  </tbody>\n",
       "</table>\n",
       "</div>"
      ],
      "text/plain": [
       "          click_id  is_attributed\n",
       "18790464  18790464       0.235438\n",
       "18790465  18790465       0.000576\n",
       "18790466  18790467       0.015148\n",
       "18790467  18790466       0.041388\n",
       "18790468  18790468       0.001498"
      ]
     },
     "execution_count": 10,
     "metadata": {},
     "output_type": "execute_result"
    }
   ],
   "source": [
    "sub.tail()"
   ]
  }
 ],
 "metadata": {
  "kernelspec": {
   "display_name": "Python 3",
   "language": "python",
   "name": "python3"
  },
  "language_info": {
   "codemirror_mode": {
    "name": "ipython",
    "version": 3
   },
   "file_extension": ".py",
   "mimetype": "text/x-python",
   "name": "python",
   "nbconvert_exporter": "python",
   "pygments_lexer": "ipython3",
   "version": "3.6.5"
  },
  "varInspector": {
   "cols": {
    "lenName": 16,
    "lenType": 16,
    "lenVar": 40
   },
   "kernels_config": {
    "python": {
     "delete_cmd_postfix": "",
     "delete_cmd_prefix": "del ",
     "library": "var_list.py",
     "varRefreshCmd": "print(var_dic_list())"
    },
    "r": {
     "delete_cmd_postfix": ") ",
     "delete_cmd_prefix": "rm(",
     "library": "var_list.r",
     "varRefreshCmd": "cat(var_dic_list()) "
    }
   },
   "types_to_exclude": [
    "module",
    "function",
    "builtin_function_or_method",
    "instance",
    "_Feature"
   ],
   "window_display": false
  }
 },
 "nbformat": 4,
 "nbformat_minor": 2
}
