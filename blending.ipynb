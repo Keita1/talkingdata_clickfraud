{
 "cells": [
  {
   "cell_type": "code",
   "execution_count": 1,
   "metadata": {},
   "outputs": [
    {
     "data": {
      "text/plain": [
       "[WindowsPath('data/blending'),\n",
       " WindowsPath('data/submission'),\n",
       " WindowsPath('data/test_nextclick_FE.feather'),\n",
       " WindowsPath('data/train_day8_3to16_nextclick_FE.feather'),\n",
       " WindowsPath('data/train_day9_3to16_nextclick_FE.feather'),\n",
       " WindowsPath('data/validation')]"
      ]
     },
     "execution_count": 1,
     "metadata": {},
     "output_type": "execute_result"
    }
   ],
   "source": [
    "%matplotlib inline\n",
    "%reload_ext autoreload\n",
    "%autoreload 2\n",
    "\n",
    "\n",
    "from pathlib import Path\n",
    "\n",
    "import gc\n",
    "import time\n",
    "\n",
    "from utils import *\n",
    "\n",
    "seed=42\n",
    "PATH = Path('data')\n",
    "list(PATH.iterdir())"
   ]
  },
  {
   "cell_type": "markdown",
   "metadata": {},
   "source": [
    "# Simple average"
   ]
  },
  {
   "cell_type": "code",
   "execution_count": 18,
   "metadata": {},
   "outputs": [],
   "source": [
    "nn_pred = pd.read_csv(PATH/'submission'/'imbalanced_data.csv') # .9728\n",
    "fm_pred =  pd.read_csv(PATH/'submission'/'wordbatch_fm_ftrl.csv')# .9769\n",
    "xgb_pred = pd.read_csv(PATH/'submission'/'XGB_FE_day89_ratio2_10mil_moreite.csv') # .9777"
   ]
  },
  {
   "cell_type": "code",
   "execution_count": 19,
   "metadata": {},
   "outputs": [],
   "source": [
    "final_pred = xgb_pred.is_attributed*0.6 + nn_pred.is_attributed*0.2+fm_pred.is_attributed*0.2"
   ]
  },
  {
   "cell_type": "code",
   "execution_count": 20,
   "metadata": {},
   "outputs": [],
   "source": [
    "sub = xgb_pred.copy()\n",
    "sub.is_attributed = final_pred\n",
    "sub.to_csv(PATH/'submission'/'blending_622.csv',index=False)"
   ]
  },
  {
   "cell_type": "code",
   "execution_count": 17,
   "metadata": {},
   "outputs": [
    {
     "data": {
      "text/plain": [
       "click_id           int64\n",
       "is_attributed    float64\n",
       "dtype: object"
      ]
     },
     "execution_count": 17,
     "metadata": {},
     "output_type": "execute_result"
    }
   ],
   "source": [
    "sub.dtypes"
   ]
  }
 ],
 "metadata": {
  "kernelspec": {
   "display_name": "Python 3",
   "language": "python",
   "name": "python3"
  },
  "language_info": {
   "codemirror_mode": {
    "name": "ipython",
    "version": 3
   },
   "file_extension": ".py",
   "mimetype": "text/x-python",
   "name": "python",
   "nbconvert_exporter": "python",
   "pygments_lexer": "ipython3",
   "version": "3.6.4"
  }
 },
 "nbformat": 4,
 "nbformat_minor": 2
}
