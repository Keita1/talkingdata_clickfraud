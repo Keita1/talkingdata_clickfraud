{
 "cells": [
  {
   "cell_type": "code",
   "execution_count": 1,
   "metadata": {},
   "outputs": [
    {
     "data": {
      "text/plain": [
       "[PosixPath('data/train_10mil.feather'),\n",
       " PosixPath('data/val_df_1mil_fe_v1.feather'),\n",
       " PosixPath('data/train_df_1mil_fe_v1.feather'),\n",
       " PosixPath('data/train_df_10mil_fe_v1.feather'),\n",
       " PosixPath('data/train.csv'),\n",
       " PosixPath('data/sample_submission.csv'),\n",
       " PosixPath('data/train_50mil.feather'),\n",
       " PosixPath('data/train_sample.csv'),\n",
       " PosixPath('data/val_df_10mil_fe_v1.feather'),\n",
       " PosixPath('data/train_1mil.feather'),\n",
       " PosixPath('data/test.csv'),\n",
       " PosixPath('data/train_43mil.feather'),\n",
       " PosixPath('data/train_10mil_fe.feather')]"
      ]
     },
     "execution_count": 1,
     "metadata": {},
     "output_type": "execute_result"
    }
   ],
   "source": [
    "%matplotlib inline\n",
    "%reload_ext autoreload\n",
    "%autoreload 2\n",
    "\n",
    "import pandas as pd\n",
    "import numpy as np\n",
    "import matplotlib.pyplot as plt\n",
    "\n",
    "from pathlib import Path\n",
    "\n",
    "import gc\n",
    "import time\n",
    "\n",
    "from utils import *\n",
    "\n",
    "PATH = Path('data')\n",
    "list(PATH.iterdir())"
   ]
  },
  {
   "cell_type": "code",
   "execution_count": 2,
   "metadata": {},
   "outputs": [],
   "source": [
    "def mean_enc_smoothing(df,cols,targ,new_fea,glob_mean,alpha=0,df_val=None):\n",
    "    group_means = df.groupby(cols)[targ].mean()\n",
    "    n_group=df.groupby(cols).size()\n",
    "    \n",
    "    mean_df = (group_means*n_group + glob_mean*alpha)/ (n_group+alpha)\n",
    "    mean_df= mean_df.reset_index()\n",
    "    \n",
    "    df = pd.merge(df,mean_df,'left',on=cols).rename(columns={0:new_fea})\n",
    "    if not df_val is None:\n",
    "        print(f'Generating {new_fea}...')\n",
    "        df_val = pd.merge(df_val,mean_df,'left',on=cols).rename(columns={0:new_fea})\n",
    "        df_val[new_fea].fillna(glob_mean,inplace=True)\n",
    "        \n",
    "    return df,df_val\n",
    "\n",
    "def groupby_agg(spec,X_train,X_val=None):\n",
    "    # Name of the aggregation we're applying\n",
    "    agg_name = spec['agg_name'] if 'agg_name' in spec else spec['agg']\n",
    "    \n",
    "    # Info\n",
    "    print(f\"Grouping by {spec['groupby']}, and aggregating {spec['select']} with {agg_name}\")\n",
    "    \n",
    "    # Unique list of features to select\n",
    "    all_features = list(set(spec['groupby'] + [spec['select']]))\n",
    "    \n",
    "    # Name of new feature\n",
    "    new_feature = '{}_{}_{}'.format('_'.join(spec['groupby']), agg_name, spec['select'])\n",
    "    \n",
    "    # Perform the groupby\n",
    "    if spec['select']==None and spec['agg']=='size':\n",
    "        gp = X_train.groupby(spec['groupby']).size().reset_index().rename(columns={0:new_feature})\n",
    "    else:  \n",
    "        gp = X_train[all_features]. \\\n",
    "            groupby(spec['groupby'])[spec['select']]. \\\n",
    "            agg(spec['agg']). \\\n",
    "            reset_index(). \\\n",
    "            rename(index=str, columns={spec['select']: new_feature})\n",
    "        \n",
    "    # Merge back to X_train\n",
    "    X_train = X_train.merge(gp, on=spec['groupby'], how='left')\n",
    "    if not X_val is None:\n",
    "        print(f'Generating {new_feature} for validation set...')\n",
    "        X_val = X_val.merge(gp, on=spec['groupby'], how='left')\n",
    "        X_val[new_feature].fillna(0,inplace=True)\n",
    "    \n",
    "    return X_train,X_val\n",
    "\n",
    "def cum_count(cols,df):\n",
    "    new_fea = '_'.join(cols)+'_cumcount'\n",
    "    df[new_fea]=df.groupby(cols).cumcount()+1\n",
    "    return df\n",
    "\n",
    "def time_till_next_click(df,cols,new_fea):\n",
    "    df[new_fea]= df.groupby(cols).click_time.transform(lambda x: x.diff()).dt.seconds\n",
    "    df[new_fea].fillna(-1,inplace=True)\n",
    "    df[new_fea] = df[new_fea].astype(np.int32)\n",
    "    return df\n",
    "def time_feature(df):\n",
    "    df['day'] = df['click_time'].dt.day.astype('uint8')\n",
    "    df['hour'] = df['click_time'].dt.hour.astype('uint8')\n",
    "    df['minute'] = df['click_time'].dt.minute.astype('uint8')\n",
    "    df['second'] = df['click_time'].dt.second.astype('uint8')\n",
    "#     df.drop('click_time',axis=1,inplace=True)\n",
    "#     gc.collect()\n",
    "    return df\n",
    "\n",
    "def downcast_dtypes(df):\n",
    "    '''\n",
    "    Changes column types in the dataframe: \n",
    "\n",
    "        `float64` type to `float32`\n",
    "        `int64`   type to `int32`\n",
    "    '''\n",
    "\n",
    "    # Select columns to downcast\n",
    "    float_cols = [c for c in df if df[c].dtype == \"float64\"]\n",
    "    int_cols =   [c for c in df if df[c].dtype == \"int64\"]\n",
    "\n",
    "    # Downcast\n",
    "    df[float_cols] = df[float_cols].astype(np.float32)\n",
    "    df[int_cols]   = df[int_cols].astype(np.int32)\n",
    "\n",
    "    return df"
   ]
  },
  {
   "cell_type": "markdown",
   "metadata": {},
   "source": [
    "# Get test data"
   ]
  },
  {
   "cell_type": "code",
   "execution_count": 22,
   "metadata": {},
   "outputs": [
    {
     "data": {
      "text/html": [
       "<div>\n",
       "<style scoped>\n",
       "    .dataframe tbody tr th:only-of-type {\n",
       "        vertical-align: middle;\n",
       "    }\n",
       "\n",
       "    .dataframe tbody tr th {\n",
       "        vertical-align: top;\n",
       "    }\n",
       "\n",
       "    .dataframe thead th {\n",
       "        text-align: right;\n",
       "    }\n",
       "</style>\n",
       "<table border=\"1\" class=\"dataframe\">\n",
       "  <thead>\n",
       "    <tr style=\"text-align: right;\">\n",
       "      <th></th>\n",
       "      <th>click_id</th>\n",
       "      <th>ip</th>\n",
       "      <th>app</th>\n",
       "      <th>device</th>\n",
       "      <th>os</th>\n",
       "      <th>channel</th>\n",
       "      <th>click_time</th>\n",
       "    </tr>\n",
       "  </thead>\n",
       "  <tbody>\n",
       "    <tr>\n",
       "      <th>0</th>\n",
       "      <td>0</td>\n",
       "      <td>5744</td>\n",
       "      <td>9</td>\n",
       "      <td>1</td>\n",
       "      <td>3</td>\n",
       "      <td>107</td>\n",
       "      <td>2017-11-10 04:00:00</td>\n",
       "    </tr>\n",
       "    <tr>\n",
       "      <th>1</th>\n",
       "      <td>1</td>\n",
       "      <td>119901</td>\n",
       "      <td>9</td>\n",
       "      <td>1</td>\n",
       "      <td>3</td>\n",
       "      <td>466</td>\n",
       "      <td>2017-11-10 04:00:00</td>\n",
       "    </tr>\n",
       "    <tr>\n",
       "      <th>2</th>\n",
       "      <td>2</td>\n",
       "      <td>72287</td>\n",
       "      <td>21</td>\n",
       "      <td>1</td>\n",
       "      <td>19</td>\n",
       "      <td>128</td>\n",
       "      <td>2017-11-10 04:00:00</td>\n",
       "    </tr>\n",
       "    <tr>\n",
       "      <th>3</th>\n",
       "      <td>3</td>\n",
       "      <td>78477</td>\n",
       "      <td>15</td>\n",
       "      <td>1</td>\n",
       "      <td>13</td>\n",
       "      <td>111</td>\n",
       "      <td>2017-11-10 04:00:00</td>\n",
       "    </tr>\n",
       "    <tr>\n",
       "      <th>4</th>\n",
       "      <td>4</td>\n",
       "      <td>123080</td>\n",
       "      <td>12</td>\n",
       "      <td>1</td>\n",
       "      <td>13</td>\n",
       "      <td>328</td>\n",
       "      <td>2017-11-10 04:00:00</td>\n",
       "    </tr>\n",
       "  </tbody>\n",
       "</table>\n",
       "</div>"
      ],
      "text/plain": [
       "   click_id      ip  app  device  os  channel           click_time\n",
       "0         0    5744    9       1   3      107  2017-11-10 04:00:00\n",
       "1         1  119901    9       1   3      466  2017-11-10 04:00:00\n",
       "2         2   72287   21       1  19      128  2017-11-10 04:00:00\n",
       "3         3   78477   15       1  13      111  2017-11-10 04:00:00\n",
       "4         4  123080   12       1  13      328  2017-11-10 04:00:00"
      ]
     },
     "execution_count": 22,
     "metadata": {},
     "output_type": "execute_result"
    }
   ],
   "source": [
    "test_df = get_feather('test.feather',PATH)\n",
    "test_df.head()"
   ]
  },
  {
   "cell_type": "code",
   "execution_count": 23,
   "metadata": {},
   "outputs": [
    {
     "data": {
      "text/html": [
       "<div>\n",
       "<style scoped>\n",
       "    .dataframe tbody tr th:only-of-type {\n",
       "        vertical-align: middle;\n",
       "    }\n",
       "\n",
       "    .dataframe tbody tr th {\n",
       "        vertical-align: top;\n",
       "    }\n",
       "\n",
       "    .dataframe thead th {\n",
       "        text-align: right;\n",
       "    }\n",
       "</style>\n",
       "<table border=\"1\" class=\"dataframe\">\n",
       "  <thead>\n",
       "    <tr style=\"text-align: right;\">\n",
       "      <th></th>\n",
       "      <th>click_id</th>\n",
       "      <th>ip</th>\n",
       "      <th>app</th>\n",
       "      <th>device</th>\n",
       "      <th>os</th>\n",
       "      <th>channel</th>\n",
       "      <th>click_time</th>\n",
       "    </tr>\n",
       "  </thead>\n",
       "  <tbody>\n",
       "    <tr>\n",
       "      <th>18790464</th>\n",
       "      <td>18790464</td>\n",
       "      <td>99442</td>\n",
       "      <td>9</td>\n",
       "      <td>1</td>\n",
       "      <td>13</td>\n",
       "      <td>127</td>\n",
       "      <td>2017-11-10 15:00:00</td>\n",
       "    </tr>\n",
       "    <tr>\n",
       "      <th>18790465</th>\n",
       "      <td>18790465</td>\n",
       "      <td>88046</td>\n",
       "      <td>23</td>\n",
       "      <td>1</td>\n",
       "      <td>37</td>\n",
       "      <td>153</td>\n",
       "      <td>2017-11-10 15:00:00</td>\n",
       "    </tr>\n",
       "    <tr>\n",
       "      <th>18790466</th>\n",
       "      <td>18790467</td>\n",
       "      <td>81398</td>\n",
       "      <td>18</td>\n",
       "      <td>1</td>\n",
       "      <td>17</td>\n",
       "      <td>265</td>\n",
       "      <td>2017-11-10 15:00:00</td>\n",
       "    </tr>\n",
       "    <tr>\n",
       "      <th>18790467</th>\n",
       "      <td>18790466</td>\n",
       "      <td>123236</td>\n",
       "      <td>27</td>\n",
       "      <td>1</td>\n",
       "      <td>13</td>\n",
       "      <td>122</td>\n",
       "      <td>2017-11-10 15:00:00</td>\n",
       "    </tr>\n",
       "    <tr>\n",
       "      <th>18790468</th>\n",
       "      <td>18790468</td>\n",
       "      <td>73516</td>\n",
       "      <td>12</td>\n",
       "      <td>2</td>\n",
       "      <td>27</td>\n",
       "      <td>265</td>\n",
       "      <td>2017-11-10 15:00:00</td>\n",
       "    </tr>\n",
       "  </tbody>\n",
       "</table>\n",
       "</div>"
      ],
      "text/plain": [
       "          click_id      ip  app  device  os  channel           click_time\n",
       "18790464  18790464   99442    9       1  13      127  2017-11-10 15:00:00\n",
       "18790465  18790465   88046   23       1  37      153  2017-11-10 15:00:00\n",
       "18790466  18790467   81398   18       1  17      265  2017-11-10 15:00:00\n",
       "18790467  18790466  123236   27       1  13      122  2017-11-10 15:00:00\n",
       "18790468  18790468   73516   12       2  27      265  2017-11-10 15:00:00"
      ]
     },
     "execution_count": 23,
     "metadata": {},
     "output_type": "execute_result"
    }
   ],
   "source": [
    "test_df.tail()"
   ]
  },
  {
   "cell_type": "code",
   "execution_count": 10,
   "metadata": {},
   "outputs": [],
   "source": [
    "test_df = time_feature(test_df)"
   ]
  },
  {
   "cell_type": "code",
   "execution_count": 11,
   "metadata": {},
   "outputs": [
    {
     "data": {
      "text/plain": [
       "4     3344125\n",
       "14    3261257\n",
       "13    3212566\n",
       "10    3127993\n",
       "9     2984808\n",
       "5     2858427\n",
       "15        499\n",
       "11        413\n",
       "6         381\n",
       "Name: hour, dtype: int64"
      ]
     },
     "execution_count": 11,
     "metadata": {},
     "output_type": "execute_result"
    }
   ],
   "source": [
    "test_df['hour'].value_counts()"
   ]
  },
  {
   "cell_type": "markdown",
   "metadata": {},
   "source": [
    "# Get full data"
   ]
  },
  {
   "cell_type": "code",
   "execution_count": null,
   "metadata": {},
   "outputs": [],
   "source": [
    "# df = pd.read_csv(PATH/'train.csv')\n",
    "\n",
    "\n",
    "# df = downcast_dtypes(df)\n",
    "\n",
    "# df.click_time = pd.to_datetime(df.click_time)\n",
    "\n",
    "# df['day'] = df['click_time'].dt.day.astype('uint8')\n",
    "\n",
    "# df.drop(df[df.day==6].index,inplace=True)\n",
    "\n",
    "# day7 = df.loc[df.day==9]\n",
    "\n",
    "# day7['hour'] = day7['click_time'].dt.hour.astype('uint8')\n",
    "\n",
    "# day7.day.value_counts()\n",
    "\n",
    "# day7 = day7[(day7.hour >=3) & (day7.hour <=16)].copy()\n",
    "\n",
    "# day7 = day7.reset_index().drop('index',axis=1)\n",
    "\n",
    "# day7.to_feather(PATH/'train_day9_3to16.feather')\n",
    "\n",
    "# gc.collect()"
   ]
  },
  {
   "cell_type": "markdown",
   "metadata": {},
   "source": [
    "# Get train data"
   ]
  },
  {
   "cell_type": "code",
   "execution_count": 11,
   "metadata": {},
   "outputs": [],
   "source": [
    "df = get_feather('train_50mil.feather',PATH)\n",
    "df.click_time = pd.to_datetime(df.click_time)"
   ]
  },
  {
   "cell_type": "code",
   "execution_count": 13,
   "metadata": {},
   "outputs": [
    {
     "data": {
      "text/plain": [
       "4     4032691\n",
       "5     3671741\n",
       "6     3570940\n",
       "13    3457523\n",
       "14    3443283\n",
       "12    3363917\n",
       "3     3351149\n",
       "11    3347741\n",
       "10    3304199\n",
       "7     3186240\n",
       "1     3082862\n",
       "2     3068887\n",
       "15    3026111\n",
       "9     2986204\n",
       "8     2804701\n",
       "0      301364\n",
       "16        447\n",
       "Name: hour, dtype: int64"
      ]
     },
     "execution_count": 13,
     "metadata": {},
     "output_type": "execute_result"
    }
   ],
   "source": []
  },
  {
   "cell_type": "markdown",
   "metadata": {},
   "source": [
    "## next click"
   ]
  },
  {
   "cell_type": "code",
   "execution_count": 6,
   "metadata": {},
   "outputs": [
    {
     "name": "stdout",
     "output_type": "stream",
     "text": [
      ">> Grouping by ['ip'], and saving time to next click in: ip_next_click\n",
      ">> Grouping by ['ip', 'app'], and saving time to next click in: ip_app_next_click\n",
      ">> Grouping by ['ip', 'channel'], and saving time to next click in: ip_channel_next_click\n",
      ">> Grouping by ['ip', 'os'], and saving time to next click in: ip_os_next_click\n"
     ]
    }
   ],
   "source": [
    "GROUP_BY_NEXT_CLICKS = [\n",
    "    {'groupby': ['ip']},\n",
    "    {'groupby': ['ip', 'app']},\n",
    "    {'groupby': ['ip', 'channel']},\n",
    "    {'groupby': ['ip', 'os']},\n",
    "]\n",
    "for spec in GROUP_BY_NEXT_CLICKS:\n",
    "    new_fea = '{}_next_click'.format('_'.join(spec['groupby']))\n",
    "    # Run calculation\n",
    "    print(f\">> Grouping by {spec['groupby']}, and saving time to next click in: {new_fea}\")\n",
    "    df = time_till_next_click(df,spec['groupby'],new_fea)"
   ]
  },
  {
   "cell_type": "code",
   "execution_count": 7,
   "metadata": {},
   "outputs": [
    {
     "data": {
      "text/html": [
       "<div>\n",
       "<style scoped>\n",
       "    .dataframe tbody tr th:only-of-type {\n",
       "        vertical-align: middle;\n",
       "    }\n",
       "\n",
       "    .dataframe tbody tr th {\n",
       "        vertical-align: top;\n",
       "    }\n",
       "\n",
       "    .dataframe thead th {\n",
       "        text-align: right;\n",
       "    }\n",
       "</style>\n",
       "<table border=\"1\" class=\"dataframe\">\n",
       "  <thead>\n",
       "    <tr style=\"text-align: right;\">\n",
       "      <th></th>\n",
       "      <th>ip</th>\n",
       "      <th>app</th>\n",
       "      <th>device</th>\n",
       "      <th>os</th>\n",
       "      <th>channel</th>\n",
       "      <th>click_time</th>\n",
       "      <th>is_attributed</th>\n",
       "      <th>ip_next_click</th>\n",
       "      <th>ip_app_next_click</th>\n",
       "      <th>ip_channel_next_click</th>\n",
       "      <th>ip_os_next_click</th>\n",
       "    </tr>\n",
       "  </thead>\n",
       "  <tbody>\n",
       "    <tr>\n",
       "      <th>9999995</th>\n",
       "      <td>121312</td>\n",
       "      <td>12</td>\n",
       "      <td>1</td>\n",
       "      <td>10</td>\n",
       "      <td>340</td>\n",
       "      <td>2017-11-09 16:00:00</td>\n",
       "      <td>0</td>\n",
       "      <td>0</td>\n",
       "      <td>82</td>\n",
       "      <td>2191</td>\n",
       "      <td>0</td>\n",
       "    </tr>\n",
       "    <tr>\n",
       "      <th>9999996</th>\n",
       "      <td>46894</td>\n",
       "      <td>3</td>\n",
       "      <td>1</td>\n",
       "      <td>19</td>\n",
       "      <td>211</td>\n",
       "      <td>2017-11-09 16:00:00</td>\n",
       "      <td>0</td>\n",
       "      <td>0</td>\n",
       "      <td>181</td>\n",
       "      <td>181</td>\n",
       "      <td>0</td>\n",
       "    </tr>\n",
       "    <tr>\n",
       "      <th>9999997</th>\n",
       "      <td>320126</td>\n",
       "      <td>1</td>\n",
       "      <td>1</td>\n",
       "      <td>13</td>\n",
       "      <td>274</td>\n",
       "      <td>2017-11-09 16:00:00</td>\n",
       "      <td>0</td>\n",
       "      <td>0</td>\n",
       "      <td>25</td>\n",
       "      <td>-1</td>\n",
       "      <td>0</td>\n",
       "    </tr>\n",
       "    <tr>\n",
       "      <th>9999998</th>\n",
       "      <td>189286</td>\n",
       "      <td>12</td>\n",
       "      <td>1</td>\n",
       "      <td>37</td>\n",
       "      <td>259</td>\n",
       "      <td>2017-11-09 16:00:00</td>\n",
       "      <td>0</td>\n",
       "      <td>1</td>\n",
       "      <td>4</td>\n",
       "      <td>4</td>\n",
       "      <td>1</td>\n",
       "    </tr>\n",
       "    <tr>\n",
       "      <th>9999999</th>\n",
       "      <td>106485</td>\n",
       "      <td>11</td>\n",
       "      <td>1</td>\n",
       "      <td>19</td>\n",
       "      <td>137</td>\n",
       "      <td>2017-11-09 16:00:00</td>\n",
       "      <td>0</td>\n",
       "      <td>5</td>\n",
       "      <td>6</td>\n",
       "      <td>6</td>\n",
       "      <td>55</td>\n",
       "    </tr>\n",
       "  </tbody>\n",
       "</table>\n",
       "</div>"
      ],
      "text/plain": [
       "             ip  app  device  os  channel          click_time  is_attributed  \\\n",
       "9999995  121312   12       1  10      340 2017-11-09 16:00:00              0   \n",
       "9999996   46894    3       1  19      211 2017-11-09 16:00:00              0   \n",
       "9999997  320126    1       1  13      274 2017-11-09 16:00:00              0   \n",
       "9999998  189286   12       1  37      259 2017-11-09 16:00:00              0   \n",
       "9999999  106485   11       1  19      137 2017-11-09 16:00:00              0   \n",
       "\n",
       "         ip_next_click  ip_app_next_click  ip_channel_next_click  \\\n",
       "9999995              0                 82                   2191   \n",
       "9999996              0                181                    181   \n",
       "9999997              0                 25                     -1   \n",
       "9999998              1                  4                      4   \n",
       "9999999              5                  6                      6   \n",
       "\n",
       "         ip_os_next_click  \n",
       "9999995                 0  \n",
       "9999996                 0  \n",
       "9999997                 0  \n",
       "9999998                 1  \n",
       "9999999                55  "
      ]
     },
     "execution_count": 7,
     "metadata": {},
     "output_type": "execute_result"
    }
   ],
   "source": [
    "df.tail()"
   ]
  },
  {
   "cell_type": "code",
   "execution_count": 8,
   "metadata": {},
   "outputs": [],
   "source": [
    "df.to_feather(PATH/'train_10mil_fe.feather')"
   ]
  },
  {
   "cell_type": "markdown",
   "metadata": {},
   "source": [
    "## time feature"
   ]
  },
  {
   "cell_type": "code",
   "execution_count": 9,
   "metadata": {},
   "outputs": [],
   "source": [
    "df = time_feature(df)"
   ]
  },
  {
   "cell_type": "markdown",
   "metadata": {},
   "source": [
    "## cum count"
   ]
  },
  {
   "cell_type": "code",
   "execution_count": 10,
   "metadata": {},
   "outputs": [],
   "source": [
    "CUMCOUNT_GROUP=[\n",
    "    ['ip','device','os'],\n",
    "    ['ip','device','os','app']\n",
    "    # TODO: what else can we put here\n",
    "]"
   ]
  },
  {
   "cell_type": "code",
   "execution_count": 11,
   "metadata": {},
   "outputs": [],
   "source": [
    "for each in CUMCOUNT_GROUP:\n",
    "    df = cum_count(each,df)"
   ]
  },
  {
   "cell_type": "markdown",
   "metadata": {},
   "source": [
    "## split train val"
   ]
  },
  {
   "cell_type": "code",
   "execution_count": 12,
   "metadata": {},
   "outputs": [
    {
     "data": {
      "text/plain": [
       "8000000"
      ]
     },
     "execution_count": 12,
     "metadata": {},
     "output_type": "execute_result"
    }
   ],
   "source": [
    "train_size = int(df.shape[0]*.8)\n",
    "train_size"
   ]
  },
  {
   "cell_type": "code",
   "execution_count": 13,
   "metadata": {},
   "outputs": [
    {
     "data": {
      "text/plain": [
       "132"
      ]
     },
     "execution_count": 13,
     "metadata": {},
     "output_type": "execute_result"
    }
   ],
   "source": [
    "train_df = df.loc[:train_size-1,:].reset_index().drop('index',axis=1)\n",
    "val_df = df.loc[train_size:,:].reset_index().drop('index',axis=1)\n",
    "del df\n",
    "gc.collect()"
   ]
  },
  {
   "cell_type": "code",
   "execution_count": 14,
   "metadata": {},
   "outputs": [
    {
     "data": {
      "text/html": [
       "<div>\n",
       "<style scoped>\n",
       "    .dataframe tbody tr th:only-of-type {\n",
       "        vertical-align: middle;\n",
       "    }\n",
       "\n",
       "    .dataframe tbody tr th {\n",
       "        vertical-align: top;\n",
       "    }\n",
       "\n",
       "    .dataframe thead th {\n",
       "        text-align: right;\n",
       "    }\n",
       "</style>\n",
       "<table border=\"1\" class=\"dataframe\">\n",
       "  <thead>\n",
       "    <tr style=\"text-align: right;\">\n",
       "      <th></th>\n",
       "      <th>ip</th>\n",
       "      <th>app</th>\n",
       "      <th>device</th>\n",
       "      <th>os</th>\n",
       "      <th>channel</th>\n",
       "      <th>is_attributed</th>\n",
       "      <th>ip_next_click</th>\n",
       "      <th>ip_app_next_click</th>\n",
       "      <th>ip_channel_next_click</th>\n",
       "      <th>ip_os_next_click</th>\n",
       "      <th>day</th>\n",
       "      <th>hour</th>\n",
       "      <th>minute</th>\n",
       "      <th>second</th>\n",
       "      <th>ip_device_os_cumcount</th>\n",
       "      <th>ip_device_os_app_cumcount</th>\n",
       "    </tr>\n",
       "  </thead>\n",
       "  <tbody>\n",
       "    <tr>\n",
       "      <th>7999995</th>\n",
       "      <td>25071</td>\n",
       "      <td>3</td>\n",
       "      <td>1</td>\n",
       "      <td>13</td>\n",
       "      <td>137</td>\n",
       "      <td>0</td>\n",
       "      <td>6</td>\n",
       "      <td>8</td>\n",
       "      <td>19</td>\n",
       "      <td>14</td>\n",
       "      <td>9</td>\n",
       "      <td>15</td>\n",
       "      <td>18</td>\n",
       "      <td>36</td>\n",
       "      <td>751</td>\n",
       "      <td>102</td>\n",
       "    </tr>\n",
       "    <tr>\n",
       "      <th>7999996</th>\n",
       "      <td>32772</td>\n",
       "      <td>18</td>\n",
       "      <td>1</td>\n",
       "      <td>13</td>\n",
       "      <td>107</td>\n",
       "      <td>0</td>\n",
       "      <td>73</td>\n",
       "      <td>86</td>\n",
       "      <td>86</td>\n",
       "      <td>73</td>\n",
       "      <td>9</td>\n",
       "      <td>15</td>\n",
       "      <td>18</td>\n",
       "      <td>36</td>\n",
       "      <td>50</td>\n",
       "      <td>3</td>\n",
       "    </tr>\n",
       "    <tr>\n",
       "      <th>7999997</th>\n",
       "      <td>5023</td>\n",
       "      <td>12</td>\n",
       "      <td>1</td>\n",
       "      <td>37</td>\n",
       "      <td>205</td>\n",
       "      <td>0</td>\n",
       "      <td>3</td>\n",
       "      <td>101</td>\n",
       "      <td>2793</td>\n",
       "      <td>3</td>\n",
       "      <td>9</td>\n",
       "      <td>15</td>\n",
       "      <td>18</td>\n",
       "      <td>36</td>\n",
       "      <td>48</td>\n",
       "      <td>2</td>\n",
       "    </tr>\n",
       "    <tr>\n",
       "      <th>7999998</th>\n",
       "      <td>48212</td>\n",
       "      <td>2</td>\n",
       "      <td>1</td>\n",
       "      <td>49</td>\n",
       "      <td>237</td>\n",
       "      <td>0</td>\n",
       "      <td>0</td>\n",
       "      <td>7</td>\n",
       "      <td>12</td>\n",
       "      <td>79</td>\n",
       "      <td>9</td>\n",
       "      <td>15</td>\n",
       "      <td>18</td>\n",
       "      <td>36</td>\n",
       "      <td>169</td>\n",
       "      <td>22</td>\n",
       "    </tr>\n",
       "    <tr>\n",
       "      <th>7999999</th>\n",
       "      <td>190420</td>\n",
       "      <td>21</td>\n",
       "      <td>1</td>\n",
       "      <td>18</td>\n",
       "      <td>232</td>\n",
       "      <td>0</td>\n",
       "      <td>0</td>\n",
       "      <td>8081</td>\n",
       "      <td>8081</td>\n",
       "      <td>0</td>\n",
       "      <td>9</td>\n",
       "      <td>15</td>\n",
       "      <td>18</td>\n",
       "      <td>36</td>\n",
       "      <td>9</td>\n",
       "      <td>1</td>\n",
       "    </tr>\n",
       "  </tbody>\n",
       "</table>\n",
       "</div>"
      ],
      "text/plain": [
       "             ip  app  device  os  channel  is_attributed  ip_next_click  \\\n",
       "7999995   25071    3       1  13      137              0              6   \n",
       "7999996   32772   18       1  13      107              0             73   \n",
       "7999997    5023   12       1  37      205              0              3   \n",
       "7999998   48212    2       1  49      237              0              0   \n",
       "7999999  190420   21       1  18      232              0              0   \n",
       "\n",
       "         ip_app_next_click  ip_channel_next_click  ip_os_next_click  day  \\\n",
       "7999995                  8                     19                14    9   \n",
       "7999996                 86                     86                73    9   \n",
       "7999997                101                   2793                 3    9   \n",
       "7999998                  7                     12                79    9   \n",
       "7999999               8081                   8081                 0    9   \n",
       "\n",
       "         hour  minute  second  ip_device_os_cumcount  \\\n",
       "7999995    15      18      36                    751   \n",
       "7999996    15      18      36                     50   \n",
       "7999997    15      18      36                     48   \n",
       "7999998    15      18      36                    169   \n",
       "7999999    15      18      36                      9   \n",
       "\n",
       "         ip_device_os_app_cumcount  \n",
       "7999995                        102  \n",
       "7999996                          3  \n",
       "7999997                          2  \n",
       "7999998                         22  \n",
       "7999999                          1  "
      ]
     },
     "execution_count": 14,
     "metadata": {},
     "output_type": "execute_result"
    }
   ],
   "source": [
    "train_df.tail()"
   ]
  },
  {
   "cell_type": "code",
   "execution_count": 15,
   "metadata": {},
   "outputs": [
    {
     "data": {
      "text/html": [
       "<div>\n",
       "<style scoped>\n",
       "    .dataframe tbody tr th:only-of-type {\n",
       "        vertical-align: middle;\n",
       "    }\n",
       "\n",
       "    .dataframe tbody tr th {\n",
       "        vertical-align: top;\n",
       "    }\n",
       "\n",
       "    .dataframe thead th {\n",
       "        text-align: right;\n",
       "    }\n",
       "</style>\n",
       "<table border=\"1\" class=\"dataframe\">\n",
       "  <thead>\n",
       "    <tr style=\"text-align: right;\">\n",
       "      <th></th>\n",
       "      <th>ip</th>\n",
       "      <th>app</th>\n",
       "      <th>device</th>\n",
       "      <th>os</th>\n",
       "      <th>channel</th>\n",
       "      <th>is_attributed</th>\n",
       "      <th>ip_next_click</th>\n",
       "      <th>ip_app_next_click</th>\n",
       "      <th>ip_channel_next_click</th>\n",
       "      <th>ip_os_next_click</th>\n",
       "      <th>day</th>\n",
       "      <th>hour</th>\n",
       "      <th>minute</th>\n",
       "      <th>second</th>\n",
       "      <th>ip_device_os_cumcount</th>\n",
       "      <th>ip_device_os_app_cumcount</th>\n",
       "    </tr>\n",
       "  </thead>\n",
       "  <tbody>\n",
       "    <tr>\n",
       "      <th>0</th>\n",
       "      <td>180553</td>\n",
       "      <td>14</td>\n",
       "      <td>1</td>\n",
       "      <td>15</td>\n",
       "      <td>134</td>\n",
       "      <td>0</td>\n",
       "      <td>1</td>\n",
       "      <td>84</td>\n",
       "      <td>513</td>\n",
       "      <td>1</td>\n",
       "      <td>9</td>\n",
       "      <td>15</td>\n",
       "      <td>18</td>\n",
       "      <td>36</td>\n",
       "      <td>66</td>\n",
       "      <td>9</td>\n",
       "    </tr>\n",
       "    <tr>\n",
       "      <th>1</th>\n",
       "      <td>216547</td>\n",
       "      <td>3</td>\n",
       "      <td>1</td>\n",
       "      <td>47</td>\n",
       "      <td>480</td>\n",
       "      <td>0</td>\n",
       "      <td>0</td>\n",
       "      <td>0</td>\n",
       "      <td>-1</td>\n",
       "      <td>0</td>\n",
       "      <td>9</td>\n",
       "      <td>15</td>\n",
       "      <td>18</td>\n",
       "      <td>36</td>\n",
       "      <td>4</td>\n",
       "      <td>2</td>\n",
       "    </tr>\n",
       "    <tr>\n",
       "      <th>2</th>\n",
       "      <td>78833</td>\n",
       "      <td>3</td>\n",
       "      <td>1</td>\n",
       "      <td>19</td>\n",
       "      <td>280</td>\n",
       "      <td>0</td>\n",
       "      <td>0</td>\n",
       "      <td>7</td>\n",
       "      <td>12</td>\n",
       "      <td>0</td>\n",
       "      <td>9</td>\n",
       "      <td>15</td>\n",
       "      <td>18</td>\n",
       "      <td>36</td>\n",
       "      <td>109</td>\n",
       "      <td>33</td>\n",
       "    </tr>\n",
       "    <tr>\n",
       "      <th>3</th>\n",
       "      <td>77048</td>\n",
       "      <td>12</td>\n",
       "      <td>1</td>\n",
       "      <td>19</td>\n",
       "      <td>340</td>\n",
       "      <td>0</td>\n",
       "      <td>0</td>\n",
       "      <td>6</td>\n",
       "      <td>144</td>\n",
       "      <td>10</td>\n",
       "      <td>9</td>\n",
       "      <td>15</td>\n",
       "      <td>18</td>\n",
       "      <td>36</td>\n",
       "      <td>1485</td>\n",
       "      <td>203</td>\n",
       "    </tr>\n",
       "    <tr>\n",
       "      <th>4</th>\n",
       "      <td>119349</td>\n",
       "      <td>7</td>\n",
       "      <td>1</td>\n",
       "      <td>9</td>\n",
       "      <td>101</td>\n",
       "      <td>0</td>\n",
       "      <td>0</td>\n",
       "      <td>1</td>\n",
       "      <td>1</td>\n",
       "      <td>0</td>\n",
       "      <td>9</td>\n",
       "      <td>15</td>\n",
       "      <td>18</td>\n",
       "      <td>36</td>\n",
       "      <td>528</td>\n",
       "      <td>53</td>\n",
       "    </tr>\n",
       "  </tbody>\n",
       "</table>\n",
       "</div>"
      ],
      "text/plain": [
       "       ip  app  device  os  channel  is_attributed  ip_next_click  \\\n",
       "0  180553   14       1  15      134              0              1   \n",
       "1  216547    3       1  47      480              0              0   \n",
       "2   78833    3       1  19      280              0              0   \n",
       "3   77048   12       1  19      340              0              0   \n",
       "4  119349    7       1   9      101              0              0   \n",
       "\n",
       "   ip_app_next_click  ip_channel_next_click  ip_os_next_click  day  hour  \\\n",
       "0                 84                    513                 1    9    15   \n",
       "1                  0                     -1                 0    9    15   \n",
       "2                  7                     12                 0    9    15   \n",
       "3                  6                    144                10    9    15   \n",
       "4                  1                      1                 0    9    15   \n",
       "\n",
       "   minute  second  ip_device_os_cumcount  ip_device_os_app_cumcount  \n",
       "0      18      36                     66                          9  \n",
       "1      18      36                      4                          2  \n",
       "2      18      36                    109                         33  \n",
       "3      18      36                   1485                        203  \n",
       "4      18      36                    528                         53  "
      ]
     },
     "execution_count": 15,
     "metadata": {},
     "output_type": "execute_result"
    }
   ],
   "source": [
    "val_df.head()"
   ]
  },
  {
   "cell_type": "markdown",
   "metadata": {},
   "source": [
    "# Mean encoding with smoothing"
   ]
  },
  {
   "cell_type": "code",
   "execution_count": 16,
   "metadata": {},
   "outputs": [],
   "source": [
    "ATTRIBUTION_CATEGORIES = [        \n",
    "    # V1 Features #\n",
    "    ###############\n",
    "    ['ip'],['app'], ['device'], ['channel'],\n",
    "    \n",
    "    # V2 Features #\n",
    "    ###############\n",
    "    ['app', 'channel'],\n",
    "    ['app', 'os'],\n",
    "    ['app', 'device'],\n",
    "    \n",
    "    # TODO: group by ['ip',...]\n",
    "\n",
    "    \n",
    "]"
   ]
  },
  {
   "cell_type": "code",
   "execution_count": 17,
   "metadata": {},
   "outputs": [
    {
     "data": {
      "text/plain": [
       "0.00236425"
      ]
     },
     "execution_count": 17,
     "metadata": {},
     "output_type": "execute_result"
    }
   ],
   "source": [
    "glob_mean = train_df.is_attributed.mean()\n",
    "glob_mean"
   ]
  },
  {
   "cell_type": "code",
   "execution_count": 18,
   "metadata": {},
   "outputs": [
    {
     "name": "stdout",
     "output_type": "stream",
     "text": [
      "Generating ip_mean_target...\n",
      "Generating app_mean_target...\n",
      "Generating device_mean_target...\n",
      "Generating channel_mean_target...\n",
      "Generating app_channel_mean_target...\n",
      "Generating app_os_mean_target...\n",
      "Generating app_device_mean_target...\n",
      "CPU times: user 22.5 s, sys: 18.1 s, total: 40.6 s\n",
      "Wall time: 13.6 s\n"
     ]
    }
   ],
   "source": [
    "%%time\n",
    "for cols in ATTRIBUTION_CATEGORIES:\n",
    "    new_fea = '_'.join(cols)+'_mean_target'\n",
    "    train_df,val_df = mean_enc_smoothing(train_df,cols,'is_attributed',\n",
    "                                   new_fea,glob_mean,alpha=1,df_val=val_df)"
   ]
  },
  {
   "cell_type": "markdown",
   "metadata": {},
   "source": [
    "# Group-by aggregation"
   ]
  },
  {
   "cell_type": "code",
   "execution_count": 19,
   "metadata": {},
   "outputs": [
    {
     "name": "stdout",
     "output_type": "stream",
     "text": [
      "Grouping by ['ip', 'app', 'channel'], and aggregating day with var\n",
      "Generating ip_app_channel_var_day for validation set...\n",
      "Grouping by ['ip', 'app', 'os'], and aggregating hour with var\n",
      "Generating ip_app_os_var_hour for validation set...\n",
      "Grouping by ['ip', 'day', 'channel'], and aggregating hour with var\n",
      "Generating ip_day_channel_var_hour for validation set...\n",
      "Grouping by ['ip', 'day', 'hour'], and aggregating channel with count\n",
      "Generating ip_day_hour_count_channel for validation set...\n",
      "Grouping by ['ip', 'app'], and aggregating channel with count\n",
      "Generating ip_app_count_channel for validation set...\n",
      "Grouping by ['ip', 'app', 'os'], and aggregating channel with count\n",
      "Generating ip_app_os_count_channel for validation set...\n",
      "Grouping by ['ip', 'app', 'day', 'hour'], and aggregating channel with count\n",
      "Generating ip_app_day_hour_count_channel for validation set...\n",
      "Grouping by ['ip', 'app', 'channel'], and aggregating hour with mean\n",
      "Generating ip_app_channel_mean_hour for validation set...\n",
      "Grouping by ['app'], and aggregating ip with AvgViewPerDistinct\n",
      "Generating app_AvgViewPerDistinct_ip for validation set...\n",
      "Grouping by ['ip'], and aggregating channel with count\n",
      "Generating ip_count_channel for validation set...\n",
      "Grouping by ['app'], and aggregating channel with count\n",
      "Generating app_count_channel for validation set...\n",
      "Grouping by ['channel'], and aggregating app with count\n",
      "Generating channel_count_app for validation set...\n",
      "Grouping by ['ip', 'device', 'os'], and aggregating None with size\n",
      "Generating ip_device_os_size_None for validation set...\n",
      "Grouping by ['ip', 'device', 'os', 'app'], and aggregating None with size\n",
      "Generating ip_device_os_app_size_None for validation set...\n"
     ]
    }
   ],
   "source": [
    "# Define all the groupby transformations\n",
    "GROUPBY_AGGREGATIONS = [\n",
    "    \n",
    "    # V1 - GroupBy Features #\n",
    "    #########################    \n",
    "#     # Variance in day, for ip-app-channel\n",
    "    {'groupby': ['ip','app','channel'], 'select': 'day', 'agg': 'var'},\n",
    "    # Variance in hour, for ip-app-os\n",
    "    {'groupby': ['ip','app','os'], 'select': 'hour', 'agg': 'var'},\n",
    "    # Variance in hour, for ip-day-channel\n",
    "    {'groupby': ['ip','day','channel'], 'select': 'hour', 'agg': 'var'},\n",
    "    \n",
    "    # Count, for ip-day-hour\n",
    "    {'groupby': ['ip','day','hour'], 'select': 'channel', 'agg': 'count'},\n",
    "    # Count, for ip-app\n",
    "    {'groupby': ['ip', 'app'], 'select': 'channel', 'agg': 'count'},        \n",
    "    # Count, for ip-app-os\n",
    "    {'groupby': ['ip', 'app', 'os'], 'select': 'channel', 'agg': 'count'},\n",
    "    # Count, for ip-app-day-hour\n",
    "    {'groupby': ['ip','app','day','hour'], 'select': 'channel', 'agg': 'count'},\n",
    "    # Mean hour, for ip-app-channel\n",
    "    {'groupby': ['ip','app','channel'], 'select': 'hour', 'agg': 'mean'}, \n",
    "    \n",
    "    # V2 - GroupBy Features #\n",
    "    #########################\n",
    "    # Average clicks on app by distinct users; is it an app they return to?\n",
    "    {'groupby': ['app'], \n",
    "     'select': 'ip', \n",
    "     'agg': lambda x: float(len(x)) / len(x.unique()), \n",
    "     'agg_name': 'AvgViewPerDistinct'\n",
    "    },\n",
    "    \n",
    "    # How popular is the app or channel?\n",
    "    {'groupby': ['ip'], 'select': 'channel', 'agg': 'count'},\n",
    "    {'groupby': ['app'], 'select': 'channel', 'agg': 'count'},\n",
    "    {'groupby': ['channel'], 'select': 'app', 'agg': 'count'},\n",
    "    \n",
    "    \n",
    "    # Size calculation\n",
    "    {'groupby': ['ip','device','os'], 'select': None, 'agg': 'size'},\n",
    "    {'groupby': ['ip','device','os','app'], 'select': None, 'agg': 'size'}\n",
    "]\n",
    "\n",
    "# Apply all the groupby transformations\n",
    "for spec in GROUPBY_AGGREGATIONS:\n",
    "    train_df,val_df=groupby_agg(spec,train_df,val_df)"
   ]
  },
  {
   "cell_type": "code",
   "execution_count": 20,
   "metadata": {},
   "outputs": [
    {
     "data": {
      "text/plain": [
       "(8000000, 37)"
      ]
     },
     "execution_count": 20,
     "metadata": {},
     "output_type": "execute_result"
    },
    {
     "data": {
      "text/plain": [
       "(2000000, 37)"
      ]
     },
     "execution_count": 20,
     "metadata": {},
     "output_type": "execute_result"
    }
   ],
   "source": [
    "train_df.shape\n",
    "val_df.shape"
   ]
  },
  {
   "cell_type": "code",
   "execution_count": 23,
   "metadata": {},
   "outputs": [
    {
     "data": {
      "text/plain": [
       "ip                                     0\n",
       "app                                    0\n",
       "device                                 0\n",
       "os                                     0\n",
       "channel                                0\n",
       "is_attributed                          0\n",
       "ip_next_click                          0\n",
       "ip_app_next_click                      0\n",
       "ip_channel_next_click                  0\n",
       "ip_os_next_click                       0\n",
       "day                                    0\n",
       "hour                                   0\n",
       "minute                                 0\n",
       "second                                 0\n",
       "ip_device_os_cumcount                  0\n",
       "ip_device_os_app_cumcount              0\n",
       "ip_mean_target                         0\n",
       "app_mean_target                        0\n",
       "device_mean_target                     0\n",
       "channel_mean_target                    0\n",
       "app_channel_mean_target                0\n",
       "app_os_mean_target                     0\n",
       "app_device_mean_target                 0\n",
       "ip_app_channel_var_day           1198754\n",
       "ip_app_os_var_hour               1432571\n",
       "ip_day_channel_var_hour           720952\n",
       "ip_day_hour_count_channel              0\n",
       "ip_app_count_channel                   0\n",
       "ip_app_os_count_channel                0\n",
       "ip_app_day_hour_count_channel          0\n",
       "ip_app_channel_mean_hour               0\n",
       "app_AvgViewPerDistinct_ip              0\n",
       "ip_count_channel                       0\n",
       "app_count_channel                      0\n",
       "channel_count_app                      0\n",
       "ip_device_os_size_None                 0\n",
       "ip_device_os_app_size_None             0\n",
       "dtype: int64"
      ]
     },
     "execution_count": 23,
     "metadata": {},
     "output_type": "execute_result"
    }
   ],
   "source": [
    "train_df.isnull().sum()"
   ]
  },
  {
   "cell_type": "code",
   "execution_count": 21,
   "metadata": {},
   "outputs": [],
   "source": [
    "train_df = downcast_dtypes(train_df)\n",
    "val_df = downcast_dtypes(val_df)"
   ]
  },
  {
   "cell_type": "code",
   "execution_count": 22,
   "metadata": {},
   "outputs": [],
   "source": [
    "train_df.to_feather(PATH / 'train_df_10mil_fe_v1.feather')\n",
    "val_df.to_feather(PATH / 'val_df_10mil_fe_v1.feather')"
   ]
  }
 ],
 "metadata": {
  "kernelspec": {
   "display_name": "Python 3",
   "language": "python",
   "name": "python3"
  },
  "language_info": {
   "codemirror_mode": {
    "name": "ipython",
    "version": 3
   },
   "file_extension": ".py",
   "mimetype": "text/x-python",
   "name": "python",
   "nbconvert_exporter": "python",
   "pygments_lexer": "ipython3",
   "version": "3.6.5"
  }
 },
 "nbformat": 4,
 "nbformat_minor": 2
}
