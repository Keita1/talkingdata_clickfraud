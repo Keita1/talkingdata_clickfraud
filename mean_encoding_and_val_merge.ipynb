{
 "cells": [
  {
   "cell_type": "code",
   "execution_count": 1,
   "metadata": {},
   "outputs": [
    {
     "data": {
      "text/plain": [
       "[PosixPath('data/train_no_att_time.csv'),\n",
       " PosixPath('data/test.feather'),\n",
       " PosixPath('data/submission'),\n",
       " PosixPath('data/train_day8_3to16_FE.feather'),\n",
       " PosixPath('data/train_df_10mil_fe_v1.feather'),\n",
       " PosixPath('data/sample_submission.csv'),\n",
       " PosixPath('data/train_day9_3to16_FE.feather'),\n",
       " PosixPath('data/train_sample.csv'),\n",
       " PosixPath('data/train_day7_3to16_FE.feather'),\n",
       " PosixPath('data/dtree.dot'),\n",
       " PosixPath('data/test_FE.feather'),\n",
       " PosixPath('data/val_idxs.p'),\n",
       " PosixPath('data/mean_enc_df'),\n",
       " PosixPath('data/test_nextclick.feather'),\n",
       " PosixPath('data/validation')]"
      ]
     },
     "execution_count": 1,
     "metadata": {},
     "output_type": "execute_result"
    }
   ],
   "source": [
    "%matplotlib inline\n",
    "%reload_ext autoreload\n",
    "%autoreload 2\n",
    "\n",
    "import pandas as pd\n",
    "import numpy as np\n",
    "import matplotlib.pyplot as plt\n",
    "\n",
    "from pathlib import Path\n",
    "\n",
    "import gc\n",
    "import time\n",
    "\n",
    "from utils import *\n",
    "\n",
    "PATH = Path('data')\n",
    "list(PATH.iterdir())\n"
   ]
  },
  {
   "cell_type": "code",
   "execution_count": 2,
   "metadata": {},
   "outputs": [],
   "source": [
    "seed=42\n",
    "np.random.seed(seed)"
   ]
  },
  {
   "cell_type": "markdown",
   "metadata": {},
   "source": [
    "# Day 7,8,9 calculating mean enc"
   ]
  },
  {
   "cell_type": "code",
   "execution_count": 3,
   "metadata": {},
   "outputs": [],
   "source": [
    "ATTRIBUTION_CATEGORIES = [        \n",
    "    # V1 Features #\n",
    "    ###############\n",
    "    ['ip'],['app'], ['device'], ['channel'],\n",
    "    \n",
    "    # V2 Features #\n",
    "    ###############\n",
    "    ['app', 'channel'],\n",
    "    ['app', 'os'],\n",
    "    ['app', 'device'],\n",
    "    \n",
    "    # TODO: group by ['ip',...]\n",
    "    ['channel', 'os'],\n",
    "    ['channel', 'device'],\n",
    "    ['os', 'device']\n",
    "    \n",
    "]"
   ]
  },
  {
   "cell_type": "code",
   "execution_count": 4,
   "metadata": {},
   "outputs": [],
   "source": [
    "day_x = get_feather('train_day7_3to16_FE.feather')"
   ]
  },
  {
   "cell_type": "code",
   "execution_count": 5,
   "metadata": {},
   "outputs": [
    {
     "name": "stdout",
     "output_type": "stream",
     "text": [
      "0.0025470922065127222\n"
     ]
    }
   ],
   "source": [
    "glob_mean = day_x.is_attributed.mean()\n",
    "print(glob_mean)"
   ]
  },
  {
   "cell_type": "code",
   "execution_count": 6,
   "metadata": {},
   "outputs": [
    {
     "name": "stdout",
     "output_type": "stream",
     "text": [
      "Generating ip_mean_target_prevday_alpha1 for day 7...\n",
      "Generating app_mean_target_prevday_alpha1 for day 7...\n",
      "Generating device_mean_target_prevday_alpha1 for day 7...\n",
      "Generating channel_mean_target_prevday_alpha1 for day 7...\n",
      "Generating app_channel_mean_target_prevday_alpha1 for day 7...\n",
      "Generating app_os_mean_target_prevday_alpha1 for day 7...\n",
      "Generating app_device_mean_target_prevday_alpha1 for day 7...\n",
      "Generating channel_os_mean_target_prevday_alpha1 for day 7...\n",
      "Generating channel_device_mean_target_prevday_alpha1 for day 7...\n",
      "Generating os_device_mean_target_prevday_alpha1 for day 7...\n",
      "Wall time: 55.6 s\n"
     ]
    }
   ],
   "source": [
    "%%time\n",
    "for cols in ATTRIBUTION_CATEGORIES:\n",
    "    new_fea = '_'.join(cols)+'_mean_target'\n",
    "    mean_enc_df_export(day_x,cols,'is_attributed',\n",
    "                                   new_fea,glob_mean,save_day=7,alpha=1)"
   ]
  },
  {
   "cell_type": "code",
   "execution_count": 7,
   "metadata": {},
   "outputs": [
    {
     "name": "stdout",
     "output_type": "stream",
     "text": [
      "0.002486067710347814\n",
      "Generating ip_mean_target_prevday_alpha1 for day 8...\n",
      "Generating app_mean_target_prevday_alpha1 for day 8...\n",
      "Generating device_mean_target_prevday_alpha1 for day 8...\n",
      "Generating channel_mean_target_prevday_alpha1 for day 8...\n",
      "Generating app_channel_mean_target_prevday_alpha1 for day 8...\n",
      "Generating app_os_mean_target_prevday_alpha1 for day 8...\n",
      "Generating app_device_mean_target_prevday_alpha1 for day 8...\n",
      "Generating channel_os_mean_target_prevday_alpha1 for day 8...\n",
      "Generating channel_device_mean_target_prevday_alpha1 for day 8...\n",
      "Generating os_device_mean_target_prevday_alpha1 for day 8...\n"
     ]
    }
   ],
   "source": [
    "save_day=8\n",
    "day_x = get_feather(f'train_day{save_day}_3to16_FE.feather')\n",
    "\n",
    "glob_mean = day_x.is_attributed.mean()\n",
    "print(glob_mean)\n",
    "\n",
    "\n",
    "for cols in ATTRIBUTION_CATEGORIES:\n",
    "    new_fea = '_'.join(cols)+'_mean_target'\n",
    "    mean_enc_df_export(day_x,cols,'is_attributed',\n",
    "                                   new_fea,glob_mean,save_day=save_day,alpha=1)"
   ]
  },
  {
   "cell_type": "code",
   "execution_count": 4,
   "metadata": {},
   "outputs": [
    {
     "name": "stdout",
     "output_type": "stream",
     "text": [
      "0.0025267018512712515\n",
      "Generating ip_mean_target_prevday_alpha1 for day 9...\n",
      "Generating app_mean_target_prevday_alpha1 for day 9...\n",
      "Generating device_mean_target_prevday_alpha1 for day 9...\n",
      "Generating channel_mean_target_prevday_alpha1 for day 9...\n",
      "Generating app_channel_mean_target_prevday_alpha1 for day 9...\n",
      "Generating app_os_mean_target_prevday_alpha1 for day 9...\n",
      "Generating app_device_mean_target_prevday_alpha1 for day 9...\n",
      "Generating channel_os_mean_target_prevday_alpha1 for day 9...\n",
      "Generating channel_device_mean_target_prevday_alpha1 for day 9...\n",
      "Generating os_device_mean_target_prevday_alpha1 for day 9...\n"
     ]
    }
   ],
   "source": [
    "save_day=9\n",
    "day_x = get_feather(f'train_day{save_day}_3to16_FE.feather')\n",
    "\n",
    "glob_mean = day_x.is_attributed.mean()\n",
    "print(glob_mean)\n",
    "\n",
    "\n",
    "for cols in ATTRIBUTION_CATEGORIES:\n",
    "    new_fea = '_'.join(cols)+'_mean_target'\n",
    "    mean_enc_df_export(day_x,cols,'is_attributed',\n",
    "                                   new_fea,glob_mean,save_day=save_day,alpha=1)"
   ]
  },
  {
   "cell_type": "markdown",
   "metadata": {},
   "source": [
    "# Fix my problem"
   ]
  },
  {
   "cell_type": "code",
   "execution_count": 29,
   "metadata": {},
   "outputs": [],
   "source": [
    "day=9\n",
    "day_x = get_feather(f'train_day{day}_3to16_FE.feather')"
   ]
  },
  {
   "cell_type": "code",
   "execution_count": 31,
   "metadata": {},
   "outputs": [
    {
     "data": {
      "text/plain": [
       "(43546887, 35)"
      ]
     },
     "execution_count": 31,
     "metadata": {},
     "output_type": "execute_result"
    }
   ],
   "source": [
    "day_x.shape"
   ]
  },
  {
   "cell_type": "code",
   "execution_count": 32,
   "metadata": {},
   "outputs": [
    {
     "data": {
      "text/plain": [
       "Index(['ip', 'app', 'device', 'os', 'channel', 'is_attributed', 'day', 'hour',\n",
       "       'os_device_mean_target_day8_alpha1', 'ip_mean_target_day8_alpha1',\n",
       "       'device_mean_target_day8_alpha1', 'app_channel_mean_target_day8_alpha1',\n",
       "       'app_os_mean_target_day8_alpha1',\n",
       "       'channel_device_mean_target_day8_alpha1', 'app_mean_target_day8_alpha1',\n",
       "       'channel_os_mean_target_day8_alpha1',\n",
       "       'app_device_mean_target_day8_alpha1', 'channel_mean_target_day8_alpha1',\n",
       "       'ip_next_click', 'ip_app_next_click', 'ip_channel_next_click',\n",
       "       'ip_os_cumcount', 'ip_app_cumcount', 'ip_device_os_app_cumcount',\n",
       "       'ip_cumcount', 'ip_app_os_count_channel',\n",
       "       'ip_app_day_hour_count_channel', 'app_AvgViewPerDistinct_ip',\n",
       "       'ip_count_channel', 'app_count_channel', 'channel_count_app',\n",
       "       'ip_device_os_size_None', 'ip_device_os_app_size_None', 'minute',\n",
       "       'second'],\n",
       "      dtype='object')"
      ]
     },
     "execution_count": 32,
     "metadata": {},
     "output_type": "execute_result"
    }
   ],
   "source": [
    "day_x.columns"
   ]
  },
  {
   "cell_type": "code",
   "execution_count": 33,
   "metadata": {},
   "outputs": [],
   "source": [
    "day_x.drop(['os_device_mean_target_day8_alpha1', 'ip_mean_target_day8_alpha1',\n",
    "       'device_mean_target_day8_alpha1', 'app_channel_mean_target_day8_alpha1',\n",
    "       'app_os_mean_target_day8_alpha1',\n",
    "       'channel_device_mean_target_day8_alpha1', 'app_mean_target_day8_alpha1',\n",
    "       'channel_os_mean_target_day8_alpha1',\n",
    "       'app_device_mean_target_day8_alpha1', 'channel_mean_target_day8_alpha1',],axis=1,inplace=True)"
   ]
  },
  {
   "cell_type": "code",
   "execution_count": 34,
   "metadata": {},
   "outputs": [],
   "source": [
    "day_x.to_feather(PATH/f'train_day{day}_3to16_FE.feather')"
   ]
  },
  {
   "cell_type": "markdown",
   "metadata": {},
   "source": [
    "# Merge mean encoding to day 8,9"
   ]
  },
  {
   "cell_type": "code",
   "execution_count": 3,
   "metadata": {},
   "outputs": [],
   "source": [
    "curr_day=8\n",
    "day_x = get_feather(f'train_day{curr_day}_3to16_FE.feather')"
   ]
  },
  {
   "cell_type": "code",
   "execution_count": 7,
   "metadata": {},
   "outputs": [
    {
     "name": "stdout",
     "output_type": "stream",
     "text": [
      "Generating app_channel_mean_target_prevday_alpha1 for validation set...\n",
      "Generating app_device_mean_target_prevday_alpha1 for validation set...\n",
      "Generating app_mean_target_prevday_alpha1 for validation set...\n",
      "Generating app_os_mean_target_prevday_alpha1 for validation set...\n",
      "Generating channel_device_mean_target_prevday_alpha1 for validation set...\n",
      "Generating channel_mean_target_prevday_alpha1 for validation set...\n",
      "Generating channel_os_mean_target_prevday_alpha1 for validation set...\n",
      "Generating device_mean_target_prevday_alpha1 for validation set...\n",
      "Generating ip_mean_target_prevday_alpha1 for validation set...\n",
      "Generating os_device_mean_target_prevday_alpha1 for validation set...\n"
     ]
    }
   ],
   "source": [
    "glob_mean = 0.0025470922065127222\n",
    "\n",
    "# merge day 7\n",
    "day_x = merge_mean_to_val(day_x,glob_mean,curr_day-1)"
   ]
  },
  {
   "cell_type": "code",
   "execution_count": 8,
   "metadata": {},
   "outputs": [
    {
     "data": {
      "text/plain": [
       "(45439229, 35)"
      ]
     },
     "execution_count": 8,
     "metadata": {},
     "output_type": "execute_result"
    }
   ],
   "source": [
    "day_x.tail().T\n",
    "day_x.shape"
   ]
  },
  {
   "cell_type": "code",
   "execution_count": 9,
   "metadata": {},
   "outputs": [
    {
     "data": {
      "text/plain": [
       "Index(['ip', 'app', 'device', 'os', 'channel', 'is_attributed', 'day', 'hour',\n",
       "       'ip_next_click', 'ip_app_next_click', 'ip_channel_next_click',\n",
       "       'ip_os_cumcount', 'ip_app_cumcount', 'ip_device_os_app_cumcount',\n",
       "       'ip_cumcount', 'ip_app_os_count_channel',\n",
       "       'ip_app_day_hour_count_channel', 'app_AvgViewPerDistinct_ip',\n",
       "       'ip_count_channel', 'app_count_channel', 'channel_count_app',\n",
       "       'ip_device_os_size_None', 'ip_device_os_app_size_None', 'minute',\n",
       "       'second', 'app_channel_mean_target_prevday_alpha1',\n",
       "       'app_device_mean_target_prevday_alpha1',\n",
       "       'app_mean_target_prevday_alpha1', 'app_os_mean_target_prevday_alpha1',\n",
       "       'channel_device_mean_target_prevday_alpha1',\n",
       "       'channel_mean_target_prevday_alpha1',\n",
       "       'channel_os_mean_target_prevday_alpha1',\n",
       "       'device_mean_target_prevday_alpha1', 'ip_mean_target_prevday_alpha1',\n",
       "       'os_device_mean_target_prevday_alpha1'],\n",
       "      dtype='object')"
      ]
     },
     "execution_count": 9,
     "metadata": {},
     "output_type": "execute_result"
    }
   ],
   "source": [
    "day_x.columns"
   ]
  },
  {
   "cell_type": "code",
   "execution_count": 10,
   "metadata": {},
   "outputs": [],
   "source": [
    "day_x = downcast_dtypes(day_x)\n",
    "day_x.to_feather(PATH/ f'train_day{curr_day}_3to16_FE.feather')"
   ]
  },
  {
   "cell_type": "markdown",
   "metadata": {},
   "source": [
    "['ip', 'app', 'device', 'os', 'channel', 'is_attributed', 'day', 'hour',\n",
    "       'ip_next_click', 'ip_app_next_click', 'ip_channel_next_click',\n",
    "       'ip_os_cumcount', 'ip_app_cumcount', 'ip_device_os_app_cumcount',\n",
    "       'ip_cumcount', 'ip_app_os_count_channel',\n",
    "       'ip_app_day_hour_count_channel', 'app_AvgViewPerDistinct_ip',\n",
    "       'ip_count_channel', 'app_count_channel', 'channel_count_app',\n",
    "       'ip_device_os_size_None', 'ip_device_os_app_size_None', 'minute',\n",
    "       'second', 'app_channel_mean_target_prevday_alpha1',\n",
    "       'app_device_mean_target_prevday_alpha1',\n",
    "       'app_mean_target_prevday_alpha1', 'app_os_mean_target_prevday_alpha1',\n",
    "       'channel_device_mean_target_prevday_alpha1',\n",
    "       'channel_mean_target_prevday_alpha1',\n",
    "       'channel_os_mean_target_prevday_alpha1',\n",
    "       'device_mean_target_prevday_alpha1', 'ip_mean_target_prevday_alpha1',\n",
    "       'os_device_mean_target_prevday_alpha1']"
   ]
  },
  {
   "cell_type": "markdown",
   "metadata": {},
   "source": []
  },
  {
   "cell_type": "code",
   "execution_count": 15,
   "metadata": {},
   "outputs": [
    {
     "name": "stdout",
     "output_type": "stream",
     "text": [
      "Generating app_channel_mean_target_prevday_alpha1 for validation set...\n",
      "Generating app_device_mean_target_prevday_alpha1 for validation set...\n",
      "Generating app_mean_target_prevday_alpha1 for validation set...\n",
      "Generating app_os_mean_target_prevday_alpha1 for validation set...\n",
      "Generating channel_device_mean_target_prevday_alpha1 for validation set...\n",
      "Generating channel_mean_target_prevday_alpha1 for validation set...\n",
      "Generating channel_os_mean_target_prevday_alpha1 for validation set...\n",
      "Generating device_mean_target_prevday_alpha1 for validation set...\n",
      "Generating ip_mean_target_prevday_alpha1 for validation set...\n",
      "Generating os_device_mean_target_prevday_alpha1 for validation set...\n"
     ]
    }
   ],
   "source": [
    "curr_day=9\n",
    "day_x = get_feather(f'train_day{curr_day}_3to16_FE.feather')\n",
    "glob_mean = 0.002486067710347814\n",
    "\n",
    "# merge day 8\n",
    "day_x = merge_mean_to_val(day_x,glob_mean,curr_day-1)"
   ]
  },
  {
   "cell_type": "code",
   "execution_count": 16,
   "metadata": {},
   "outputs": [
    {
     "data": {
      "text/plain": [
       "7"
      ]
     },
     "execution_count": 16,
     "metadata": {},
     "output_type": "execute_result"
    }
   ],
   "source": [
    "gc.collect()"
   ]
  },
  {
   "cell_type": "code",
   "execution_count": 21,
   "metadata": {
    "scrolled": true
   },
   "outputs": [
    {
     "data": {
      "text/plain": [
       "Index(['ip', 'app', 'device', 'os', 'channel', 'is_attributed', 'day', 'hour',\n",
       "       'ip_next_click', 'ip_app_next_click', 'ip_channel_next_click',\n",
       "       'ip_os_cumcount', 'ip_app_cumcount', 'ip_device_os_app_cumcount',\n",
       "       'ip_cumcount', 'ip_app_os_count_channel',\n",
       "       'ip_app_day_hour_count_channel', 'app_AvgViewPerDistinct_ip',\n",
       "       'ip_count_channel', 'app_count_channel', 'channel_count_app',\n",
       "       'ip_device_os_size_None', 'ip_device_os_app_size_None', 'minute',\n",
       "       'second', 'app_channel_mean_target_prevday_alpha1',\n",
       "       'app_device_mean_target_prevday_alpha1',\n",
       "       'app_mean_target_prevday_alpha1', 'app_os_mean_target_prevday_alpha1',\n",
       "       'channel_device_mean_target_prevday_alpha1',\n",
       "       'channel_mean_target_prevday_alpha1',\n",
       "       'channel_os_mean_target_prevday_alpha1',\n",
       "       'device_mean_target_prevday_alpha1', 'ip_mean_target_prevday_alpha1',\n",
       "       'os_device_mean_target_prevday_alpha1'],\n",
       "      dtype='object')"
      ]
     },
     "execution_count": 21,
     "metadata": {},
     "output_type": "execute_result"
    }
   ],
   "source": [
    "day_x.columns"
   ]
  },
  {
   "cell_type": "code",
   "execution_count": 20,
   "metadata": {},
   "outputs": [
    {
     "data": {
      "text/plain": [
       "(43546887, 35)"
      ]
     },
     "execution_count": 20,
     "metadata": {},
     "output_type": "execute_result"
    }
   ],
   "source": [
    "day_x.shape"
   ]
  },
  {
   "cell_type": "code",
   "execution_count": 18,
   "metadata": {},
   "outputs": [],
   "source": [
    "day_x = downcast_dtypes(day_x)\n",
    "day_x.to_feather(PATH/ f'train_day{curr_day}_3to16_FE.feather')"
   ]
  },
  {
   "cell_type": "markdown",
   "metadata": {},
   "source": [
    "# Merge mean encoding to test set"
   ]
  },
  {
   "cell_type": "code",
   "execution_count": 3,
   "metadata": {},
   "outputs": [],
   "source": [
    "day_x = get_feather(f'test_FE.feather')\n",
    "glob_mean = 0.0025267018512712515"
   ]
  },
  {
   "cell_type": "code",
   "execution_count": 4,
   "metadata": {},
   "outputs": [
    {
     "data": {
      "text/plain": [
       "Index(['ip', 'app', 'device', 'os', 'channel', 'day', 'hour', 'ip_next_click',\n",
       "       'ip_app_next_click', 'ip_channel_next_click', 'ip_os_cumcount',\n",
       "       'ip_app_cumcount', 'ip_device_os_app_cumcount', 'ip_cumcount',\n",
       "       'ip_app_os_count_channel', 'ip_app_day_hour_count_channel',\n",
       "       'app_AvgViewPerDistinct_ip', 'ip_count_channel', 'app_count_channel',\n",
       "       'channel_count_app', 'ip_device_os_size_None',\n",
       "       'ip_device_os_app_size_None', 'minute', 'second'],\n",
       "      dtype='object')"
      ]
     },
     "execution_count": 4,
     "metadata": {},
     "output_type": "execute_result"
    }
   ],
   "source": [
    "day_x.columns"
   ]
  },
  {
   "cell_type": "code",
   "execution_count": 5,
   "metadata": {},
   "outputs": [
    {
     "name": "stdout",
     "output_type": "stream",
     "text": [
      "Generating os_device_mean_target_prevday_alpha1 for validation set...\n",
      "Generating app_device_mean_target_prevday_alpha1 for validation set...\n",
      "Generating channel_os_mean_target_prevday_alpha1 for validation set...\n",
      "Generating ip_mean_target_prevday_alpha1 for validation set...\n",
      "Generating app_mean_target_prevday_alpha1 for validation set...\n",
      "Generating app_os_mean_target_prevday_alpha1 for validation set...\n",
      "Generating channel_device_mean_target_prevday_alpha1 for validation set...\n",
      "Generating device_mean_target_prevday_alpha1 for validation set...\n",
      "Generating channel_mean_target_prevday_alpha1 for validation set...\n",
      "Generating app_channel_mean_target_prevday_alpha1 for validation set...\n"
     ]
    }
   ],
   "source": [
    "# merge day 9\n",
    "day_x = merge_mean_to_val(day_x,glob_mean,9)"
   ]
  },
  {
   "cell_type": "code",
   "execution_count": 8,
   "metadata": {},
   "outputs": [],
   "source": [
    "day_x = day_x[['ip', 'app', 'device', 'os', 'channel', 'day', 'hour',\n",
    "       'ip_next_click', 'ip_app_next_click', 'ip_channel_next_click',\n",
    "       'ip_os_cumcount', 'ip_app_cumcount', 'ip_device_os_app_cumcount',\n",
    "       'ip_cumcount', 'ip_app_os_count_channel',\n",
    "       'ip_app_day_hour_count_channel', 'app_AvgViewPerDistinct_ip',\n",
    "       'ip_count_channel', 'app_count_channel', 'channel_count_app',\n",
    "       'ip_device_os_size_None', 'ip_device_os_app_size_None', 'minute',\n",
    "       'second', 'app_channel_mean_target_prevday_alpha1',\n",
    "       'app_device_mean_target_prevday_alpha1',\n",
    "       'app_mean_target_prevday_alpha1', 'app_os_mean_target_prevday_alpha1',\n",
    "       'channel_device_mean_target_prevday_alpha1',\n",
    "       'channel_mean_target_prevday_alpha1',\n",
    "       'channel_os_mean_target_prevday_alpha1',\n",
    "       'device_mean_target_prevday_alpha1', 'ip_mean_target_prevday_alpha1',\n",
    "       'os_device_mean_target_prevday_alpha1']]"
   ]
  },
  {
   "cell_type": "code",
   "execution_count": 11,
   "metadata": {},
   "outputs": [],
   "source": [
    "day_x = downcast_dtypes(day_x)\n",
    "day_x.to_feather(PATH/ f'test_FE.feather')"
   ]
  }
 ],
 "metadata": {
  "kernelspec": {
   "display_name": "Python 3",
   "language": "python",
   "name": "python3"
  },
  "language_info": {
   "codemirror_mode": {
    "name": "ipython",
    "version": 3
   },
   "file_extension": ".py",
   "mimetype": "text/x-python",
   "name": "python",
   "nbconvert_exporter": "python",
   "pygments_lexer": "ipython3",
   "version": "3.6.5"
  }
 },
 "nbformat": 4,
 "nbformat_minor": 2
}
