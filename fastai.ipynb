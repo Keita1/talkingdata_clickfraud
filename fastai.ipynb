{
 "cells": [
  {
   "cell_type": "code",
   "execution_count": 1,
   "metadata": {},
   "outputs": [
    {
     "data": {
      "text/plain": [
       "[PosixPath('data/tmp'),\n",
       " PosixPath('data/test_nextclick_FE.feather'),\n",
       " PosixPath('data/submission'),\n",
       " PosixPath('data/sample_submission.csv'),\n",
       " PosixPath('data/xgb2.model'),\n",
       " PosixPath('data/train_sample.csv'),\n",
       " PosixPath('data/dtree.dot'),\n",
       " PosixPath('data/test_FE.feather'),\n",
       " PosixPath('data/xgb1.model'),\n",
       " PosixPath('data/models'),\n",
       " PosixPath('data/val_idxs.p'),\n",
       " PosixPath('data/train_day8_3to16_nextclick_FE.feather'),\n",
       " PosixPath('data/mean_enc_df'),\n",
       " PosixPath('data/xgb1_noratio.model'),\n",
       " PosixPath('data/train_day9_3to16_nextclick_FE.feather'),\n",
       " PosixPath('data/validation'),\n",
       " PosixPath('data/xgb_FE_best_more.model')]"
      ]
     },
     "execution_count": 1,
     "metadata": {},
     "output_type": "execute_result"
    }
   ],
   "source": [
    "%matplotlib inline\n",
    "%reload_ext autoreload\n",
    "%autoreload 2\n",
    "\n",
    "from utils import *\n",
    "\n",
    "seed=42\n",
    "PATH = Path('data')\n",
    "list(PATH.iterdir())"
   ]
  },
  {
   "cell_type": "code",
   "execution_count": 2,
   "metadata": {},
   "outputs": [],
   "source": [
    "from fastai.structured import *\n",
    "from fastai.column_data import *"
   ]
  },
  {
   "cell_type": "code",
   "execution_count": 3,
   "metadata": {},
   "outputs": [],
   "source": [
    "class ColumnarModelData(ModelData):\n",
    "    def __init__(self, path, trn_ds, val_ds, bs, test_ds=None, shuffle=True):\n",
    "        test_dl = DataLoader(test_ds, bs, shuffle=False, num_workers=1) if test_ds is not None else None\n",
    "        super().__init__(path, DataLoader(trn_ds, bs, shuffle=shuffle, num_workers=1),\n",
    "            DataLoader(val_ds, bs*10, shuffle=False, num_workers=1), test_dl) # increased validation batch size\n",
    "\n",
    "    @classmethod\n",
    "    def from_arrays(cls, path, val_idxs, xs, y, is_reg=True, is_multi=False, bs=64, test_xs=None, shuffle=True):\n",
    "        ((val_xs, trn_xs), (val_y, trn_y)) = split_by_idx(val_idxs, xs, y)\n",
    "        test_ds = PassthruDataset(*(test_xs.T), [0] * len(test_xs), is_reg=is_reg, is_multi=is_multi) if test_xs is not None else None\n",
    "        return cls(path, PassthruDataset(*(trn_xs.T), trn_y, is_reg=is_reg, is_multi=is_multi),\n",
    "                   PassthruDataset(*(val_xs.T), val_y, is_reg=is_reg, is_multi=is_multi),\n",
    "                   bs=bs, shuffle=shuffle, test_ds=test_ds)\n",
    "\n",
    "    @classmethod\n",
    "    def from_data_frames(cls, path, trn_df, val_df, trn_y, val_y, cat_flds, bs, is_reg, is_multi, test_df=None):\n",
    "        test_ds = ColumnarDataset.from_data_frame(test_df, cat_flds, None, is_reg, is_multi) if test_df is not None else None\n",
    "        return cls(path, ColumnarDataset.from_data_frame(trn_df, cat_flds, trn_y, is_reg, is_multi),\n",
    "                    ColumnarDataset.from_data_frame(val_df, cat_flds, val_y, is_reg, is_multi), bs, test_ds=test_ds)\n",
    "\n",
    "    @classmethod\n",
    "    def from_data_frame(cls, path, val_idxs, df, y, cat_flds, bs, is_reg=True, is_multi=False, test_df=None):\n",
    "        ((val_df, trn_df), (val_y, trn_y)) = split_by_idx(val_idxs, df, y)\n",
    "        return cls.from_data_frames(path, trn_df, val_df, trn_y, val_y, cat_flds, bs, is_reg, is_multi, test_df=test_df)\n",
    "\n",
    "    def get_learner(self, emb_szs, n_cont, emb_drop, out_sz, szs, drops,\n",
    "                    y_range=None, use_bn=False, **kwargs):\n",
    "        model = MixedInputModel(emb_szs, n_cont, emb_drop, out_sz, szs, drops, y_range, use_bn, self.is_reg, self.is_multi)\n",
    "        return StructuredLearner(self, StructuredModel(to_gpu(model)), opt_fn=optim.Adam, **kwargs)"
   ]
  },
  {
   "cell_type": "markdown",
   "metadata": {},
   "source": [
    "# Prepare data"
   ]
  },
  {
   "cell_type": "code",
   "execution_count": 4,
   "metadata": {},
   "outputs": [],
   "source": [
    "cols_to_drop =['is_attributed','ip','day','device']\n",
    "train_filename = 'train_day8_3to16_nextclick_FE.feather'"
   ]
  },
  {
   "cell_type": "code",
   "execution_count": 5,
   "metadata": {},
   "outputs": [
    {
     "data": {
      "text/plain": [
       "['data/validation/val2.feather',\n",
       " 'data/validation/val0.feather',\n",
       " 'data/validation/val1.feather']"
      ]
     },
     "execution_count": 5,
     "metadata": {},
     "output_type": "execute_result"
    }
   ],
   "source": [
    "# Sample run\n",
    "\n",
    "val_names = [str(i) for i in list((PATH/'validation').iterdir())]\n",
    "val_names"
   ]
  },
  {
   "cell_type": "code",
   "execution_count": 6,
   "metadata": {},
   "outputs": [],
   "source": [
    "n_train=3000000"
   ]
  },
  {
   "cell_type": "code",
   "execution_count": 7,
   "metadata": {},
   "outputs": [],
   "source": [
    "nan_cols = ['ip_next_click',\n",
    " 'ip_prev_click',\n",
    " 'ip_app_next_click',\n",
    " 'ip_app_prev_click',\n",
    " 'ip_channel_next_click',\n",
    " 'ip_channel_prev_click',\n",
    " 'ip_os_next_click',\n",
    " 'ip_os_prev_click',\n",
    " 'ip_os_device_next_click',\n",
    " 'ip_os_device_prev_click',\n",
    " 'ip_os_device_app_next_click',\n",
    " 'ip_os_device_app_prev_click']"
   ]
  },
  {
   "cell_type": "code",
   "execution_count": 8,
   "metadata": {},
   "outputs": [
    {
     "data": {
      "text/plain": [
       "7"
      ]
     },
     "execution_count": 8,
     "metadata": {},
     "output_type": "execute_result"
    }
   ],
   "source": [
    "train_filename = 'train_day8_3to16_nextclick_FE.feather'\n",
    "train_df,y_train = get_train(cols_to_drop,train_filename,n_train)\n",
    "train_df['Target'] = y_train\n",
    "\n",
    "del y_train\n",
    "gc.collect()"
   ]
  },
  {
   "cell_type": "code",
   "execution_count": 9,
   "metadata": {},
   "outputs": [],
   "source": [
    "train_df.loc[:,nan_cols] = train_df.loc[:,nan_cols].fillna(0)"
   ]
  },
  {
   "cell_type": "code",
   "execution_count": 10,
   "metadata": {},
   "outputs": [
    {
     "data": {
      "text/plain": [
       "7"
      ]
     },
     "execution_count": 10,
     "metadata": {},
     "output_type": "execute_result"
    }
   ],
   "source": [
    "val_names='data/validation/val2.feather'\n",
    "val_df,y_val = get_val_by_name(cols_to_drop,val_names)\n",
    "val_df['Target'] = y_val\n",
    "\n",
    "del y_val\n",
    "gc.collect()"
   ]
  },
  {
   "cell_type": "code",
   "execution_count": 11,
   "metadata": {},
   "outputs": [],
   "source": [
    "val_df.loc[:,nan_cols] = val_df.loc[:,nan_cols].fillna(0)"
   ]
  },
  {
   "cell_type": "code",
   "execution_count": 12,
   "metadata": {},
   "outputs": [],
   "source": [
    "n_val = 2000000\n",
    "val_df = val_df.loc[:n_val,:].copy()"
   ]
  },
  {
   "cell_type": "code",
   "execution_count": 13,
   "metadata": {},
   "outputs": [
    {
     "name": "stdout",
     "output_type": "stream",
     "text": [
      "(2000001, 43)\n"
     ]
    }
   ],
   "source": [
    "print(val_df.shape)"
   ]
  },
  {
   "cell_type": "code",
   "execution_count": 14,
   "metadata": {},
   "outputs": [
    {
     "data": {
      "text/plain": [
       "42"
      ]
     },
     "execution_count": 14,
     "metadata": {},
     "output_type": "execute_result"
    }
   ],
   "source": [
    "gc.collect()"
   ]
  },
  {
   "cell_type": "code",
   "execution_count": 15,
   "metadata": {},
   "outputs": [],
   "source": [
    "cat_vars = ['hour','minute','channel','os','app','second']\n",
    "contin_vars = [i for i in list(train_df.columns) if i not in cat_vars and i != 'Target']"
   ]
  },
  {
   "cell_type": "code",
   "execution_count": 16,
   "metadata": {},
   "outputs": [
    {
     "name": "stdout",
     "output_type": "stream",
     "text": [
      "(3000000, 43)\n"
     ]
    }
   ],
   "source": [
    "n = len(train_df)\n",
    "print(train_df.shape)\n",
    "for v in cat_vars: train_df[v] = train_df[v].astype('category').cat.as_ordered()"
   ]
  },
  {
   "cell_type": "code",
   "execution_count": 17,
   "metadata": {},
   "outputs": [],
   "source": [
    "apply_cats(val_df,train_df)"
   ]
  },
  {
   "cell_type": "code",
   "execution_count": 18,
   "metadata": {},
   "outputs": [],
   "source": [
    "for v in contin_vars:\n",
    "    train_df[v]= train_df[v].astype('float32')\n",
    "    val_df[v] = val_df[v].astype('float32')"
   ]
  },
  {
   "cell_type": "code",
   "execution_count": 19,
   "metadata": {},
   "outputs": [
    {
     "name": "stdout",
     "output_type": "stream",
     "text": [
      "[(15, 8), (61, 31), (172, 50), (239, 50), (336, 50), (61, 31)]\n"
     ]
    }
   ],
   "source": [
    "cat_sz = [(c, len(train_df[c].cat.categories)+1) for c in cat_vars]\n",
    "\n",
    "emb_szs = [(c, min(50, (c+1)//2)) for _,c in cat_sz]\n",
    "\n",
    "print(emb_szs)"
   ]
  },
  {
   "cell_type": "code",
   "execution_count": 20,
   "metadata": {},
   "outputs": [
    {
     "data": {
      "text/plain": [
       "[('hour', 15),\n",
       " ('minute', 61),\n",
       " ('channel', 172),\n",
       " ('os', 239),\n",
       " ('app', 336),\n",
       " ('second', 61)]"
      ]
     },
     "execution_count": 20,
     "metadata": {},
     "output_type": "execute_result"
    }
   ],
   "source": [
    "cat_sz"
   ]
  },
  {
   "cell_type": "code",
   "execution_count": 21,
   "metadata": {},
   "outputs": [],
   "source": [
    "emb_dr=0.4\n",
    "nn_list=[700,600]\n",
    "nn_dr=[0.3,0.3]"
   ]
  },
  {
   "cell_type": "code",
   "execution_count": 22,
   "metadata": {},
   "outputs": [],
   "source": [
    "# def fix_missing(df, col, name):\n",
    "#     if is_numeric_dtype(col):\n",
    "#         if pd.isnull(col).sum():\n",
    "#             filler = na_dict[name] if name in na_dict else col.median()\n",
    "#             df[name] = col.fillna(filler)\n",
    "#             na_dict[name] = filler\n",
    "#     return na_dict\n",
    "\n",
    "# def proc_df(df, y_fld=None, skip_flds=None, ignore_flds=None, do_scale=False, na_dict=None,\n",
    "#             preproc_fn=None, max_n_cat=None, subset=None, mapper=None):\n",
    "\n",
    "#     for n,c in df.items(): na_dict = fix_missing(df, c, n)\n",
    "#     if do_scale: mapper = scale_vars(df, mapper)\n",
    "#     for n,c in df.items(): numericalize(df, c, n, max_n_cat)\n",
    "#     df = pd.get_dummies(df, dummy_na=True)\n",
    "#     df = pd.concat([ignored_flds, df], axis=1)\n",
    "#     res = [df, y, na_dict]\n",
    "#     if do_scale: res = res + [mapper]\n",
    "#     return res"
   ]
  },
  {
   "cell_type": "code",
   "execution_count": 23,
   "metadata": {},
   "outputs": [
    {
     "data": {
      "text/plain": [
       "94"
      ]
     },
     "execution_count": 23,
     "metadata": {},
     "output_type": "execute_result"
    }
   ],
   "source": [
    "df_train, y_train, nas, mapper = proc_df(train_df, 'Target', do_scale=True)\n",
    "del train_df\n",
    "gc.collect()"
   ]
  },
  {
   "cell_type": "code",
   "execution_count": 24,
   "metadata": {},
   "outputs": [
    {
     "data": {
      "text/plain": [
       "135"
      ]
     },
     "execution_count": 24,
     "metadata": {},
     "output_type": "execute_result"
    }
   ],
   "source": [
    "df_val, y_val, nas, mapper = proc_df(val_df, 'Target', do_scale=True,mapper = mapper)\n",
    "del val_df\n",
    "gc.collect()"
   ]
  },
  {
   "cell_type": "code",
   "execution_count": 25,
   "metadata": {},
   "outputs": [],
   "source": [
    "for v in contin_vars:\n",
    "    df_train[v]= df_train[v].astype('float32')\n",
    "    df_val[v] = df_val[v].astype('float32')"
   ]
  },
  {
   "cell_type": "code",
   "execution_count": 26,
   "metadata": {},
   "outputs": [
    {
     "data": {
      "text/plain": [
       "(3000000, 42)"
      ]
     },
     "execution_count": 26,
     "metadata": {},
     "output_type": "execute_result"
    },
    {
     "data": {
      "text/plain": [
       "(2000001, 42)"
      ]
     },
     "execution_count": 26,
     "metadata": {},
     "output_type": "execute_result"
    }
   ],
   "source": [
    "df_train.shape\n",
    "df_val.shape"
   ]
  },
  {
   "cell_type": "code",
   "execution_count": 27,
   "metadata": {},
   "outputs": [
    {
     "data": {
      "text/plain": [
       "42"
      ]
     },
     "execution_count": 27,
     "metadata": {},
     "output_type": "execute_result"
    }
   ],
   "source": [
    "len(cat_vars)+ len(contin_vars)"
   ]
  },
  {
   "cell_type": "code",
   "execution_count": 28,
   "metadata": {},
   "outputs": [],
   "source": [
    "# del model,md\n",
    "# gc.collect()"
   ]
  },
  {
   "cell_type": "code",
   "execution_count": 29,
   "metadata": {},
   "outputs": [],
   "source": [
    "bs = 75000\n",
    "md = ColumnarModelData.from_data_frames(str(PATH), df_train,df_val, \n",
    "                                        y_train.astype('int'), y_val.astype('int'),\n",
    "                                        cat_flds=cat_vars, \n",
    "                                        bs=bs,\n",
    "                                        is_reg=False,\n",
    "                                        is_multi=False)\n",
    "\n",
    "# m = md.get_learner(emb_szs,len(df_train.columns)-len(cat_vars),emb_dr,1,nn_list,nn_dr,use_bn=True)"
   ]
  },
  {
   "cell_type": "code",
   "execution_count": 30,
   "metadata": {},
   "outputs": [],
   "source": [
    "model = to_gpu(MixedInputModel(emb_szs,\n",
    "                               len(df_train.columns)-len(cat_vars),\n",
    "                               emb_dr,\n",
    "                               2,\n",
    "                               nn_list,\n",
    "                               nn_dr,\n",
    "                               is_reg=False,\n",
    "                               is_multi=False,\n",
    "                               use_bn=True))\n",
    "bm = BasicModel(model, 'binary_classifier')\n"
   ]
  },
  {
   "cell_type": "code",
   "execution_count": 31,
   "metadata": {},
   "outputs": [
    {
     "data": {
      "text/plain": [
       "28"
      ]
     },
     "execution_count": 31,
     "metadata": {},
     "output_type": "execute_result"
    }
   ],
   "source": [
    "gc.collect()"
   ]
  },
  {
   "cell_type": "code",
   "execution_count": 32,
   "metadata": {},
   "outputs": [],
   "source": [
    "def imbalanced_loss(inp,targ):\n",
    "    return F.nll_loss(inp,targ,weight=T([.01,.99]))\n",
    "def auc(inp,targ):\n",
    "    return roc_auc_score(to_np(targ),to_np(np.exp(inp[:,1])))"
   ]
  },
  {
   "cell_type": "code",
   "execution_count": 33,
   "metadata": {},
   "outputs": [],
   "source": [
    "# del learn\n",
    "# gc.collect()"
   ]
  },
  {
   "cell_type": "code",
   "execution_count": 34,
   "metadata": {},
   "outputs": [
    {
     "data": {
      "text/plain": [
       "<function __main__.imbalanced_loss(inp, targ)>"
      ]
     },
     "execution_count": 34,
     "metadata": {},
     "output_type": "execute_result"
    }
   ],
   "source": [
    "learn = StructuredLearner(md, bm)\n",
    "learn.crit = imbalanced_loss\n",
    "learn.crit"
   ]
  },
  {
   "cell_type": "code",
   "execution_count": 39,
   "metadata": {},
   "outputs": [
    {
     "data": {
      "application/vnd.jupyter.widget-view+json": {
       "model_id": "be5269039f3748da9153cac99544d371",
       "version_major": 2,
       "version_minor": 0
      },
      "text/plain": [
       "HBox(children=(IntProgress(value=0, description='Epoch', max=1), HTML(value='')))"
      ]
     },
     "metadata": {},
     "output_type": "display_data"
    },
    {
     "name": "stdout",
     "output_type": "stream",
     "text": [
      " 39%|███▉      | 15/38 [00:09<00:15,  1.51it/s, loss=0.76] "
     ]
    },
    {
     "name": "stderr",
     "output_type": "stream",
     "text": [
      "/home/quantran/anaconda3/envs/fastai/lib/python3.6/site-packages/tqdm/_monitor.py:89: TqdmSynchronisationWarning: Set changed size during iteration (see https://github.com/tqdm/tqdm/issues/481)\n",
      "  TqdmSynchronisationWarning)\n"
     ]
    },
    {
     "name": "stdout",
     "output_type": "stream",
     "text": [
      " 89%|████████▉ | 34/38 [00:21<00:02,  1.61it/s, loss=659]  "
     ]
    }
   ],
   "source": [
    "learn.lr_find()\n"
   ]
  },
  {
   "cell_type": "code",
   "execution_count": 40,
   "metadata": {},
   "outputs": [
    {
     "data": {
      "image/png": "[encoded data removed]",
      "text/plain": [
       "<Figure size 432x288 with 1 Axes>"
      ]
     },
     "metadata": {},
     "output_type": "display_data"
    }
   ],
   "source": [
    "learn.sched.plot(n_skip=1, n_skip_end=0)"
   ]
  },
  {
   "cell_type": "markdown",
   "metadata": {},
   "source": [
    "# Use_clr"
   ]
  },
  {
   "cell_type": "code",
   "execution_count": 35,
   "metadata": {
    "scrolled": false
   },
   "outputs": [
    {
     "data": {
      "application/vnd.jupyter.widget-view+json": {
       "model_id": "bbee7400a8bd4dc28d7fb1122a97376c",
       "version_major": 2,
       "version_minor": 0
      },
      "text/plain": [
       "HBox(children=(IntProgress(value=0, description='Epoch', max=20), HTML(value='')))"
      ]
     },
     "metadata": {},
     "output_type": "display_data"
    },
    {
     "name": "stdout",
     "output_type": "stream",
     "text": [
      " 40%|████      | 16/40 [00:10<00:15,  1.60it/s, loss=0.365]"
     ]
    },
    {
     "name": "stderr",
     "output_type": "stream",
     "text": [
      "/home/quantran/anaconda3/envs/fastai/lib/python3.6/site-packages/tqdm/_monitor.py:89: TqdmSynchronisationWarning: Set changed size during iteration (see https://github.com/tqdm/tqdm/issues/481)\n",
      "  TqdmSynchronisationWarning)\n"
     ]
    },
    {
     "name": "stdout",
     "output_type": "stream",
     "text": [
      "epoch      trn_loss   val_loss   auc                       \n",
      "    0      0.249466   0.188292   0.939607  \n",
      "    1      0.187474   0.180418   0.939689                  \n",
      "    2      0.167709   0.1796     0.941694                  \n",
      "    3      0.158191   0.177169   0.943913                  \n",
      "    4      0.153993   0.175416   0.945449                  \n",
      "    5      0.150289   0.173401   0.947404                  \n",
      "    6      0.148162   0.172026   0.949789                  \n",
      "    7      0.145727   0.169851   0.951795                  \n",
      "    8      0.143946   0.16828    0.954124                  \n",
      "    9      0.141938   0.166671   0.955828                  \n",
      "    10     0.139889   0.165016   0.957605                  \n",
      "    11     0.139214   0.164425   0.958871                  \n",
      "    12     0.137029   0.162486   0.959472                  \n",
      "    13     0.135992   0.160175   0.960033                  \n",
      "    14     0.135145   0.160081   0.959943                  \n",
      "    15     0.133725   0.161357   0.960083                  \n",
      "    16     0.133262   0.159516   0.960547                  \n",
      "    17     0.132123   0.159365   0.960199                  \n",
      "    18     0.131456   0.158747   0.960476                  \n",
      "    19     0.131636   0.157992   0.960692                  \n",
      "\n"
     ]
    },
    {
     "data": {
      "text/plain": [
       "[array([0.15799]), 0.9606924740176395]"
      ]
     },
     "execution_count": 35,
     "metadata": {},
     "output_type": "execute_result"
    }
   ],
   "source": [
    "lr = 0.1\n",
    "learn.fit(lr, 20,metrics=[auc],cycle_len=1,use_clr=(10,4),\n",
    "          best_save_name='nn700600best')"
   ]
  },
  {
   "cell_type": "code",
   "execution_count": 36,
   "metadata": {},
   "outputs": [
    {
     "data": {
      "application/vnd.jupyter.widget-view+json": {
       "model_id": "4eaed7bd79114ba399e09ad7ea55abf3",
       "version_major": 2,
       "version_minor": 0
      },
      "text/plain": [
       "HBox(children=(IntProgress(value=0, description='Epoch', max=10), HTML(value='')))"
      ]
     },
     "metadata": {},
     "output_type": "display_data"
    },
    {
     "name": "stdout",
     "output_type": "stream",
     "text": [
      " 45%|████▌     | 18/40 [00:09<00:12,  1.81it/s, loss=0.134]"
     ]
    },
    {
     "name": "stderr",
     "output_type": "stream",
     "text": [
      "/home/quantran/anaconda3/envs/fastai/lib/python3.6/site-packages/tqdm/_monitor.py:89: TqdmSynchronisationWarning: Set changed size during iteration (see https://github.com/tqdm/tqdm/issues/481)\n",
      "  TqdmSynchronisationWarning)\n"
     ]
    },
    {
     "name": "stdout",
     "output_type": "stream",
     "text": [
      "epoch      trn_loss   val_loss   auc                       \n",
      "    0      0.130137   0.158256   0.96079   \n",
      "    1      0.130581   0.157434   0.96115                   \n",
      "    2      0.130055   0.157576   0.960773                  \n",
      "    3      0.129609   0.159115   0.961043                  \n",
      "    4      0.129111   0.157329   0.961271                  \n",
      "    5      0.128286   0.156915   0.961756                  \n",
      "    6      0.127916   0.156943   0.961573                  \n",
      "    7      0.127723   0.157562   0.961783                  \n",
      "    8      0.127215   0.156029   0.961723                  \n",
      "    9      0.127187   0.158092   0.962036                  \n",
      "\n"
     ]
    },
    {
     "data": {
      "text/plain": [
       "[array([0.15809]), 0.9620364201419284]"
      ]
     },
     "execution_count": 36,
     "metadata": {},
     "output_type": "execute_result"
    }
   ],
   "source": [
    "lr = 0.1\n",
    "learn.fit(lr, 10,metrics=[auc],cycle_len=1,use_clr=(10,3),\n",
    "          best_save_name='nn700600best')"
   ]
  },
  {
   "cell_type": "code",
   "execution_count": 31,
   "metadata": {},
   "outputs": [
    {
     "data": {
      "application/vnd.jupyter.widget-view+json": {
       "model_id": "c65087050b6e474691040182f0680777",
       "version_major": 2,
       "version_minor": 0
      },
      "text/plain": [
       "HBox(children=(IntProgress(value=0, description='Epoch', max=10), HTML(value='')))"
      ]
     },
     "metadata": {},
     "output_type": "display_data"
    },
    {
     "name": "stdout",
     "output_type": "stream",
     "text": [
      " 40%|████      | 20/50 [00:09<00:13,  2.20it/s, loss=0.113]"
     ]
    },
    {
     "name": "stderr",
     "output_type": "stream",
     "text": [
      "/home/quantran/anaconda3/envs/fastai/lib/python3.6/site-packages/tqdm/_monitor.py:89: TqdmSynchronisationWarning: Set changed size during iteration (see https://github.com/tqdm/tqdm/issues/481)\n",
      "  TqdmSynchronisationWarning)\n"
     ]
    },
    {
     "name": "stdout",
     "output_type": "stream",
     "text": [
      "epoch      trn_loss   val_loss   auc                       \n",
      "    0      0.110562   0.136743   0.971393  \n",
      "    1      0.110527   0.136507   0.971455                  \n",
      "    2      0.109905   0.135838   0.971809                  \n",
      "    3      0.11022    0.136122   0.97169                   \n",
      "    4      0.110691   0.136423   0.97163                   \n",
      "    5      0.109522   0.135802   0.971783                  \n",
      "    6      0.109626   0.134951   0.972051                  \n",
      "    7      0.108758   0.134656   0.972136                  \n",
      "    8      0.108471   0.135093   0.972178                  \n",
      "    9      0.108232   0.134736   0.972408                  \n"
     ]
    },
    {
     "data": {
      "text/plain": [
       "[array([0.13474]), 0.9724076455294064]"
      ]
     },
     "execution_count": 31,
     "metadata": {},
     "output_type": "execute_result"
    }
   ],
   "source": [
    "learn.load('nn700700best')\n",
    "lr = 0.1\n",
    "learn.fit(lr, 10,metrics=[auc],cycle_len=1,use_clr=(10,3),\n",
    "          best_save_name='nn700700best_2')"
   ]
  },
  {
   "cell_type": "code",
   "execution_count": 32,
   "metadata": {},
   "outputs": [
    {
     "data": {
      "application/vnd.jupyter.widget-view+json": {
       "model_id": "9ccf2473883c4f58af42fef5a49bf00b",
       "version_major": 2,
       "version_minor": 0
      },
      "text/plain": [
       "HBox(children=(IntProgress(value=0, description='Epoch', max=20), HTML(value='')))"
      ]
     },
     "metadata": {},
     "output_type": "display_data"
    },
    {
     "name": "stdout",
     "output_type": "stream",
     "text": [
      " 14%|█▍        | 7/50 [00:03<00:22,  1.92it/s, loss=0.105] "
     ]
    },
    {
     "name": "stderr",
     "output_type": "stream",
     "text": [
      "/home/quantran/anaconda3/envs/fastai/lib/python3.6/site-packages/tqdm/_monitor.py:89: TqdmSynchronisationWarning: Set changed size during iteration (see https://github.com/tqdm/tqdm/issues/481)\n",
      "  TqdmSynchronisationWarning)\n"
     ]
    },
    {
     "name": "stdout",
     "output_type": "stream",
     "text": [
      "epoch      trn_loss   val_loss   auc                       \n",
      "    0      0.106745   0.134866   0.972483  \n",
      "    1      0.107188   0.13476    0.972282                  \n",
      "    2      0.106509   0.13454    0.972436                  \n",
      "    3      0.106503   0.134928   0.972363                  \n",
      "    4      0.105479   0.13482    0.972657                  \n",
      "    5      0.105948   0.134174   0.972605                  \n",
      "    6      0.106527   0.133745   0.972851                  \n",
      "    7      0.106088   0.134816   0.972632                  \n",
      "    8      0.10612    0.134407   0.97265                   \n",
      "    9      0.104908   0.134273   0.972885                  \n",
      "    10     0.105057   0.13421    0.972991                  \n",
      "    11     0.104045   0.134525   0.972716                  \n",
      "    12     0.104197   0.1343     0.972712                  \n",
      "    13     0.103926   0.135457   0.972739                  \n",
      "    14     0.103912   0.134608   0.972735                  \n",
      "    15     0.103815   0.134329   0.973058                  \n",
      "    16     0.102975   0.134845   0.972781                  \n",
      "    17     0.103096   0.135046   0.972594                  \n",
      "    18     0.102868   0.13415    0.973138                  \n",
      "    19     0.102471   0.134261   0.972995                  \n"
     ]
    },
    {
     "data": {
      "text/plain": [
       "[array([0.13426]), 0.972994845023093]"
      ]
     },
     "execution_count": 32,
     "metadata": {},
     "output_type": "execute_result"
    }
   ],
   "source": [
    "learn.load('nn700700best_2')\n",
    "lr = 0.1\n",
    "learn.fit(lr, 20,metrics=[auc],cycle_len=1,use_clr=(10,3),\n",
    "          best_save_name='nn700700best_2')"
   ]
  },
  {
   "cell_type": "code",
   "execution_count": 36,
   "metadata": {},
   "outputs": [
    {
     "data": {
      "application/vnd.jupyter.widget-view+json": {
       "model_id": "3cedb1e53c564fbf8cd702c9f656fb69",
       "version_major": 2,
       "version_minor": 0
      },
      "text/plain": [
       "HBox(children=(IntProgress(value=0, description='Epoch', max=5), HTML(value='')))"
      ]
     },
     "metadata": {},
     "output_type": "display_data"
    },
    {
     "name": "stdout",
     "output_type": "stream",
     "text": [
      "\r",
      "  0%|          | 0/50 [00:00<?, ?it/s]"
     ]
    },
    {
     "name": "stderr",
     "output_type": "stream",
     "text": [
      "/home/quantran/anaconda3/envs/fastai/lib/python3.6/site-packages/tqdm/_monitor.py:89: TqdmSynchronisationWarning: Set changed size during iteration (see https://github.com/tqdm/tqdm/issues/481)\n",
      "  TqdmSynchronisationWarning)\n"
     ]
    },
    {
     "name": "stdout",
     "output_type": "stream",
     "text": [
      "epoch      trn_loss   val_loss   auc                        \n",
      "    0      0.10128    0.134072   0.973162  \n",
      "    1      0.100998   0.134795   0.973203                   \n",
      "    2      0.100935   0.134465   0.973238                   \n",
      "    3      0.100672   0.134488   0.973055                   \n",
      "    4      0.101942   0.134079   0.973248                   \n"
     ]
    },
    {
     "data": {
      "text/plain": [
       "[array([0.13408]), 0.973247584587075]"
      ]
     },
     "execution_count": 36,
     "metadata": {},
     "output_type": "execute_result"
    }
   ],
   "source": [
    "learn.load('nn700700best_3')\n",
    "lr = 0.05\n",
    "learn.fit(lr, 5,metrics=[auc],cycle_len=1,use_clr=(5,5),best_save_name='nn700700best_4')"
   ]
  },
  {
   "cell_type": "code",
   "execution_count": 38,
   "metadata": {},
   "outputs": [
    {
     "data": {
      "application/vnd.jupyter.widget-view+json": {
       "model_id": "824f1f7cd0bd4124b817404ad7dec925",
       "version_major": 2,
       "version_minor": 0
      },
      "text/plain": [
       "HBox(children=(IntProgress(value=0, description='Epoch', max=5), HTML(value='')))"
      ]
     },
     "metadata": {},
     "output_type": "display_data"
    },
    {
     "name": "stdout",
     "output_type": "stream",
     "text": [
      " 22%|██▏       | 11/50 [00:05<00:20,  1.91it/s, loss=0.103]"
     ]
    },
    {
     "name": "stderr",
     "output_type": "stream",
     "text": [
      "/home/quantran/anaconda3/envs/fastai/lib/python3.6/site-packages/tqdm/_monitor.py:89: TqdmSynchronisationWarning: Set changed size during iteration (see https://github.com/tqdm/tqdm/issues/481)\n",
      "  TqdmSynchronisationWarning)\n"
     ]
    },
    {
     "name": "stdout",
     "output_type": "stream",
     "text": [
      "epoch      trn_loss   val_loss   auc                        \n",
      "    0      0.100824   0.134113   0.973135  \n",
      "    1      0.101222   0.135116   0.973369                   \n",
      "    2      0.100864   0.136144   0.973402                  \n",
      "    3      0.100945   0.135294   0.97315                    \n",
      "    4      0.099952   0.136745   0.973052                   \n"
     ]
    },
    {
     "data": {
      "text/plain": [
       "[array([0.13674]), 0.9730516704023444]"
      ]
     },
     "execution_count": 38,
     "metadata": {},
     "output_type": "execute_result"
    }
   ],
   "source": [
    "learn.load('nn700700best_4')\n",
    "lr = 0.1\n",
    "learn.fit(lr, 5,metrics=[auc],cycle_len=1,use_clr=(10,3),best_save_name='nn700700best_5')"
   ]
  },
  {
   "cell_type": "code",
   "execution_count": 30,
   "metadata": {},
   "outputs": [
    {
     "data": {
      "application/vnd.jupyter.widget-view+json": {
       "model_id": "48a0cb1e30d748db82d4d5b069e1117e",
       "version_major": 2,
       "version_minor": 0
      },
      "text/plain": [
       "HBox(children=(IntProgress(value=0, description='Epoch', max=20), HTML(value='')))"
      ]
     },
     "metadata": {},
     "output_type": "display_data"
    },
    {
     "name": "stdout",
     "output_type": "stream",
     "text": [
      " 68%|██████▊   | 23/34 [00:10<00:04,  2.27it/s, loss=0.124]"
     ]
    },
    {
     "name": "stderr",
     "output_type": "stream",
     "text": [
      "/home/quantran/anaconda3/envs/fastai/lib/python3.6/site-packages/tqdm/_monitor.py:89: TqdmSynchronisationWarning: Set changed size during iteration (see https://github.com/tqdm/tqdm/issues/481)\n",
      "  TqdmSynchronisationWarning)\n"
     ]
    },
    {
     "name": "stdout",
     "output_type": "stream",
     "text": [
      "epoch      trn_loss   val_loss   auc                       \n",
      "    0      0.125975   0.149344   0.966231  \n",
      "    1      0.124432   0.147591   0.96698                   \n",
      "    2      0.122022   0.146214   0.968286                  \n",
      "    3      0.120784   0.143232   0.96909                   \n",
      "    4      0.11971    0.142378   0.970152                  \n",
      "    5      0.117964   0.140705   0.970583                  \n",
      "    6      0.116053   0.139456   0.971256                  \n",
      "    7      0.114184   0.138152   0.971643                  \n",
      "    8      0.112595   0.138467   0.971758                  \n",
      "    9      0.111418   0.139397   0.971931                  \n",
      "    10     0.110692   0.138169   0.972246                  \n",
      "    11     0.10969    0.138458   0.971988                  \n",
      "    12     0.109001   0.138285   0.972512                  \n",
      "    13     0.108314   0.138245   0.972417                  \n",
      "    14     0.108379   0.135645   0.972753                  \n",
      "    15     0.10891    0.135095   0.973071                  \n",
      "    16     0.107705   0.136185   0.972764                  \n",
      "    17     0.107393   0.136305   0.973498                  \n",
      "    18     0.10613    0.136149   0.973208                  \n",
      "    19     0.105347   0.136803   0.973122                  \n",
      "\n"
     ]
    },
    {
     "data": {
      "text/plain": [
       "[array([0.1368]), 0.9731220315345827]"
      ]
     },
     "execution_count": 30,
     "metadata": {},
     "output_type": "execute_result"
    }
   ],
   "source": [
    "# lr = 0.1\n",
    "# learn.fit(lr, 20,metrics=[auc],cycle_len=1,use_clr=(10,4))"
   ]
  },
  {
   "cell_type": "code",
   "execution_count": 39,
   "metadata": {},
   "outputs": [],
   "source": [
    "learn.load(\"nn700700best_4\")"
   ]
  },
  {
   "cell_type": "code",
   "execution_count": 40,
   "metadata": {},
   "outputs": [
    {
     "name": "stderr",
     "output_type": "stream",
     "text": [
      "/home/quantran/anaconda3/envs/fastai/lib/python3.6/site-packages/tqdm/_monitor.py:89: TqdmSynchronisationWarning: Set changed size during iteration (see https://github.com/tqdm/tqdm/issues/481)\n",
      "  TqdmSynchronisationWarning)\n"
     ]
    }
   ],
   "source": [
    "preds = learn.predict_dl(md.val_dl)"
   ]
  },
  {
   "cell_type": "code",
   "execution_count": 41,
   "metadata": {},
   "outputs": [
    {
     "data": {
      "text/plain": [
       "array([[-0.06699, -2.73658],\n",
       "       [-0.0932 , -2.41929],\n",
       "       [-0.5543 , -0.85443],\n",
       "       ...,\n",
       "       [-0.0022 , -6.12163],\n",
       "       [-0.00527, -5.24812],\n",
       "       [-0.05164, -2.98921]], dtype=float32)"
      ]
     },
     "execution_count": 41,
     "metadata": {},
     "output_type": "execute_result"
    }
   ],
   "source": [
    "preds"
   ]
  },
  {
   "cell_type": "code",
   "execution_count": 36,
   "metadata": {},
   "outputs": [],
   "source": [
    "# expsums = np.exp(preds).sum(axis=1)\n",
    "# probs = np.exp(preds) / expsums[:, None]\n",
    "# probs"
   ]
  },
  {
   "cell_type": "code",
   "execution_count": 42,
   "metadata": {},
   "outputs": [
    {
     "data": {
      "text/plain": [
       "array([[0.93521, 0.06479],\n",
       "       [0.91102, 0.08898],\n",
       "       [0.57447, 0.42553],\n",
       "       ...,\n",
       "       [0.99781, 0.00219],\n",
       "       [0.99474, 0.00526],\n",
       "       [0.94967, 0.05033]], dtype=float32)"
      ]
     },
     "execution_count": 42,
     "metadata": {},
     "output_type": "execute_result"
    }
   ],
   "source": [
    "np.exp(preds)"
   ]
  },
  {
   "cell_type": "code",
   "execution_count": null,
   "metadata": {},
   "outputs": [],
   "source": [
    "\n",
    "# val_pred,val_targ=m.predict_with_targs()\n",
    "# if get_oof:\n",
    "#     oof_train = np.append(oof_train,val_pred)\n",
    "\n",
    "# val_loss=loss_metric(val_targ,val_pred)\n",
    "\n",
    "# print('Val RMSE: {}'.format(val_loss))\n",
    "# cv_losses.append(val_loss)\n",
    "# print('6 fold results: {}'.format(cv_losses))\n",
    "\n",
    "# mean_cv_loss = np.mean(cv_losses)\n",
    "# print(\"Mean Cross Validation RMSE: {}\\n\".format(mean_cv_loss))\n",
    "# return (oof_train,cv_losses) if get_oof else cv_losses"
   ]
  }
 ],
 "metadata": {
  "kernelspec": {
   "display_name": "Python 3",
   "language": "python",
   "name": "python3"
  },
  "language_info": {
   "codemirror_mode": {
    "name": "ipython",
    "version": 3
   },
   "file_extension": ".py",
   "mimetype": "text/x-python",
   "name": "python",
   "nbconvert_exporter": "python",
   "pygments_lexer": "ipython3",
   "version": "3.6.5"
  },
  "varInspector": {
   "cols": {
    "lenName": 16,
    "lenType": 16,
    "lenVar": 40
   },
   "kernels_config": {
    "python": {
     "delete_cmd_postfix": "",
     "delete_cmd_prefix": "del ",
     "library": "var_list.py",
     "varRefreshCmd": "print(var_dic_list())"
    },
    "r": {
     "delete_cmd_postfix": ") ",
     "delete_cmd_prefix": "rm(",
     "library": "var_list.r",
     "varRefreshCmd": "cat(var_dic_list()) "
    }
   },
   "types_to_exclude": [
    "module",
    "function",
    "builtin_function_or_method",
    "instance",
    "_Feature"
   ],
   "window_display": false
  }
 },
 "nbformat": 4,
 "nbformat_minor": 2
}
