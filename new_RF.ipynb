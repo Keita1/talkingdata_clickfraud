{
 "cells": [
  {
   "cell_type": "code",
   "execution_count": 1,
   "metadata": {},
   "outputs": [
    {
     "data": {
      "text/plain": [
       "[PosixPath('data/train_no_att_time.csv'),\n",
       " PosixPath('data/train_day7_3to16_nextclick.feather'),\n",
       " PosixPath('data/train_day8_3to16_FE.feather'),\n",
       " PosixPath('data/train_df_10mil_fe_v1.feather'),\n",
       " PosixPath('data/train_day8_3to16_nextclick.feather'),\n",
       " PosixPath('data/sample_submission.csv'),\n",
       " PosixPath('data/train_day9_3to16_FE.feather'),\n",
       " PosixPath('data/train_day9_3to16_nextclick.feather'),\n",
       " PosixPath('data/train_sample.csv'),\n",
       " PosixPath('data/train_day7_3to16_FE.feather'),\n",
       " PosixPath('data/val_df_10mil_fe_v1.feather'),\n",
       " PosixPath('data/mean_enc_df'),\n",
       " PosixPath('data/test.csv')]"
      ]
     },
     "execution_count": 1,
     "metadata": {},
     "output_type": "execute_result"
    }
   ],
   "source": [
    "%matplotlib inline\n",
    "%reload_ext autoreload\n",
    "%autoreload 2\n",
    "\n",
    "import pandas as pd\n",
    "import numpy as np\n",
    "import matplotlib.pyplot as plt\n",
    "\n",
    "from pathlib import Path\n",
    "\n",
    "import gc\n",
    "import time\n",
    "\n",
    "from utils import *\n",
    "\n",
    "PATH = Path('data')\n",
    "list(PATH.iterdir())"
   ]
  },
  {
   "cell_type": "code",
   "execution_count": 2,
   "metadata": {},
   "outputs": [],
   "source": [
    "def metric(rf,X_val,y_val):\n",
    "    y_val_pred = rf.predict_proba(X_val)[:,1]\n",
    "    return roc_auc_score(y_val,y_val_pred)\n",
    "\n",
    "def permutation_importances(rf,X_val,y_val,metric):\n",
    "    baseline = metric(rf,X_val,y_val)\n",
    "    imp=[]\n",
    "    for col in X_val.columns:\n",
    "        save = X_val[col].copy()\n",
    "        X_val[col] = np.random.permutation(X_val[col])\n",
    "        m = metric(rf,X_val,y_val)\n",
    "        print(f'Score after {col} perm: {m:.5f}')\n",
    "        X_val[col] = save\n",
    "        imp.append(baseline-m)\n",
    "    return np.array(imp)\n",
    "\n",
    "def get_sample(filename,sz):\n",
    "    df = get_feather(filename)\n",
    "    sample_idx =np.random.permutation(df.shape[0])\n",
    "    sample_idx=sorted(sample_idx[:sz])\n",
    "    df = df.loc[sample_idx,:].reset_index().drop('index',axis=1)\n",
    "    gc.collect()\n",
    "    return df"
   ]
  },
  {
   "cell_type": "code",
   "execution_count": 31,
   "metadata": {},
   "outputs": [],
   "source": [
    "def prediction_score(rf,train_df,y_train,val_df,y_val):\n",
    "    y_train_pred = rf.predict_proba(train_df)[:,1]\n",
    "    print(f'Train AUC: {roc_auc_score(y_train, y_train_pred)}')\n",
    "    y_val_pred = rf.predict_proba(val_df)[:,1]\n",
    "    print(f'Val AUC: {roc_auc_score(y_val, y_val_pred)}')"
   ]
  },
  {
   "cell_type": "markdown",
   "metadata": {},
   "source": [
    "# Get data\n"
   ]
  },
  {
   "cell_type": "code",
   "execution_count": 4,
   "metadata": {},
   "outputs": [],
   "source": [
    "train_df=get_feather('train_day8_3to16_FE.feather')"
   ]
  },
  {
   "cell_type": "code",
   "execution_count": 22,
   "metadata": {},
   "outputs": [],
   "source": [
    "def get_sample(filename,sz):\n",
    "    df = get_feather(filename)\n",
    "    sample_idx =np.random.permutation(df.shape[0])\n",
    "    sample_idx=sorted(sample_idx[:sz])\n",
    "    df = df.loc[sample_idx,:].reset_index().drop('index',axis=1)\n",
    "    gc.collect()\n",
    "    return df"
   ]
  },
  {
   "cell_type": "code",
   "execution_count": 6,
   "metadata": {},
   "outputs": [],
   "source": [
    "# sample_idx =np.random.permutation(train_df.shape[0])\n",
    "\n",
    "# sz = 3000000\n",
    "# sample_idx=sorted(sample_idx[:sz])\n",
    "\n",
    "# train_df = train_df.loc[sample_idx,:].reset_index().drop('index',axis=1)"
   ]
  },
  {
   "cell_type": "code",
   "execution_count": 17,
   "metadata": {},
   "outputs": [
    {
     "data": {
      "text/plain": [
       "0.0024953333333333333"
      ]
     },
     "execution_count": 17,
     "metadata": {},
     "output_type": "execute_result"
    }
   ],
   "source": [
    "train_df.is_attributed.mean()"
   ]
  },
  {
   "cell_type": "code",
   "execution_count": 21,
   "metadata": {},
   "outputs": [
    {
     "data": {
      "text/plain": [
       "117"
      ]
     },
     "execution_count": 21,
     "metadata": {},
     "output_type": "execute_result"
    }
   ],
   "source": [
    "gc.collect()"
   ]
  },
  {
   "cell_type": "code",
   "execution_count": 18,
   "metadata": {},
   "outputs": [],
   "source": [
    "val_df=get_feather('train_day9_3to16_FE.feather')"
   ]
  },
  {
   "cell_type": "code",
   "execution_count": 26,
   "metadata": {},
   "outputs": [
    {
     "data": {
      "text/plain": [
       "Index(['ip', 'app', 'device', 'os', 'channel', 'is_attributed', 'day', 'hour',\n",
       "       'os_device_mean_target_day8_alpha1', 'ip_mean_target_day8_alpha1',\n",
       "       'device_mean_target_day8_alpha1', 'app_channel_mean_target_day8_alpha1',\n",
       "       'app_os_mean_target_day8_alpha1',\n",
       "       'channel_device_mean_target_day8_alpha1', 'app_mean_target_day8_alpha1',\n",
       "       'channel_os_mean_target_day8_alpha1',\n",
       "       'app_device_mean_target_day8_alpha1', 'channel_mean_target_day8_alpha1',\n",
       "       'ip_next_click', 'ip_app_next_click', 'ip_channel_next_click',\n",
       "       'ip_os_cumcount', 'ip_app_cumcount', 'ip_device_os_app_cumcount',\n",
       "       'ip_cumcount', 'ip_app_os_count_channel',\n",
       "       'ip_app_day_hour_count_channel', 'app_AvgViewPerDistinct_ip',\n",
       "       'ip_count_channel', 'app_count_channel', 'channel_count_app',\n",
       "       'ip_device_os_size_None', 'ip_device_os_app_size_None', 'minute',\n",
       "       'second'],\n",
       "      dtype='object')"
      ]
     },
     "execution_count": 26,
     "metadata": {},
     "output_type": "execute_result"
    }
   ],
   "source": [
    "val_df.columns"
   ]
  },
  {
   "cell_type": "code",
   "execution_count": 20,
   "metadata": {},
   "outputs": [],
   "source": [
    "# sample_idx =np.random.permutation(val_df.shape[0])\n",
    "\n",
    "# sz = 20000000\n",
    "# sample_idx=sorted(sample_idx[:sz])\n",
    "\n",
    "# val_df = val_df.loc[sample_idx,:].reset_index().drop('index',axis=1)"
   ]
  },
  {
   "cell_type": "code",
   "execution_count": 27,
   "metadata": {},
   "outputs": [
    {
     "data": {
      "text/plain": [
       "95"
      ]
     },
     "execution_count": 27,
     "metadata": {},
     "output_type": "execute_result"
    }
   ],
   "source": [
    "y_train = train_df.is_attributed\n",
    "train_df.drop(['is_attributed','ip'],axis=1,inplace=True)\n",
    "\n",
    "y_val = val_df.is_attributed\n",
    "val_df.drop(['is_attributed','ip'],axis=1,inplace=True)\n",
    "gc.collect()"
   ]
  },
  {
   "cell_type": "code",
   "execution_count": 29,
   "metadata": {},
   "outputs": [],
   "source": [
    "from sklearn.ensemble import RandomForestClassifier\n",
    "from sklearn.metrics import roc_auc_score\n",
    "\n",
    "rf = RandomForestClassifier(n_estimators=10,max_features=.8,oob_score=False,\n",
    "                           min_samples_leaf=10,n_jobs=-1,class_weight={1:100})"
   ]
  },
  {
   "cell_type": "code",
   "execution_count": 30,
   "metadata": {},
   "outputs": [
    {
     "name": "stdout",
     "output_type": "stream",
     "text": [
      "CPU times: user 19min 23s, sys: 6 s, total: 19min 29s\n",
      "Wall time: 5min 48s\n"
     ]
    },
    {
     "data": {
      "text/plain": [
       "RandomForestClassifier(bootstrap=True, class_weight={1: 100},\n",
       "            criterion='gini', max_depth=None, max_features=0.8,\n",
       "            max_leaf_nodes=None, min_impurity_decrease=0.0,\n",
       "            min_impurity_split=None, min_samples_leaf=10,\n",
       "            min_samples_split=2, min_weight_fraction_leaf=0.0,\n",
       "            n_estimators=10, n_jobs=-1, oob_score=False, random_state=None,\n",
       "            verbose=0, warm_start=False)"
      ]
     },
     "execution_count": 30,
     "metadata": {},
     "output_type": "execute_result"
    }
   ],
   "source": [
    "%%time\n",
    "rf.fit(train_df,y_train)"
   ]
  },
  {
   "cell_type": "code",
   "execution_count": 32,
   "metadata": {},
   "outputs": [
    {
     "name": "stdout",
     "output_type": "stream",
     "text": [
      "Train AUC: 0.9997225077826053\n",
      "Val AUC: 0.9005347330502085\n"
     ]
    }
   ],
   "source": [
    "prediction_score(rf,train_df,y_train,val_df,y_val)"
   ]
  },
  {
   "cell_type": "markdown",
   "metadata": {},
   "source": []
  },
  {
   "cell_type": "code",
   "execution_count": 33,
   "metadata": {},
   "outputs": [
    {
     "name": "stdout",
     "output_type": "stream",
     "text": [
      "Score after app perm: 0.90043\n",
      "Score after device perm: 0.90108\n",
      "Score after os perm: 0.90041\n",
      "Score after channel perm: 0.90099\n",
      "Score after day perm: 0.90053\n",
      "Score after hour perm: 0.89953\n",
      "Score after os_device_mean_target_day8_alpha1 perm: 0.90050\n",
      "Score after ip_mean_target_day8_alpha1 perm: 0.90054\n",
      "Score after device_mean_target_day8_alpha1 perm: 0.89886\n",
      "Score after app_channel_mean_target_day8_alpha1 perm: 0.85685\n",
      "Score after app_os_mean_target_day8_alpha1 perm: 0.89554\n",
      "Score after channel_device_mean_target_day8_alpha1 perm: 0.87670\n",
      "Score after app_mean_target_day8_alpha1 perm: 0.90261\n",
      "Score after channel_os_mean_target_day8_alpha1 perm: 0.88322\n",
      "Score after app_device_mean_target_day8_alpha1 perm: 0.90109\n",
      "Score after channel_mean_target_day8_alpha1 perm: 0.86413\n",
      "Score after ip_next_click perm: 0.89871\n",
      "Score after ip_app_next_click perm: 0.90080\n",
      "Score after ip_channel_next_click perm: 0.90001\n",
      "Score after ip_os_cumcount perm: 0.89993\n",
      "Score after ip_app_cumcount perm: 0.89672\n",
      "Score after ip_device_os_app_cumcount perm: 0.90130\n",
      "Score after ip_cumcount perm: 0.89658\n",
      "Score after ip_app_os_count_channel perm: 0.88058\n",
      "Score after ip_app_day_hour_count_channel perm: 0.89521\n",
      "Score after app_AvgViewPerDistinct_ip perm: 0.89853\n",
      "Score after ip_count_channel perm: 0.88768\n",
      "Score after app_count_channel perm: 0.90049\n",
      "Score after channel_count_app perm: 0.90125\n",
      "Score after ip_device_os_size_None perm: 0.89475\n",
      "Score after ip_device_os_app_size_None perm: 0.89955\n",
      "Score after minute perm: 0.90067\n",
      "Score after second perm: 0.90100\n"
     ]
    },
    {
     "data": {
      "text/plain": [
       "<matplotlib.axes._subplots.AxesSubplot at 0x7fd47c22ea90>"
      ]
     },
     "execution_count": 33,
     "metadata": {},
     "output_type": "execute_result"
    },
    {
     "data": {
      "image/png": "[encoded data removed]",
      "text/plain": [
       "<Figure size 1440x720 with 1 Axes>"
      ]
     },
     "metadata": {},
     "output_type": "display_data"
    }
   ],
   "source": [
    "fea_imp = permutation_importances(rf,val_df,y_val,metric)\n",
    "fea_imp_df = pd.DataFrame(data={'Feature':val_df.columns,'Importance':fea_imp})\n",
    "fea_imp_df = fea_imp_df.set_index('Feature')\n",
    "fea_imp_df = fea_imp_df.sort_values('Importance', ascending=True)\n",
    "fea_imp_df.plot(kind='barh',figsize=(20,10))"
   ]
  }
 ],
 "metadata": {
  "kernelspec": {
   "display_name": "Python 3",
   "language": "python",
   "name": "python3"
  },
  "language_info": {
   "codemirror_mode": {
    "name": "ipython",
    "version": 3
   },
   "file_extension": ".py",
   "mimetype": "text/x-python",
   "name": "python",
   "nbconvert_exporter": "python",
   "pygments_lexer": "ipython3",
   "version": "3.6.5"
  }
 },
 "nbformat": 4,
 "nbformat_minor": 2
}
