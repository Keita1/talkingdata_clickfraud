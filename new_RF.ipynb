{
 "cells": [
  {
   "cell_type": "code",
   "execution_count": 1,
   "metadata": {},
   "outputs": [
    {
     "data": {
      "text/plain": [
       "[PosixPath('data/train_no_att_time.csv'),\n",
       " PosixPath('data/submission'),\n",
       " PosixPath('data/train_day8_3to16_FE.feather'),\n",
       " PosixPath('data/train_df_10mil_fe_v1.feather'),\n",
       " PosixPath('data/sample_submission.csv'),\n",
       " PosixPath('data/train_day9_3to16_FE.feather'),\n",
       " PosixPath('data/train_sample.csv'),\n",
       " PosixPath('data/train_day7_3to16_FE.feather'),\n",
       " PosixPath('data/dtree.dot'),\n",
       " PosixPath('data/test_FE.feather'),\n",
       " PosixPath('data/val_idxs.p'),\n",
       " PosixPath('data/mean_enc_df'),\n",
       " PosixPath('data/test_nextclick.feather'),\n",
       " PosixPath('data/validation')]"
      ]
     },
     "execution_count": 1,
     "metadata": {},
     "output_type": "execute_result"
    }
   ],
   "source": [
    "%matplotlib inline\n",
    "%reload_ext autoreload\n",
    "%autoreload 2\n",
    "\n",
    "\n",
    "from pathlib import Path\n",
    "\n",
    "import gc\n",
    "import time\n",
    "\n",
    "from utils import *\n",
    "\n",
    "from sklearn.ensemble import RandomForestClassifier\n",
    "\n",
    "seed=42\n",
    "PATH = Path('data')\n",
    "list(PATH.iterdir())"
   ]
  },
  {
   "cell_type": "code",
   "execution_count": 2,
   "metadata": {},
   "outputs": [],
   "source": [
    "def metric(rf,X_val,y_val):\n",
    "    y_val_pred = rf.predict_proba(X_val)[:,1]\n",
    "    return roc_auc_score(y_val,y_val_pred)\n",
    "\n",
    "def permutation_importances(rf,X_val,y_val,metric):\n",
    "    baseline = metric(rf,X_val,y_val)\n",
    "    imp=[]\n",
    "    for col in X_val.columns:\n",
    "        save = X_val[col].copy()\n",
    "        X_val[col] = np.random.permutation(X_val[col])\n",
    "        m = metric(rf,X_val,y_val)\n",
    "        print(f'Score after {col} perm: {m:.5f}')\n",
    "        X_val[col] = save\n",
    "        imp.append(baseline-m)\n",
    "    return np.array(imp)\n",
    "\n",
    "def get_sample_timeseries(filename,sz):\n",
    "    df = get_feather(filename)\n",
    "    sample_idx =np.random.permutation(df.shape[0])\n",
    "    sample_idx=sorted(sample_idx[:sz])\n",
    "    df = df.loc[sample_idx,:].reset_index().drop('index',axis=1)\n",
    "    gc.collect()\n",
    "    return df"
   ]
  },
  {
   "cell_type": "code",
   "execution_count": 3,
   "metadata": {},
   "outputs": [],
   "source": [
    "def prediction_score(rf,train_df,y_train,val_df,y_val):\n",
    "    y_train_pred = rf.predict_proba(train_df)[:,1]\n",
    "    print(f'Train AUC: {roc_auc_score(y_train, y_train_pred)}')\n",
    "    y_val_pred = rf.predict_proba(val_df)[:,1]\n",
    "    val_auc = roc_auc_score(y_val, y_val_pred)\n",
    "    print(f'Val AUC: {roc_auc_score(y_val, y_val_pred)}')\n",
    "    return val_auc"
   ]
  },
  {
   "cell_type": "code",
   "execution_count": 4,
   "metadata": {},
   "outputs": [
    {
     "ename": "ModuleNotFoundError",
     "evalue": "No module named 'hyperopt'",
     "output_type": "error",
     "traceback": [
      "\u001b[0;31m---------------------------------------------------------------------------\u001b[0m",
      "\u001b[0;31mModuleNotFoundError\u001b[0m                       Traceback (most recent call last)",
      "\u001b[0;32m<ipython-input-4-44c29c52eb26>\u001b[0m in \u001b[0;36m<module>\u001b[0;34m()\u001b[0m\n\u001b[0;32m----> 1\u001b[0;31m \u001b[0;32mfrom\u001b[0m \u001b[0mhyperopt\u001b[0m \u001b[0;32mimport\u001b[0m \u001b[0mSTATUS_OK\u001b[0m\u001b[0;34m,\u001b[0m \u001b[0mTrials\u001b[0m\u001b[0;34m,\u001b[0m \u001b[0mfmin\u001b[0m\u001b[0;34m,\u001b[0m \u001b[0mhp\u001b[0m\u001b[0;34m,\u001b[0m \u001b[0mtpe\u001b[0m\u001b[0;34m\u001b[0m\u001b[0m\n\u001b[0m\u001b[1;32m      2\u001b[0m \u001b[0;34m\u001b[0m\u001b[0m\n\u001b[1;32m      3\u001b[0m \u001b[0mval_losses\u001b[0m\u001b[0;34m=\u001b[0m\u001b[0;34m[\u001b[0m\u001b[0;34m]\u001b[0m\u001b[0;34m\u001b[0m\u001b[0m\n\u001b[1;32m      4\u001b[0m \u001b[0;32mdef\u001b[0m \u001b[0mscore\u001b[0m\u001b[0;34m(\u001b[0m\u001b[0mparams\u001b[0m\u001b[0;34m)\u001b[0m\u001b[0;34m:\u001b[0m\u001b[0;34m\u001b[0m\u001b[0m\n\u001b[1;32m      5\u001b[0m     \u001b[0mprint\u001b[0m\u001b[0;34m(\u001b[0m\u001b[0;34m\"Training with params: \"\u001b[0m\u001b[0;34m)\u001b[0m\u001b[0;34m\u001b[0m\u001b[0m\n",
      "\u001b[0;31mModuleNotFoundError\u001b[0m: No module named 'hyperopt'"
     ]
    }
   ],
   "source": [
    "from hyperopt import STATUS_OK, Trials, fmin, hp, tpe\n",
    "\n",
    "val_losses=[]\n",
    "def score(params):\n",
    "    print(\"Training with params: \")\n",
    "    print(params)\n",
    "    \n",
    "    rf = RandomForestClassifier(oob_score=False,n_jobs=-1,class_weight={1:100},random_state=seed,**params)\n",
    "    rf.fit(train_df,y_train)\n",
    "    loss=prediction_score(rf,train_df,y_train,val_df,y_val)\n",
    "    val_losses.append(loss)\n",
    "    del rf\n",
    "    gc.collect()\n",
    "    return {'loss': loss, 'status': STATUS_OK}\n",
    "\n",
    "def optimize(space,max_evals=5):\n",
    "    \n",
    "    best = fmin(score, space, algo=tpe.suggest, \n",
    "        # trials=trials, \n",
    "        max_evals=max_evals)\n",
    "    return best"
   ]
  },
  {
   "cell_type": "markdown",
   "metadata": {},
   "source": [
    "# Get data\n"
   ]
  },
  {
   "cell_type": "code",
   "execution_count": 5,
   "metadata": {},
   "outputs": [],
   "source": [
    "cols_to_drop=['is_attributed','ip','day']"
   ]
  },
  {
   "cell_type": "code",
   "execution_count": 6,
   "metadata": {},
   "outputs": [],
   "source": [
    "sz = 3000000\n",
    "train_df=get_sample_timeseries('train_day8_3to16_FE.feather',sz)"
   ]
  },
  {
   "cell_type": "code",
   "execution_count": 5,
   "metadata": {},
   "outputs": [],
   "source": [
    "# 4 folds\n",
    "# val_df = get_feather('train_day9_3to16_FE.feather')\n",
    "# val_idxs = get_cv_idxs(val_df.shape[0],4)\n",
    "# pickle.dump( val_idxs, open(PATH/\"val_idxs.p\", \"wb\" ) )"
   ]
  },
  {
   "cell_type": "code",
   "execution_count": 6,
   "metadata": {},
   "outputs": [],
   "source": [
    "# val_idxs = pickle.load( open(PATH/\"val_idxs.p\", \"rb\" ) )"
   ]
  },
  {
   "cell_type": "code",
   "execution_count": 8,
   "metadata": {},
   "outputs": [
    {
     "data": {
      "text/plain": [
       "21"
      ]
     },
     "execution_count": 8,
     "metadata": {},
     "output_type": "execute_result"
    },
    {
     "data": {
      "text/plain": [
       "28"
      ]
     },
     "execution_count": 8,
     "metadata": {},
     "output_type": "execute_result"
    },
    {
     "data": {
      "text/plain": [
       "28"
      ]
     },
     "execution_count": 8,
     "metadata": {},
     "output_type": "execute_result"
    },
    {
     "data": {
      "text/plain": [
       "28"
      ]
     },
     "execution_count": 8,
     "metadata": {},
     "output_type": "execute_result"
    }
   ],
   "source": [
    "# for i,v in enumerate(val_idxs):\n",
    "#     temp = val_df.loc[v,:].reset_index().drop('index',axis=1)\n",
    "#     gc.collect()\n",
    "#     temp.to_feather(PATH/'validation'/ f'val{i}.feather')"
   ]
  },
  {
   "cell_type": "code",
   "execution_count": 7,
   "metadata": {},
   "outputs": [],
   "source": [
    "# sz = 20000000\n",
    "# val_df=get_sample_timeseries('train_day9_3to16_FE.feather',sz)"
   ]
  },
  {
   "cell_type": "code",
   "execution_count": 10,
   "metadata": {},
   "outputs": [
    {
     "data": {
      "text/plain": [
       "7"
      ]
     },
     "execution_count": 10,
     "metadata": {},
     "output_type": "execute_result"
    }
   ],
   "source": [
    "y_train = train_df.is_attributed\n",
    "train_df.drop(cols_to_drop,axis=1,inplace=True)\n",
    "gc.collect()"
   ]
  },
  {
   "cell_type": "code",
   "execution_count": 8,
   "metadata": {},
   "outputs": [
    {
     "data": {
      "text/plain": [
       "14"
      ]
     },
     "execution_count": 8,
     "metadata": {},
     "output_type": "execute_result"
    }
   ],
   "source": [
    "# y_val = val_df.is_attributed\n",
    "# val_df.drop(cols_to_drop,axis=1,inplace=True)\n",
    "# gc.collect()"
   ]
  },
  {
   "cell_type": "markdown",
   "metadata": {},
   "source": [
    "# Hyperparam tuning"
   ]
  },
  {
   "cell_type": "code",
   "execution_count": 13,
   "metadata": {
    "scrolled": true
   },
   "outputs": [
    {
     "name": "stdout",
     "output_type": "stream",
     "text": [
      "Training with params: \n",
      "{'max_depth': 15, 'max_features': 0.4, 'min_samples_leaf': 52, 'n_estimators': 39}\n",
      "Train AUC: 0.9970457162460779\n",
      "Val AUC: 0.9479758210890826\n",
      "Training with params: \n",
      "{'max_depth': 13, 'max_features': 0.7000000000000001, 'min_samples_leaf': 17, 'n_estimators': 7}\n",
      "Train AUC: 0.9906067985910008\n",
      "Val AUC: 0.9361428470272555\n",
      "Training with params: \n",
      "{'max_depth': 10, 'max_features': 1.0, 'min_samples_leaf': 86, 'n_estimators': 7}\n",
      "Train AUC: 0.9826785070613309\n",
      "Val AUC: 0.9555491526913718\n",
      "Training with params: \n",
      "{'max_depth': 8, 'max_features': 0.5, 'min_samples_leaf': 15, 'n_estimators': 11}\n",
      "Train AUC: 0.9793016152259189\n",
      "Val AUC: 0.9547558962546583\n",
      "Training with params: \n",
      "{'max_depth': 12, 'max_features': 0.4, 'min_samples_leaf': 83, 'n_estimators': 21}\n",
      "Train AUC: 0.9908104029077242\n",
      "Val AUC: 0.949875743047418\n",
      "Training with params: \n",
      "{'max_depth': 18, 'max_features': 0.9, 'min_samples_leaf': 11, 'n_estimators': 12}\n",
      "Train AUC: 0.9986092901772153\n",
      "Val AUC: 0.9217822364999013\n",
      "Training with params: \n",
      "{'max_depth': 10, 'max_features': 0.30000000000000004, 'min_samples_leaf': 43, 'n_estimators': 13}\n",
      "Train AUC: 0.9837386622594162\n",
      "Val AUC: 0.9552700613979227\n",
      "Training with params: \n",
      "{'max_depth': 9, 'max_features': 0.7000000000000001, 'min_samples_leaf': 70, 'n_estimators': 20}\n",
      "Train AUC: 0.9827033519269598\n",
      "Val AUC: 0.9552386173398003\n",
      "Training with params: \n",
      "{'max_depth': 11, 'max_features': 0.8, 'min_samples_leaf': 44, 'n_estimators': 20}\n",
      "Train AUC: 0.9882737813298558\n",
      "Val AUC: 0.9526610843984583\n",
      "Training with params: \n",
      "{'max_depth': 19, 'max_features': 0.5, 'min_samples_leaf': 13, 'n_estimators': 9}\n",
      "Train AUC: 0.9987073805017294\n",
      "Val AUC: 0.9162371913070642\n",
      "Training with params: \n",
      "{'max_depth': 15, 'max_features': 0.5, 'min_samples_leaf': 19, 'n_estimators': 13}\n",
      "Train AUC: 0.9960376856517222\n",
      "Val AUC: 0.9440271464032644\n",
      "Training with params: \n",
      "{'max_depth': 18, 'max_features': 0.6000000000000001, 'min_samples_leaf': 76, 'n_estimators': 25}\n",
      "Train AUC: 0.9978711734121609\n",
      "Val AUC: 0.9456084801186098\n",
      "Training with params: \n",
      "{'max_depth': 9, 'max_features': 0.8, 'min_samples_leaf': 18, 'n_estimators': 11}\n",
      "Train AUC: 0.9809579987868275\n",
      "Val AUC: 0.9569033639738755\n",
      "Training with params: \n",
      "{'max_depth': 8, 'max_features': 0.6000000000000001, 'min_samples_leaf': 51, 'n_estimators': 35}\n",
      "Train AUC: 0.9798743216071168\n",
      "Val AUC: 0.9576770717914608\n",
      "Training with params: \n",
      "{'max_depth': 17, 'max_features': 0.7000000000000001, 'min_samples_leaf': 64, 'n_estimators': 20}\n",
      "Train AUC: 0.9976034190101002\n",
      "Val AUC: 0.9459436632018271\n",
      "Training with params: \n",
      "{'max_depth': 14, 'max_features': 0.6000000000000001, 'min_samples_leaf': 51, 'n_estimators': 29}\n",
      "Train AUC: 0.9948659628678186\n",
      "Val AUC: 0.947088178321419\n",
      "Training with params: \n",
      "{'max_depth': 10, 'max_features': 0.6000000000000001, 'min_samples_leaf': 80, 'n_estimators': 22}\n",
      "Train AUC: 0.984551818476027\n",
      "Val AUC: 0.9558917849182933\n",
      "Training with params: \n",
      "{'max_depth': 15, 'max_features': 0.6000000000000001, 'min_samples_leaf': 44, 'n_estimators': 32}\n",
      "Train AUC: 0.996335936684374\n",
      "Val AUC: 0.9480749591370543\n",
      "Training with params: \n",
      "{'max_depth': 16, 'max_features': 0.9, 'min_samples_leaf': 66, 'n_estimators': 23}\n",
      "Train AUC: 0.9971962964278254\n",
      "Val AUC: 0.9479235829000723\n",
      "Training with params: \n",
      "{'max_depth': 12, 'max_features': 0.7000000000000001, 'min_samples_leaf': 73, 'n_estimators': 14}\n",
      "Train AUC: 0.9894633985252423\n",
      "Val AUC: 0.9509899637493076\n",
      "Training with params: \n",
      "{'max_depth': 19, 'max_features': 1.0, 'min_samples_leaf': 90, 'n_estimators': 9}\n",
      "Train AUC: 0.9974807549196267\n",
      "Val AUC: 0.9414394586181144\n",
      "Training with params: \n",
      "{'max_depth': 19, 'max_features': 0.9, 'min_samples_leaf': 13, 'n_estimators': 12}\n",
      "Train AUC: 0.9987481079648959\n",
      "Val AUC: 0.9189974897832343\n",
      "Training with params: \n",
      "{'max_depth': 19, 'max_features': 0.4, 'min_samples_leaf': 59, 'n_estimators': 34}\n",
      "Train AUC: 0.9984363122921017\n",
      "Val AUC: 0.9470443374162107\n",
      "Training with params: \n",
      "{'max_depth': 7, 'max_features': 0.5, 'min_samples_leaf': 13, 'n_estimators': 36}\n",
      "Train AUC: 0.9780510959808768\n",
      "Val AUC: 0.956680096628987\n",
      "Training with params: \n",
      "{'max_depth': 19, 'max_features': 0.30000000000000004, 'min_samples_leaf': 13, 'n_estimators': 8}\n",
      "Train AUC: 0.9987941181824203\n",
      "Val AUC: 0.9137689652543692\n",
      "Training with params: \n",
      "{'max_depth': 19, 'max_features': 0.30000000000000004, 'min_samples_leaf': 6, 'n_estimators': 8}\n",
      "Train AUC: 0.9986772134774574\n",
      "Val AUC: 0.8820011435624248\n",
      "Training with params: \n",
      "{'max_depth': 19, 'max_features': 0.30000000000000004, 'min_samples_leaf': 6, 'n_estimators': 33}\n",
      "Train AUC: 0.999160655392339\n",
      "Val AUC: 0.9346740325003161\n",
      "Training with params: \n",
      "{'max_depth': 14, 'max_features': 0.30000000000000004, 'min_samples_leaf': 53, 'n_estimators': 8}\n",
      "Train AUC: 0.9921470055322089\n",
      "Val AUC: 0.9450540204237223\n",
      "Training with params: \n",
      "{'max_depth': 11, 'max_features': 0.4, 'min_samples_leaf': 29, 'n_estimators': 8}\n",
      "Train AUC: 0.9854578569068674\n",
      "Val AUC: 0.9402334487706518\n",
      "Training with params: \n",
      "{'max_depth': 16, 'max_features': 0.30000000000000004, 'min_samples_leaf': 68, 'n_estimators': 27}\n",
      "Train AUC: 0.99740179355348\n",
      "Val AUC: 0.9440049773949502\n",
      "Training with params: \n",
      "{'max_depth': 13, 'max_features': 0.4, 'min_samples_leaf': 49, 'n_estimators': 26}\n",
      "Train AUC: 0.9935122729520144\n",
      "Val AUC: 0.9488744736629028\n",
      "Training with params: \n",
      "{'max_depth': 19, 'max_features': 0.30000000000000004, 'min_samples_leaf': 81, 'n_estimators': 8}\n",
      "Train AUC: 0.9977089854659124\n",
      "Val AUC: 0.9381395700716655\n",
      "Training with params: \n",
      "{'max_depth': 7, 'max_features': 0.4, 'min_samples_leaf': 46, 'n_estimators': 31}\n",
      "Train AUC: 0.9776670541699287\n",
      "Val AUC: 0.9549878679497602\n",
      "Training with params: \n",
      "{'max_depth': 17, 'max_features': 0.5, 'min_samples_leaf': 89, 'n_estimators': 28}\n",
      "Train AUC: 0.997527506530696\n",
      "Val AUC: 0.9485182726484725\n",
      "Training with params: \n",
      "{'max_depth': 13, 'max_features': 0.30000000000000004, 'min_samples_leaf': 8, 'n_estimators': 10}\n",
      "Train AUC: 0.9917037302993519\n",
      "Val AUC: 0.9385163772311681\n",
      "Training with params: \n",
      "{'max_depth': 19, 'max_features': 0.4, 'min_samples_leaf': 56, 'n_estimators': 37}\n",
      "Train AUC: 0.9985033598485203\n",
      "Val AUC: 0.9424919704489194\n",
      "Training with params: \n",
      "{'max_depth': 8, 'max_features': 0.30000000000000004, 'min_samples_leaf': 33, 'n_estimators': 30}\n",
      "Train AUC: 0.979917457122492\n",
      "Val AUC: 0.9568484424986683\n",
      "Training with params: \n",
      "{'max_depth': 12, 'max_features': 0.5, 'min_samples_leaf': 20, 'n_estimators': 19}\n",
      "Train AUC: 0.9916249560639507\n",
      "Val AUC: 0.951956431409185\n",
      "Training with params: \n",
      "{'max_depth': 18, 'max_features': 0.4, 'min_samples_leaf': 91, 'n_estimators': 38}\n",
      "Train AUC: 0.9978499423789128\n",
      "Val AUC: 0.945942120608613\n",
      "Training with params: \n",
      "{'max_depth': 19, 'max_features': 0.8, 'min_samples_leaf': 82, 'n_estimators': 15}\n",
      "Train AUC: 0.9979730897320467\n",
      "Val AUC: 0.9406297241585393\n",
      "Training with params: \n",
      "{'max_depth': 9, 'max_features': 0.30000000000000004, 'min_samples_leaf': 79, 'n_estimators': 24}\n",
      "Train AUC: 0.9824565058775668\n",
      "Val AUC: 0.9537985154066984\n",
      "Training with params: \n",
      "{'max_depth': 11, 'max_features': 0.5, 'min_samples_leaf': 16, 'n_estimators': 18}\n",
      "Train AUC: 0.986790933130765\n",
      "Val AUC: 0.9509226489070414\n",
      "Training with params: \n",
      "{'max_depth': 10, 'max_features': 0.4, 'min_samples_leaf': 42, 'n_estimators': 16}\n",
      "Train AUC: 0.98434045171887\n",
      "Val AUC: 0.9487941488430862\n",
      "Training with params: \n",
      "{'max_depth': 15, 'max_features': 0.30000000000000004, 'min_samples_leaf': 57, 'n_estimators': 17}\n",
      "Train AUC: 0.9963985034236107\n",
      "Val AUC: 0.9419537225070712\n",
      "Training with params: \n",
      "{'max_depth': 19, 'max_features': 0.7000000000000001, 'min_samples_leaf': 63, 'n_estimators': 39}\n",
      "Train AUC: 0.9983518025265123\n",
      "Val AUC: 0.9471995572254122\n",
      "Training with params: \n",
      "{'max_depth': 17, 'max_features': 0.8, 'min_samples_leaf': 14, 'n_estimators': 21}\n",
      "Train AUC: 0.9985744064985134\n",
      "Val AUC: 0.9365484331982422\n",
      "Training with params: \n",
      "{'max_depth': 14, 'max_features': 0.4, 'min_samples_leaf': 37, 'n_estimators': 25}\n",
      "Train AUC: 0.9958125499827059\n",
      "Val AUC: 0.9466218981352241\n",
      "Training with params: \n",
      "{'max_depth': 16, 'max_features': 0.5, 'min_samples_leaf': 74, 'n_estimators': 8}\n",
      "Train AUC: 0.9960106406644796\n",
      "Val AUC: 0.9387864232868094\n",
      "Training with params: \n",
      "{'max_depth': 8, 'max_features': 0.5, 'min_samples_leaf': 38, 'n_estimators': 7}\n"
     ]
    },
    {
     "name": "stdout",
     "output_type": "stream",
     "text": [
      "Train AUC: 0.9788281917995567\n",
      "Val AUC: 0.9551969491874706\n",
      "Training with params: \n",
      "{'max_depth': 18, 'max_features': 0.6000000000000001, 'min_samples_leaf': 47, 'n_estimators': 8}\n",
      "Train AUC: 0.9976740660947593\n",
      "Val AUC: 0.926757962548866\n",
      "The best hyperparameters are: \n",
      "{'max_depth': 12, 'max_features': 0.30000000000000004, 'min_samples_leaf': 1, 'n_estimators': 1}\n"
     ]
    }
   ],
   "source": [
    "space = {\n",
    "    'max_features': hp.quniform('max_features', 0.3, 1, 0.1),\n",
    "    'max_depth': hp.choice('max_depth', np.arange(7,20,dtype=int)),\n",
    "    'n_estimators': hp.choice('n_estimators', np.arange(7,40,dtype=int)),\n",
    "    'min_samples_leaf': hp.choice('min_samples_leaf', np.arange(5,100,dtype=int))\n",
    "}\n",
    "best_hyperparams = optimize(space,max_evals=50)\n",
    "print(\"The best hyperparameters are: \")\n",
    "print(best_hyperparams)"
   ]
  },
  {
   "cell_type": "markdown",
   "metadata": {},
   "source": [
    "# Testing best params on 4 folds"
   ]
  },
  {
   "cell_type": "markdown",
   "metadata": {},
   "source": [
    "{'max_depth': 8, 'max_features': 0.6000000000000001, 'min_samples_leaf': 51, 'n_estimators': 35}\n",
    "Train AUC: 0.9798743216071168\n",
    "Val AUC: 0.9576770717914608\n",
    "[0.9566921458269793, 0.95697989921035, 0.956823844234881, 0.9558319439207634]\n",
    "0.9565819582982433\n",
    "\n",
    "\n",
    "{'max_depth': 9, 'max_features': 0.8, 'min_samples_leaf': 18, 'n_estimators': 11}\n",
    "Train AUC: 0.9809579987868275\n",
    "Val AUC: 0.9569033639738755\n",
    "[0.9559560854868663,\n",
    " 0.9564844911022952,\n",
    " 0.9564030268920405,\n",
    " 0.9553017816216942]\n",
    "0.956036346275724\n",
    "\n",
    "\n",
    "{'max_depth': 7, 'max_features': 0.5, 'min_samples_leaf': 13, 'n_estimators': 36}\n",
    "Train AUC: 0.9780510959808768\n",
    "Val AUC: 0.956680096628987\n",
    "[0.9578717989258204, 0.9583846931359772, 0.958645910224487, 0.9577675718402391]\n",
    "0.958167493531631\n",
    "\n",
    "{'max_depth': 8, 'max_features': 0.30000000000000004, 'min_samples_leaf': 33, 'n_estimators': 30}\n",
    "Train AUC: 0.979917457122492\n",
    "Val AUC: 0.9568484424986683\n",
    "[0.956181269019988, 0.9560286500196477, 0.9565709501420311, 0.9554181529392235]\n",
    "0.9560497555302225\n",
    "\n"
   ]
  },
  {
   "cell_type": "markdown",
   "metadata": {},
   "source": [
    "# Fixing columns problem\n",
    "\n",
    "{'max_depth': 8, 'max_features': 0.6000000000000001, 'min_samples_leaf': 51, 'n_estimators': 35}\n",
    "[0.9654080503355329, 0.9655023997757216, 0.9661937015981268, 0.96543727481057]\n",
    "0.9656353566299878. Leaderboard: 0.9635 (only train on day 8)\n",
    "\n",
    "\n",
    "{'max_depth': 9, 'max_features': 0.8, 'min_samples_leaf': 18, 'n_estimators': 11}\n",
    "[0.9641039669595549, 0.96399024400902, 0.9647378577167327, 0.9641094643256867]\n",
    "0.9642353832527486\n",
    "\n",
    "\n",
    "{'max_depth': 7, 'max_features': 0.5, 'min_samples_leaf': 13, 'n_estimators': 36}\n",
    "[0.964769836206739, 0.9648433416897317, 0.965350934508006, 0.9644309617411773]\n",
    "0.9648487685364135\n",
    "\n",
    "\n",
    "{'max_depth': 8, 'max_features': 0.30000000000000004, 'min_samples_leaf': 33, 'n_estimators': 30}\n",
    "[0.9646195998140699, 0.9647027256129181, 0.9651638277544395, 0.9643861790719258]\n",
    "0.9647180830633384\n",
    "\n"
   ]
  },
  {
   "cell_type": "code",
   "execution_count": 11,
   "metadata": {},
   "outputs": [
    {
     "data": {
      "text/plain": [
       "['data/validation/val3.feather',\n",
       " 'data/validation/val2.feather',\n",
       " 'data/validation/val0.feather',\n",
       " 'data/validation/val1.feather']"
      ]
     },
     "execution_count": 11,
     "metadata": {},
     "output_type": "execute_result"
    }
   ],
   "source": [
    "val_names = [str(i) for i in list((PATH/'validation').iterdir())]\n",
    "val_names"
   ]
  },
  {
   "cell_type": "code",
   "execution_count": 36,
   "metadata": {},
   "outputs": [
    {
     "data": {
      "text/plain": [
       "RandomForestClassifier(bootstrap=True, class_weight={1: 100},\n",
       "            criterion='gini', max_depth=8, max_features=0.6000000000000001,\n",
       "            max_leaf_nodes=None, min_impurity_decrease=0.0,\n",
       "            min_impurity_split=None, min_samples_leaf=51,\n",
       "            min_samples_split=2, min_weight_fraction_leaf=0.0,\n",
       "            n_estimators=35, n_jobs=-1, oob_score=False, random_state=42,\n",
       "            verbose=0, warm_start=False)"
      ]
     },
     "execution_count": 36,
     "metadata": {},
     "output_type": "execute_result"
    }
   ],
   "source": [
    "params ={'max_depth': 8, 'max_features': 0.6000000000000001, 'min_samples_leaf': 51, 'n_estimators': 35}\n",
    "rf = RandomForestClassifier(oob_score=False,n_jobs=-1,class_weight={1:100},random_state=seed, **params)\n",
    "rf.fit(train_df,y_train)"
   ]
  },
  {
   "cell_type": "code",
   "execution_count": 28,
   "metadata": {},
   "outputs": [
    {
     "data": {
      "text/plain": [
       "27"
      ]
     },
     "execution_count": 28,
     "metadata": {},
     "output_type": "execute_result"
    },
    {
     "name": "stdout",
     "output_type": "stream",
     "text": [
      "Train AUC: 0.9787541766656299\n",
      "Val AUC: 0.9654080503355329\n"
     ]
    },
    {
     "data": {
      "text/plain": [
       "26"
      ]
     },
     "execution_count": 28,
     "metadata": {},
     "output_type": "execute_result"
    },
    {
     "data": {
      "text/plain": [
       "21"
      ]
     },
     "execution_count": 28,
     "metadata": {},
     "output_type": "execute_result"
    },
    {
     "name": "stdout",
     "output_type": "stream",
     "text": [
      "Train AUC: 0.9787541766656299\n",
      "Val AUC: 0.9655023997757216\n"
     ]
    },
    {
     "data": {
      "text/plain": [
       "26"
      ]
     },
     "execution_count": 28,
     "metadata": {},
     "output_type": "execute_result"
    },
    {
     "data": {
      "text/plain": [
       "21"
      ]
     },
     "execution_count": 28,
     "metadata": {},
     "output_type": "execute_result"
    },
    {
     "name": "stdout",
     "output_type": "stream",
     "text": [
      "Train AUC: 0.9787541766656299\n",
      "Val AUC: 0.9661937015981268\n"
     ]
    },
    {
     "data": {
      "text/plain": [
       "26"
      ]
     },
     "execution_count": 28,
     "metadata": {},
     "output_type": "execute_result"
    },
    {
     "data": {
      "text/plain": [
       "21"
      ]
     },
     "execution_count": 28,
     "metadata": {},
     "output_type": "execute_result"
    },
    {
     "name": "stdout",
     "output_type": "stream",
     "text": [
      "Train AUC: 0.9787541766656299\n",
      "Val AUC: 0.96543727481057\n"
     ]
    },
    {
     "data": {
      "text/plain": [
       "26"
      ]
     },
     "execution_count": 28,
     "metadata": {},
     "output_type": "execute_result"
    },
    {
     "data": {
      "text/plain": [
       "[0.9654080503355329, 0.9655023997757216, 0.9661937015981268, 0.96543727481057]"
      ]
     },
     "execution_count": 28,
     "metadata": {},
     "output_type": "execute_result"
    },
    {
     "data": {
      "text/plain": [
       "0.9656353566299878"
      ]
     },
     "execution_count": 28,
     "metadata": {},
     "output_type": "execute_result"
    }
   ],
   "source": [
    "mean_auc=[]\n",
    "for i in val_names:\n",
    "    val_df = pd.read_feather(i)\n",
    "    y_val = val_df.is_attributed\n",
    "    val_df.drop(cols_to_drop,axis=1,inplace=True)\n",
    "    gc.collect()\n",
    "    \n",
    "    auc_score = prediction_score(rf,train_df,y_train,val_df,y_val)\n",
    "    mean_auc.append(auc_score)\n",
    "    \n",
    "    del val_df,y_val\n",
    "    gc.collect()\n",
    "    \n",
    "mean_auc\n",
    "np.mean(mean_auc)"
   ]
  },
  {
   "cell_type": "markdown",
   "metadata": {},
   "source": [
    "# Visualize trees"
   ]
  },
  {
   "cell_type": "code",
   "execution_count": 37,
   "metadata": {},
   "outputs": [],
   "source": [
    "from IPython.display import display\n",
    "from sklearn.tree import export_graphviz\n",
    "import IPython,graphviz\n",
    "import re\n",
    "import matplotlib.pyplot as plt"
   ]
  },
  {
   "cell_type": "code",
   "execution_count": 40,
   "metadata": {},
   "outputs": [],
   "source": [
    "dotfile = open(PATH/'dtree.dot', 'w')\n",
    "dtree=rf.estimators_[0]\n",
    "export_graphviz(dtree, out_file = dotfile, feature_names = train_df.columns,rotate=True)\n",
    "dotfile.close()\n",
    "\n",
    "# Open dot file and paste it to http://webgraphviz.com/"
   ]
  },
  {
   "cell_type": "markdown",
   "metadata": {},
   "source": [
    "# Feature importances"
   ]
  },
  {
   "cell_type": "code",
   "execution_count": 41,
   "metadata": {},
   "outputs": [
    {
     "data": {
      "text/plain": [
       "277"
      ]
     },
     "execution_count": 41,
     "metadata": {},
     "output_type": "execute_result"
    },
    {
     "name": "stdout",
     "output_type": "stream",
     "text": [
      "Score after app perm: 0.96536\n",
      "Score after device perm: 0.96541\n",
      "Score after os perm: 0.96537\n",
      "Score after channel perm: 0.96538\n",
      "Score after hour perm: 0.96485\n",
      "Score after ip_next_click perm: 0.96532\n",
      "Score after ip_app_next_click perm: 0.96535\n",
      "Score after ip_channel_next_click perm: 0.96537\n",
      "Score after ip_os_cumcount perm: 0.96548\n",
      "Score after ip_app_cumcount perm: 0.96530\n",
      "Score after ip_device_os_app_cumcount perm: 0.96539\n",
      "Score after ip_cumcount perm: 0.96478\n",
      "Score after ip_app_os_count_channel perm: 0.96432\n",
      "Score after ip_app_day_hour_count_channel perm: 0.96455\n",
      "Score after app_AvgViewPerDistinct_ip perm: 0.96538\n",
      "Score after ip_count_channel perm: 0.96023\n",
      "Score after app_count_channel perm: 0.96533\n",
      "Score after channel_count_app perm: 0.96543\n",
      "Score after ip_device_os_size_None perm: 0.96515\n",
      "Score after ip_device_os_app_size_None perm: 0.96464\n",
      "Score after minute perm: 0.96539\n",
      "Score after second perm: 0.96544\n",
      "Score after app_channel_mean_target_prevday_alpha1 perm: 0.95865\n",
      "Score after app_device_mean_target_prevday_alpha1 perm: 0.96479\n",
      "Score after app_mean_target_prevday_alpha1 perm: 0.96493\n",
      "Score after app_os_mean_target_prevday_alpha1 perm: 0.95089\n",
      "Score after channel_device_mean_target_prevday_alpha1 perm: 0.96534\n",
      "Score after channel_mean_target_prevday_alpha1 perm: 0.96539\n",
      "Score after channel_os_mean_target_prevday_alpha1 perm: 0.96357\n",
      "Score after device_mean_target_prevday_alpha1 perm: 0.96541\n",
      "Score after ip_mean_target_prevday_alpha1 perm: 0.96523\n",
      "Score after os_device_mean_target_prevday_alpha1 perm: 0.96514\n"
     ]
    },
    {
     "data": {
      "text/plain": [
       "<matplotlib.axes._subplots.AxesSubplot at 0x7f1957e4a6a0>"
      ]
     },
     "execution_count": 41,
     "metadata": {},
     "output_type": "execute_result"
    },
    {
     "data": {
      "image/png": "[encoded data removed]",
      "text/plain": [
       "<Figure size 1440x720 with 1 Axes>"
      ]
     },
     "metadata": {},
     "output_type": "display_data"
    }
   ],
   "source": [
    "\n",
    "val_df = pd.read_feather('data/validation/val3.feather')\n",
    "y_val = val_df.is_attributed\n",
    "val_df.drop(cols_to_drop,axis=1,inplace=True)\n",
    "gc.collect()\n",
    "\n",
    "fea_imp = permutation_importances(rf,val_df,y_val,metric)\n",
    "fea_imp_df = pd.DataFrame(data={'Feature':val_df.columns,'Importance':fea_imp})\n",
    "fea_imp_df = fea_imp_df.set_index('Feature')\n",
    "fea_imp_df = fea_imp_df.sort_values('Importance', ascending=True)\n",
    "fea_imp_df.plot(kind='barh',figsize=(20,10))\n",
    "\n",
    "\n",
    "\n",
    "\n"
   ]
  },
  {
   "cell_type": "markdown",
   "metadata": {},
   "source": [
    "# Checking redundant featuers"
   ]
  },
  {
   "cell_type": "code",
   "execution_count": 45,
   "metadata": {},
   "outputs": [],
   "source": [
    "from scipy.cluster import hierarchy as hc\n",
    "import scipy"
   ]
  },
  {
   "cell_type": "code",
   "execution_count": 46,
   "metadata": {},
   "outputs": [
    {
     "data": {
      "image/png": "[encoded data removed]",
      "text/plain": [
       "<Figure size 1152x720 with 1 Axes>"
      ]
     },
     "metadata": {},
     "output_type": "display_data"
    }
   ],
   "source": [
    "corr = np.round(scipy.stats.spearmanr(train_df).correlation, 4)\n",
    "corr_condensed = hc.distance.squareform(1-corr)\n",
    "z = hc.linkage(corr_condensed, method='average')\n",
    "fig = plt.figure(figsize=(16,10))\n",
    "dendrogram = hc.dendrogram(z, labels=train_df.columns, orientation='left', leaf_font_size=16)\n",
    "plt.show()"
   ]
  },
  {
   "cell_type": "markdown",
   "metadata": {},
   "source": [
    "# Remove redundant and low important features"
   ]
  },
  {
   "cell_type": "code",
   "execution_count": 12,
   "metadata": {},
   "outputs": [
    {
     "data": {
      "text/plain": [
       "RandomForestClassifier(bootstrap=True, class_weight={1: 100},\n",
       "            criterion='gini', max_depth=8, max_features=0.6000000000000001,\n",
       "            max_leaf_nodes=None, min_impurity_decrease=0.0,\n",
       "            min_impurity_split=None, min_samples_leaf=51,\n",
       "            min_samples_split=2, min_weight_fraction_leaf=0.0,\n",
       "            n_estimators=35, n_jobs=-1, oob_score=False, random_state=42,\n",
       "            verbose=0, warm_start=False)"
      ]
     },
     "execution_count": 12,
     "metadata": {},
     "output_type": "execute_result"
    }
   ],
   "source": [
    "params ={'max_depth': 8, 'max_features': 0.6000000000000001, 'min_samples_leaf': 51, 'n_estimators': 35}\n",
    "rf = RandomForestClassifier(oob_score=False,n_jobs=-1,class_weight={1:100},random_state=seed, **params)\n",
    "rf.fit(train_df,y_train)"
   ]
  },
  {
   "cell_type": "code",
   "execution_count": 13,
   "metadata": {},
   "outputs": [
    {
     "data": {
      "text/plain": [
       "27"
      ]
     },
     "execution_count": 13,
     "metadata": {},
     "output_type": "execute_result"
    },
    {
     "name": "stdout",
     "output_type": "stream",
     "text": [
      "Train AUC: 0.979413942215402\n",
      "Val AUC: 0.9650259175823335\n"
     ]
    },
    {
     "data": {
      "text/plain": [
       "26"
      ]
     },
     "execution_count": 13,
     "metadata": {},
     "output_type": "execute_result"
    },
    {
     "data": {
      "text/plain": [
       "21"
      ]
     },
     "execution_count": 13,
     "metadata": {},
     "output_type": "execute_result"
    },
    {
     "name": "stdout",
     "output_type": "stream",
     "text": [
      "Train AUC: 0.979413942215402\n",
      "Val AUC: 0.9653281777299716\n"
     ]
    },
    {
     "data": {
      "text/plain": [
       "26"
      ]
     },
     "execution_count": 13,
     "metadata": {},
     "output_type": "execute_result"
    },
    {
     "data": {
      "text/plain": [
       "21"
      ]
     },
     "execution_count": 13,
     "metadata": {},
     "output_type": "execute_result"
    },
    {
     "name": "stdout",
     "output_type": "stream",
     "text": [
      "Train AUC: 0.979413942215402\n",
      "Val AUC: 0.9658650058239961\n"
     ]
    },
    {
     "data": {
      "text/plain": [
       "26"
      ]
     },
     "execution_count": 13,
     "metadata": {},
     "output_type": "execute_result"
    },
    {
     "data": {
      "text/plain": [
       "21"
      ]
     },
     "execution_count": 13,
     "metadata": {},
     "output_type": "execute_result"
    },
    {
     "name": "stdout",
     "output_type": "stream",
     "text": [
      "Train AUC: 0.979413942215402\n",
      "Val AUC: 0.964927805062447\n"
     ]
    },
    {
     "data": {
      "text/plain": [
       "26"
      ]
     },
     "execution_count": 13,
     "metadata": {},
     "output_type": "execute_result"
    },
    {
     "data": {
      "text/plain": [
       "[0.9650259175823335, 0.9653281777299716, 0.9658650058239961, 0.964927805062447]"
      ]
     },
     "execution_count": 13,
     "metadata": {},
     "output_type": "execute_result"
    },
    {
     "data": {
      "text/plain": [
       "0.9652867265496872"
      ]
     },
     "execution_count": 13,
     "metadata": {},
     "output_type": "execute_result"
    }
   ],
   "source": [
    "mean_auc=[]\n",
    "for i in val_names:\n",
    "    val_df = pd.read_feather(i)\n",
    "    y_val = val_df.is_attributed\n",
    "    val_df.drop(cols_to_drop,axis=1,inplace=True)\n",
    "    gc.collect()\n",
    "    \n",
    "    auc_score = prediction_score(rf,train_df,y_train,val_df,y_val)\n",
    "    mean_auc.append(auc_score)\n",
    "    \n",
    "    del val_df,y_val\n",
    "    gc.collect()\n",
    "    \n",
    "mean_auc\n",
    "np.mean(mean_auc)"
   ]
  },
  {
   "cell_type": "markdown",
   "metadata": {},
   "source": [
    "# Test prediction (train on day 8 and 9)"
   ]
  },
  {
   "cell_type": "code",
   "execution_count": 4,
   "metadata": {},
   "outputs": [],
   "source": [
    "cols_to_drop=['is_attributed','ip','day']\n",
    "\n",
    "sz = 10000000\n",
    "train_df=get_sample_timeseries('train_day8_3to16_FE.feather',sz)"
   ]
  },
  {
   "cell_type": "code",
   "execution_count": 6,
   "metadata": {},
   "outputs": [],
   "source": [
    "val_df = pd.read_feather('data/validation/val3.feather')"
   ]
  },
  {
   "cell_type": "code",
   "execution_count": 8,
   "metadata": {},
   "outputs": [],
   "source": [
    "train_df = pd.concat([train_df,val_df])"
   ]
  },
  {
   "cell_type": "code",
   "execution_count": 11,
   "metadata": {},
   "outputs": [],
   "source": [
    "train_df = train_df.reset_index().drop('index',axis=1)"
   ]
  },
  {
   "cell_type": "code",
   "execution_count": 18,
   "metadata": {},
   "outputs": [
    {
     "data": {
      "text/plain": [
       "84"
      ]
     },
     "execution_count": 18,
     "metadata": {},
     "output_type": "execute_result"
    }
   ],
   "source": [
    "y_train = train_df.is_attributed\n",
    "train_df.drop(cols_to_drop,axis=1,inplace=True)\n",
    "gc.collect()"
   ]
  },
  {
   "cell_type": "code",
   "execution_count": 20,
   "metadata": {},
   "outputs": [
    {
     "data": {
      "text/plain": [
       "RandomForestClassifier(bootstrap=True, class_weight={1: 100},\n",
       "            criterion='gini', max_depth=8, max_features=0.6000000000000001,\n",
       "            max_leaf_nodes=None, min_impurity_decrease=0.0,\n",
       "            min_impurity_split=None, min_samples_leaf=51,\n",
       "            min_samples_split=2, min_weight_fraction_leaf=0.0,\n",
       "            n_estimators=35, n_jobs=-1, oob_score=False, random_state=42,\n",
       "            verbose=0, warm_start=False)"
      ]
     },
     "execution_count": 20,
     "metadata": {},
     "output_type": "execute_result"
    }
   ],
   "source": [
    "params ={'max_depth': 8, 'max_features': 0.6000000000000001, 'min_samples_leaf': 51, 'n_estimators': 35}\n",
    "rf = RandomForestClassifier(oob_score=False,n_jobs=-1,class_weight={1:100},random_state=seed, **params)\n",
    "rf.fit(train_df,y_train)"
   ]
  },
  {
   "cell_type": "code",
   "execution_count": 21,
   "metadata": {},
   "outputs": [
    {
     "data": {
      "text/plain": [
       "(20886724, 32)"
      ]
     },
     "execution_count": 21,
     "metadata": {},
     "output_type": "execute_result"
    }
   ],
   "source": [
    "train_df.shape"
   ]
  },
  {
   "cell_type": "code",
   "execution_count": 22,
   "metadata": {},
   "outputs": [
    {
     "data": {
      "text/plain": [
       "26"
      ]
     },
     "execution_count": 22,
     "metadata": {},
     "output_type": "execute_result"
    }
   ],
   "source": [
    "del train_df\n",
    "gc.collect()"
   ]
  },
  {
   "cell_type": "code",
   "execution_count": 23,
   "metadata": {},
   "outputs": [],
   "source": [
    "sub = pd.read_csv(PATH/'sample_submission.csv')\n",
    "\n",
    "test = get_feather('test_FE.feather')\n",
    "\n",
    "test.drop(cols_to_drop[1:],axis=1,inplace=True)"
   ]
  },
  {
   "cell_type": "code",
   "execution_count": 24,
   "metadata": {},
   "outputs": [
    {
     "data": {
      "text/plain": [
       "(18790469, 32)"
      ]
     },
     "execution_count": 24,
     "metadata": {},
     "output_type": "execute_result"
    }
   ],
   "source": [
    "test.shape"
   ]
  },
  {
   "cell_type": "code",
   "execution_count": 25,
   "metadata": {},
   "outputs": [],
   "source": [
    "pred = rf.predict_proba(test)[:,1]\n",
    "sub.is_attributed = pred"
   ]
  },
  {
   "cell_type": "code",
   "execution_count": 26,
   "metadata": {},
   "outputs": [
    {
     "data": {
      "text/html": [
       "<div>\n",
       "<style scoped>\n",
       "    .dataframe tbody tr th:only-of-type {\n",
       "        vertical-align: middle;\n",
       "    }\n",
       "\n",
       "    .dataframe tbody tr th {\n",
       "        vertical-align: top;\n",
       "    }\n",
       "\n",
       "    .dataframe thead th {\n",
       "        text-align: right;\n",
       "    }\n",
       "</style>\n",
       "<table border=\"1\" class=\"dataframe\">\n",
       "  <thead>\n",
       "    <tr style=\"text-align: right;\">\n",
       "      <th></th>\n",
       "      <th>click_id</th>\n",
       "      <th>is_attributed</th>\n",
       "    </tr>\n",
       "  </thead>\n",
       "  <tbody>\n",
       "    <tr>\n",
       "      <th>18790464</th>\n",
       "      <td>18790464</td>\n",
       "      <td>0.156562</td>\n",
       "    </tr>\n",
       "    <tr>\n",
       "      <th>18790465</th>\n",
       "      <td>18790465</td>\n",
       "      <td>0.004738</td>\n",
       "    </tr>\n",
       "    <tr>\n",
       "      <th>18790466</th>\n",
       "      <td>18790467</td>\n",
       "      <td>0.025312</td>\n",
       "    </tr>\n",
       "    <tr>\n",
       "      <th>18790467</th>\n",
       "      <td>18790466</td>\n",
       "      <td>0.065722</td>\n",
       "    </tr>\n",
       "    <tr>\n",
       "      <th>18790468</th>\n",
       "      <td>18790468</td>\n",
       "      <td>0.003754</td>\n",
       "    </tr>\n",
       "  </tbody>\n",
       "</table>\n",
       "</div>"
      ],
      "text/plain": [
       "          click_id  is_attributed\n",
       "18790464  18790464       0.156562\n",
       "18790465  18790465       0.004738\n",
       "18790466  18790467       0.025312\n",
       "18790467  18790466       0.065722\n",
       "18790468  18790468       0.003754"
      ]
     },
     "execution_count": 26,
     "metadata": {},
     "output_type": "execute_result"
    }
   ],
   "source": [
    "sub.tail()"
   ]
  },
  {
   "cell_type": "code",
   "execution_count": 27,
   "metadata": {},
   "outputs": [],
   "source": [
    "sub.to_csv(PATH/'submission'/'best_RF_day89.csv',index=False)"
   ]
  }
 ],
 "metadata": {
  "kernelspec": {
   "display_name": "Python 3",
   "language": "python",
   "name": "python3"
  },
  "language_info": {
   "codemirror_mode": {
    "name": "ipython",
    "version": 3
   },
   "file_extension": ".py",
   "mimetype": "text/x-python",
   "name": "python",
   "nbconvert_exporter": "python",
   "pygments_lexer": "ipython3",
   "version": "3.6.5"
  }
 },
 "nbformat": 4,
 "nbformat_minor": 2
}
