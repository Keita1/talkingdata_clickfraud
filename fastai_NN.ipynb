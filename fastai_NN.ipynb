{
 "cells": [
  {
   "cell_type": "code",
   "execution_count": null,
   "metadata": {},
   "outputs": [],
   "source": [
    "%matplotlib inline\n",
    "%reload_ext autoreload\n",
    "%autoreload 2\n",
    "\n",
    "from utils import *\n",
    "\n",
    "seed=42\n",
    "PATH = Path('data')\n",
    "list(PATH.iterdir())"
   ]
  },
  {
   "cell_type": "code",
   "execution_count": null,
   "metadata": {},
   "outputs": [],
   "source": [
    "cols_to_dropcols_to =['is_attributed','ip','day','device','second']\n",
    "train_filename = 'train_day8_3to16_nextclick_FE.feather'"
   ]
  },
  {
   "cell_type": "markdown",
   "metadata": {},
   "source": [
    "# Sample run"
   ]
  },
  {
   "cell_type": "code",
   "execution_count": null,
   "metadata": {},
   "outputs": [],
   "source": [
    "val_names = [str(i) for i in list((PATH/'validation').iterdir())]\n",
    "val_names"
   ]
  },
  {
   "cell_type": "code",
   "execution_count": null,
   "metadata": {},
   "outputs": [],
   "source": [
    "train_filename = 'train_day8_3to16_nextclick_FE.feather'\n",
    "train_df,y_train = get_train(cols_to_drop,train_filename,10000000)\n",
    "train_df['Target'] = y_train\n",
    "\n",
    "del y_train\n",
    "gc.collect()\n"
   ]
  },
  {
   "cell_type": "code",
   "execution_count": null,
   "metadata": {},
   "outputs": [],
   "source": [
    "val_names=['data/validation/val2.feather']\n",
    "val_df,y_val = get_val_by_name(cols_to_drop,val_names)\n",
    "val_df['Target'] = y_val\n",
    "\n",
    "del y_val\n",
    "gc.collect()"
   ]
  },
  {
   "cell_type": "code",
   "execution_count": null,
   "metadata": {},
   "outputs": [],
   "source": [
    "cat_vars = ['hour','minute','channel','os','app']\n",
    "contin_vars = [for i in list(train_df.columns) if i not in cat_vars or i != 'Target']\n",
    "n = len(train_df)\n",
    "for v in cat_vars: train_df[v] = train_df[v].astype('category').cat.as_ordered()"
   ]
  },
  {
   "cell_type": "code",
   "execution_count": null,
   "metadata": {},
   "outputs": [],
   "source": [
    "apply_cats(val_df,train_df)"
   ]
  },
  {
   "cell_type": "code",
   "execution_count": null,
   "metadata": {},
   "outputs": [],
   "source": [
    "for v in contin_vars:\n",
    "    train_df[v]= train_df[v].astype('float32')\n",
    "    val_df[v] = val_df[v].astype('float32')"
   ]
  },
  {
   "cell_type": "code",
   "execution_count": null,
   "metadata": {},
   "outputs": [],
   "source": [
    "cat_sz = [(c, len(train_df[c].cat.categories)+1) for c in cat_vars]\n",
    "\n",
    "emb_szs = [(c, min(50, (c+1)//2)) for _,c in cat_sz]\n",
    "\n",
    "print(emb_szs)"
   ]
  },
  {
   "cell_type": "code",
   "execution_count": null,
   "metadata": {},
   "outputs": [],
   "source": [
    "emb_dr=?\n",
    "nn_list=?\n",
    "nn_dr=?\n",
    "cycle_len=?\n",
    "lr=1e-3"
   ]
  },
  {
   "cell_type": "code",
   "execution_count": null,
   "metadata": {},
   "outputs": [],
   "source": [
    "def nll_weight_loss(inp,targ):\n",
    "    return F.nll_loss(inp,targ,weight=torch.tensor([1,100]))"
   ]
  },
  {
   "cell_type": "code",
   "execution_count": null,
   "metadata": {},
   "outputs": [],
   "source": [
    "df_train, y_train, nas, mapper = proc_df(train_df, 'Target', do_scale=True)\n",
    "df_val, y_val, nas, mapper = proc_df(val_df, 'Target', do_scale=True, mapper=mapper, na_dict=nas)\n",
    "\n",
    "md = ColumnarModelData.from_data_frames(str(PATH), df_train,df_val, y_train.astype(np.int8), y_val.astype(np.int8),\n",
    "                                cat_flds=cat_vars, bs=128,is_reg=False)\n",
    "model = md.get_learner(emb_szs, n_cont=len(df_train.columns)-len(cat_vars),\n",
    "           emb_drop=emb_dr, 1, nn_list, nn_dr, use_bn=True)\n",
    "\n",
    "\n",
    "opt = optim.Adam(model.parameters(), lr)\n",
    "# m = nn.LogSoftmax()\n",
    "# loss = nn.NLLLoss()\n",
    "# target = torch.tensor([1,100])\n",
    "# output = loss(m(input), target)\n",
    "# output.backward()\n",
    "\n",
    "# temp=m.fit(lr,1, metrics=[roc_auc_score],cycle_len=cycle_len)\n",
    "fit(model,md,1,opt,crit=nll_weight_loss,metrics=[roc_auc_score])\n",
    "\n",
    "# val_pred,val_targ=m.predict_with_targs()\n",
    "# if get_oof:\n",
    "#     oof_train = np.append(oof_train,val_pred)\n",
    "\n",
    "# val_loss=loss_metric(val_targ,val_pred)\n",
    "\n",
    "# print('Val RMSE: {}'.format(val_loss))\n",
    "# cv_losses.append(val_loss)\n",
    "# print('6 fold results: {}'.format(cv_losses))\n",
    "\n",
    "# mean_cv_loss = np.mean(cv_losses)\n",
    "# print(\"Mean Cross Validation RMSE: {}\\n\".format(mean_cv_loss))\n",
    "# return (oof_train,cv_losses) if get_oof else cv_losses"
   ]
  }
 ],
 "metadata": {
  "kernelspec": {
   "display_name": "Python 3",
   "language": "python",
   "name": "python3"
  },
  "language_info": {
   "codemirror_mode": {
    "name": "ipython",
    "version": 3
   },
   "file_extension": ".py",
   "mimetype": "text/x-python",
   "name": "python",
   "nbconvert_exporter": "python",
   "pygments_lexer": "ipython3",
   "version": "3.6.4"
  }
 },
 "nbformat": 4,
 "nbformat_minor": 2
}
