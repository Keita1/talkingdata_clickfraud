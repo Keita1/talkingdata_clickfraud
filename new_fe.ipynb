{
 "cells": [
  {
   "cell_type": "code",
   "execution_count": 1,
   "metadata": {},
   "outputs": [
    {
     "data": {
      "text/plain": [
       "[PosixPath('data/sample_submission.csv'),\n",
       " PosixPath('data/train_sample.csv'),\n",
       " PosixPath('data/train_no_att_time.csv'),\n",
       " PosixPath('data/.ipynb_checkpoints'),\n",
       " PosixPath('data/val_idxs.p'),\n",
       " PosixPath('data/train_day9_3to16_FE.feather'),\n",
       " PosixPath('data/train_day9_3to16_nextclick_FE.feather'),\n",
       " PosixPath('data/train_day7_3to16_FE.feather'),\n",
       " PosixPath('data/mean_enc_df'),\n",
       " PosixPath('data/train_day7_3to16_nextclick.feather'),\n",
       " PosixPath('data/test_nextclick.feather'),\n",
       " PosixPath('data/test_FE.feather'),\n",
       " PosixPath('data/train_day9_3to16_nextclick.feather'),\n",
       " PosixPath('data/test.csv'),\n",
       " PosixPath('data/train_day8_3to16_nextclick_FE.feather'),\n",
       " PosixPath('data/train_day8_3to16_nextclick.feather')]"
      ]
     },
     "execution_count": 1,
     "metadata": {},
     "output_type": "execute_result"
    }
   ],
   "source": [
    "%matplotlib inline\n",
    "%reload_ext autoreload\n",
    "%autoreload 2\n",
    "\n",
    "import pandas as pd\n",
    "import numpy as np\n",
    "import matplotlib.pyplot as plt\n",
    "\n",
    "from pathlib import Path\n",
    "\n",
    "import gc\n",
    "import time\n",
    "\n",
    "from utils import *\n",
    "\n",
    "PATH = Path('data')\n",
    "list(PATH.iterdir())"
   ]
  },
  {
   "cell_type": "code",
   "execution_count": 2,
   "metadata": {},
   "outputs": [],
   "source": [
    "filename='test_nextclick.feather'"
   ]
  },
  {
   "cell_type": "code",
   "execution_count": 3,
   "metadata": {},
   "outputs": [],
   "source": [
    "day_x = get_feather(filename,PATH)\n",
    "# day_x.click_time = pd.to_datetime(day_x.click_time)"
   ]
  },
  {
   "cell_type": "code",
   "execution_count": 5,
   "metadata": {},
   "outputs": [
    {
     "data": {
      "text/plain": [
       "Index(['ip', 'app', 'device', 'os', 'channel', 'click_time',\n",
       "       'channel_device_mean_target_day9_alpha1',\n",
       "       'app_os_mean_target_day9_alpha1', 'device_mean_target_day9_alpha1',\n",
       "       'os_device_mean_target_day9_alpha1', 'app_mean_target_day9_alpha1',\n",
       "       'ip_mean_target_day9_alpha1', 'app_device_mean_target_day9_alpha1',\n",
       "       'channel_mean_target_day9_alpha1', 'channel_os_mean_target_day9_alpha1',\n",
       "       'app_channel_mean_target_day9_alpha1', 'ip_next_click',\n",
       "       'ip_app_next_click', 'ip_channel_next_click'],\n",
       "      dtype='object')"
      ]
     },
     "execution_count": 5,
     "metadata": {},
     "output_type": "execute_result"
    }
   ],
   "source": [
    "day_x.columns"
   ]
  },
  {
   "cell_type": "code",
   "execution_count": 6,
   "metadata": {},
   "outputs": [],
   "source": [
    "day_x.drop(['channel_device_mean_target_day9_alpha1',\n",
    "       'app_os_mean_target_day9_alpha1', 'device_mean_target_day9_alpha1',\n",
    "       'os_device_mean_target_day9_alpha1', 'app_mean_target_day9_alpha1',\n",
    "       'ip_mean_target_day9_alpha1', 'app_device_mean_target_day9_alpha1',\n",
    "       'channel_mean_target_day9_alpha1', 'channel_os_mean_target_day9_alpha1',\n",
    "       'app_channel_mean_target_day9_alpha1', 'ip_next_click',\n",
    "       'ip_app_next_click', 'ip_channel_next_click'],axis=1,inplace=True)"
   ]
  },
  {
   "cell_type": "code",
   "execution_count": 7,
   "metadata": {},
   "outputs": [
    {
     "data": {
      "text/plain": [
       "Index(['ip', 'app', 'device', 'os', 'channel', 'click_time'], dtype='object')"
      ]
     },
     "execution_count": 7,
     "metadata": {},
     "output_type": "execute_result"
    }
   ],
   "source": [
    "gc.collect()\n",
    "day_x.columns"
   ]
  },
  {
   "cell_type": "markdown",
   "metadata": {},
   "source": [
    "# next click"
   ]
  },
  {
   "cell_type": "code",
   "execution_count": 8,
   "metadata": {},
   "outputs": [
    {
     "name": "stdout",
     "output_type": "stream",
     "text": [
      ">> Grouping by ['ip'] ...\n",
      ">> Grouping by ['ip', 'app'] ...\n",
      ">> Grouping by ['ip', 'channel'] ...\n",
      ">> Grouping by ['ip', 'os'] ...\n",
      ">> Grouping by ['ip', 'os', 'device'] ...\n",
      ">> Grouping by ['ip', 'os', 'device', 'app'] ...\n"
     ]
    }
   ],
   "source": [
    "GROUP_BY_NEXT_CLICKS = [\n",
    "    {'groupby': ['ip']},\n",
    "    {'groupby': ['ip', 'app']},\n",
    "    {'groupby': ['ip', 'channel']},\n",
    "    {'groupby': ['ip', 'os']},\n",
    "    {'groupby': ['ip', 'os', 'device']},\n",
    "    {'groupby': ['ip', 'os', 'device', 'app']}\n",
    "]\n",
    "for spec in GROUP_BY_NEXT_CLICKS:\n",
    "    next_fea = '{}_next_click'.format('_'.join(spec['groupby']))\n",
    "    prev_fea = '{}_prev_click'.format('_'.join(spec['groupby']))\n",
    "    # Run calculation\n",
    "    print(f\">> Grouping by {spec['groupby']} ...\")\n",
    "    day_x = next_prev_click(day_x,spec['groupby'],next_fea,prev_fea)"
   ]
  },
  {
   "cell_type": "code",
   "execution_count": 9,
   "metadata": {
    "scrolled": true
   },
   "outputs": [
    {
     "data": {
      "text/html": [
       "<div>\n",
       "<style scoped>\n",
       "    .dataframe tbody tr th:only-of-type {\n",
       "        vertical-align: middle;\n",
       "    }\n",
       "\n",
       "    .dataframe tbody tr th {\n",
       "        vertical-align: top;\n",
       "    }\n",
       "\n",
       "    .dataframe thead th {\n",
       "        text-align: right;\n",
       "    }\n",
       "</style>\n",
       "<table border=\"1\" class=\"dataframe\">\n",
       "  <thead>\n",
       "    <tr style=\"text-align: right;\">\n",
       "      <th></th>\n",
       "      <th>18790464</th>\n",
       "      <th>18790465</th>\n",
       "      <th>18790466</th>\n",
       "      <th>18790467</th>\n",
       "      <th>18790468</th>\n",
       "    </tr>\n",
       "  </thead>\n",
       "  <tbody>\n",
       "    <tr>\n",
       "      <th>ip</th>\n",
       "      <td>99442</td>\n",
       "      <td>88046</td>\n",
       "      <td>81398</td>\n",
       "      <td>123236</td>\n",
       "      <td>73516</td>\n",
       "    </tr>\n",
       "    <tr>\n",
       "      <th>app</th>\n",
       "      <td>9</td>\n",
       "      <td>23</td>\n",
       "      <td>18</td>\n",
       "      <td>27</td>\n",
       "      <td>12</td>\n",
       "    </tr>\n",
       "    <tr>\n",
       "      <th>device</th>\n",
       "      <td>1</td>\n",
       "      <td>1</td>\n",
       "      <td>1</td>\n",
       "      <td>1</td>\n",
       "      <td>2</td>\n",
       "    </tr>\n",
       "    <tr>\n",
       "      <th>os</th>\n",
       "      <td>13</td>\n",
       "      <td>37</td>\n",
       "      <td>17</td>\n",
       "      <td>13</td>\n",
       "      <td>27</td>\n",
       "    </tr>\n",
       "    <tr>\n",
       "      <th>channel</th>\n",
       "      <td>127</td>\n",
       "      <td>153</td>\n",
       "      <td>265</td>\n",
       "      <td>122</td>\n",
       "      <td>265</td>\n",
       "    </tr>\n",
       "    <tr>\n",
       "      <th>click_time</th>\n",
       "      <td>2017-11-10 15:00:00</td>\n",
       "      <td>2017-11-10 15:00:00</td>\n",
       "      <td>2017-11-10 15:00:00</td>\n",
       "      <td>2017-11-10 15:00:00</td>\n",
       "      <td>2017-11-10 15:00:00</td>\n",
       "    </tr>\n",
       "    <tr>\n",
       "      <th>ip_next_click</th>\n",
       "      <td>NaN</td>\n",
       "      <td>NaN</td>\n",
       "      <td>NaN</td>\n",
       "      <td>NaN</td>\n",
       "      <td>NaN</td>\n",
       "    </tr>\n",
       "    <tr>\n",
       "      <th>ip_prev_click</th>\n",
       "      <td>0</td>\n",
       "      <td>4</td>\n",
       "      <td>0</td>\n",
       "      <td>1</td>\n",
       "      <td>0</td>\n",
       "    </tr>\n",
       "    <tr>\n",
       "      <th>ip_app_next_click</th>\n",
       "      <td>NaN</td>\n",
       "      <td>NaN</td>\n",
       "      <td>NaN</td>\n",
       "      <td>NaN</td>\n",
       "      <td>NaN</td>\n",
       "    </tr>\n",
       "    <tr>\n",
       "      <th>ip_app_prev_click</th>\n",
       "      <td>1305</td>\n",
       "      <td>818</td>\n",
       "      <td>0</td>\n",
       "      <td>NaN</td>\n",
       "      <td>2</td>\n",
       "    </tr>\n",
       "    <tr>\n",
       "      <th>ip_channel_next_click</th>\n",
       "      <td>NaN</td>\n",
       "      <td>NaN</td>\n",
       "      <td>NaN</td>\n",
       "      <td>NaN</td>\n",
       "      <td>NaN</td>\n",
       "    </tr>\n",
       "    <tr>\n",
       "      <th>ip_channel_prev_click</th>\n",
       "      <td>16970</td>\n",
       "      <td>818</td>\n",
       "      <td>0</td>\n",
       "      <td>38405</td>\n",
       "      <td>14</td>\n",
       "    </tr>\n",
       "    <tr>\n",
       "      <th>ip_os_next_click</th>\n",
       "      <td>NaN</td>\n",
       "      <td>NaN</td>\n",
       "      <td>NaN</td>\n",
       "      <td>NaN</td>\n",
       "      <td>NaN</td>\n",
       "    </tr>\n",
       "    <tr>\n",
       "      <th>ip_os_prev_click</th>\n",
       "      <td>0</td>\n",
       "      <td>4</td>\n",
       "      <td>0</td>\n",
       "      <td>1</td>\n",
       "      <td>56</td>\n",
       "    </tr>\n",
       "    <tr>\n",
       "      <th>ip_os_device_next_click</th>\n",
       "      <td>NaN</td>\n",
       "      <td>NaN</td>\n",
       "      <td>NaN</td>\n",
       "      <td>NaN</td>\n",
       "      <td>NaN</td>\n",
       "    </tr>\n",
       "    <tr>\n",
       "      <th>ip_os_device_prev_click</th>\n",
       "      <td>0</td>\n",
       "      <td>4</td>\n",
       "      <td>0</td>\n",
       "      <td>1</td>\n",
       "      <td>564</td>\n",
       "    </tr>\n",
       "    <tr>\n",
       "      <th>ip_os_device_app_next_click</th>\n",
       "      <td>NaN</td>\n",
       "      <td>NaN</td>\n",
       "      <td>NaN</td>\n",
       "      <td>NaN</td>\n",
       "      <td>NaN</td>\n",
       "    </tr>\n",
       "    <tr>\n",
       "      <th>ip_os_device_app_prev_click</th>\n",
       "      <td>1305</td>\n",
       "      <td>36822</td>\n",
       "      <td>0</td>\n",
       "      <td>NaN</td>\n",
       "      <td>564</td>\n",
       "    </tr>\n",
       "  </tbody>\n",
       "</table>\n",
       "</div>"
      ],
      "text/plain": [
       "                                        18790464             18790465  \\\n",
       "ip                                         99442                88046   \n",
       "app                                            9                   23   \n",
       "device                                         1                    1   \n",
       "os                                            13                   37   \n",
       "channel                                      127                  153   \n",
       "click_time                   2017-11-10 15:00:00  2017-11-10 15:00:00   \n",
       "ip_next_click                                NaN                  NaN   \n",
       "ip_prev_click                                  0                    4   \n",
       "ip_app_next_click                            NaN                  NaN   \n",
       "ip_app_prev_click                           1305                  818   \n",
       "ip_channel_next_click                        NaN                  NaN   \n",
       "ip_channel_prev_click                      16970                  818   \n",
       "ip_os_next_click                             NaN                  NaN   \n",
       "ip_os_prev_click                               0                    4   \n",
       "ip_os_device_next_click                      NaN                  NaN   \n",
       "ip_os_device_prev_click                        0                    4   \n",
       "ip_os_device_app_next_click                  NaN                  NaN   \n",
       "ip_os_device_app_prev_click                 1305                36822   \n",
       "\n",
       "                                        18790466             18790467  \\\n",
       "ip                                         81398               123236   \n",
       "app                                           18                   27   \n",
       "device                                         1                    1   \n",
       "os                                            17                   13   \n",
       "channel                                      265                  122   \n",
       "click_time                   2017-11-10 15:00:00  2017-11-10 15:00:00   \n",
       "ip_next_click                                NaN                  NaN   \n",
       "ip_prev_click                                  0                    1   \n",
       "ip_app_next_click                            NaN                  NaN   \n",
       "ip_app_prev_click                              0                  NaN   \n",
       "ip_channel_next_click                        NaN                  NaN   \n",
       "ip_channel_prev_click                          0                38405   \n",
       "ip_os_next_click                             NaN                  NaN   \n",
       "ip_os_prev_click                               0                    1   \n",
       "ip_os_device_next_click                      NaN                  NaN   \n",
       "ip_os_device_prev_click                        0                    1   \n",
       "ip_os_device_app_next_click                  NaN                  NaN   \n",
       "ip_os_device_app_prev_click                    0                  NaN   \n",
       "\n",
       "                                        18790468  \n",
       "ip                                         73516  \n",
       "app                                           12  \n",
       "device                                         2  \n",
       "os                                            27  \n",
       "channel                                      265  \n",
       "click_time                   2017-11-10 15:00:00  \n",
       "ip_next_click                                NaN  \n",
       "ip_prev_click                                  0  \n",
       "ip_app_next_click                            NaN  \n",
       "ip_app_prev_click                              2  \n",
       "ip_channel_next_click                        NaN  \n",
       "ip_channel_prev_click                         14  \n",
       "ip_os_next_click                             NaN  \n",
       "ip_os_prev_click                              56  \n",
       "ip_os_device_next_click                      NaN  \n",
       "ip_os_device_prev_click                      564  \n",
       "ip_os_device_app_next_click                  NaN  \n",
       "ip_os_device_app_prev_click                  564  "
      ]
     },
     "execution_count": 9,
     "metadata": {},
     "output_type": "execute_result"
    }
   ],
   "source": [
    "\n",
    "day_x.tail().T"
   ]
  },
  {
   "cell_type": "code",
   "execution_count": 10,
   "metadata": {},
   "outputs": [
    {
     "data": {
      "text/plain": [
       "51"
      ]
     },
     "execution_count": 10,
     "metadata": {},
     "output_type": "execute_result"
    }
   ],
   "source": [
    "\n",
    "\n",
    "day_x.to_feather(PATH/filename)\n",
    "\n",
    "# day_x = get_feather('test_nextclick.feather')\n",
    "\n",
    "gc.collect()"
   ]
  },
  {
   "cell_type": "code",
   "execution_count": 14,
   "metadata": {},
   "outputs": [
    {
     "name": "stdout",
     "output_type": "stream",
     "text": [
      ">> Grouping by ['ip'], and saving time to next click in: ip_next_click\n",
      ">> Grouping by ['ip', 'app'], and saving time to next click in: ip_app_next_click\n",
      ">> Grouping by ['ip', 'channel'], and saving time to next click in: ip_channel_next_click\n"
     ]
    }
   ],
   "source": [
    "# GROUP_BY_NEXT_CLICKS = [\n",
    "#     {'groupby': ['ip']},\n",
    "#     {'groupby': ['ip', 'app']},\n",
    "#     {'groupby': ['ip', 'channel']},\n",
    "# ]\n",
    "# for spec in GROUP_BY_NEXT_CLICKS:\n",
    "#     new_fea = '{}_next_click'.format('_'.join(spec['groupby']))\n",
    "#     # Run calculation\n",
    "#     print(f\">> Grouping by {spec['groupby']}, and saving time to next click in: {new_fea}\")\n",
    "#     day_x = time_till_next_click(day_x,spec['groupby'],new_fea)\n",
    "\n",
    "# day_x= downcast_dtypes(day_x)\n",
    "\n",
    "# day_x.to_feather(PATH/'test_nextclick.feather')\n",
    "\n",
    "# # day_x = get_feather('test_nextclick.feather')\n",
    "\n",
    "# gc.collect()"
   ]
  },
  {
   "cell_type": "markdown",
   "metadata": {},
   "source": [
    "# Cumcount (for each day) (might be discard)"
   ]
  },
  {
   "cell_type": "code",
   "execution_count": 11,
   "metadata": {},
   "outputs": [],
   "source": [
    "CUMCOUNT_GROUP=[\n",
    "    ['ip','os'],\n",
    "    ['ip','app'],\n",
    "    ['ip','device','os','app'],\n",
    "    ['ip'],\n",
    "]\n",
    "\n"
   ]
  },
  {
   "cell_type": "code",
   "execution_count": 12,
   "metadata": {},
   "outputs": [],
   "source": [
    "for spec in CUMCOUNT_GROUP:\n",
    "    day_x = cum_count(spec,day_x)"
   ]
  },
  {
   "cell_type": "code",
   "execution_count": 13,
   "metadata": {},
   "outputs": [
    {
     "data": {
      "text/plain": [
       "ip                                      int32\n",
       "app                                     int32\n",
       "device                                  int32\n",
       "os                                      int32\n",
       "channel                                 int32\n",
       "click_time                     datetime64[ns]\n",
       "ip_next_click                         float32\n",
       "ip_prev_click                         float32\n",
       "ip_app_next_click                     float32\n",
       "ip_app_prev_click                     float32\n",
       "ip_channel_next_click                 float32\n",
       "ip_channel_prev_click                 float32\n",
       "ip_os_next_click                      float32\n",
       "ip_os_prev_click                      float32\n",
       "ip_os_device_next_click               float32\n",
       "ip_os_device_prev_click               float32\n",
       "ip_os_device_app_next_click           float32\n",
       "ip_os_device_app_prev_click           float32\n",
       "ip_os_cumcount                          int32\n",
       "ip_app_cumcount                         int32\n",
       "ip_device_os_app_cumcount               int32\n",
       "ip_cumcount                             int32\n",
       "dtype: object"
      ]
     },
     "execution_count": 13,
     "metadata": {},
     "output_type": "execute_result"
    }
   ],
   "source": [
    "day_x.dtypes"
   ]
  },
  {
   "cell_type": "code",
   "execution_count": 14,
   "metadata": {},
   "outputs": [],
   "source": [
    "temp = filename[:-8]+ '_FE.feather'\n",
    "day_x.to_feather(PATH/ temp)"
   ]
  },
  {
   "cell_type": "markdown",
   "metadata": {},
   "source": [
    "# Group-by aggregation (for each day)"
   ]
  },
  {
   "cell_type": "code",
   "execution_count": 20,
   "metadata": {},
   "outputs": [],
   "source": [
    "# Define all the groupby transformations\n",
    "GROUPBY_AGGREGATIONS = [\n",
    "    \n",
    "    # Count, for ip-day-hour\n",
    "    {'groupby': ['ip','day','hour'], 'select': 'channel', 'agg': 'count'},\n",
    "#     Count, for ip-app\n",
    "    {'groupby': ['ip', 'app'], 'select': 'channel', 'agg': 'count'},        \n",
    "    # Count, for ip-app-os\n",
    "    {'groupby': ['ip', 'app', 'os'], 'select': 'channel', 'agg': 'count'},\n",
    "    # Count, for ip-app-day-hour\n",
    "    {'groupby': ['ip','app','day','hour'], 'select': 'channel', 'agg': 'count'},\n",
    "    # Mean hour, for ip-app-channel\n",
    "    {'groupby': ['ip','app','channel'], 'select': 'hour', 'agg': 'mean'}, \n",
    "    \n",
    "    \n",
    "# #     How popular is the app or channel?\n",
    "    {'groupby': ['ip'], 'select': 'channel', 'agg': 'count'},\n",
    "    {'groupby': ['app'], 'select': 'channel', 'agg': 'count'},\n",
    "    {'groupby': ['channel'], 'select': 'app', 'agg': 'count'},\n",
    "    \n",
    "    \n",
    "# #     # Size calculation\n",
    "    {'groupby': ['ip','device','os'], 'select': None, 'agg': 'size'},\n",
    "    {'groupby': ['ip','device','os','app'], 'select': None, 'agg': 'size'},\n",
    "    {'groupby': ['ip', 'app', 'os'], 'select': None, 'agg': 'size'}\n",
    "]"
   ]
  },
  {
   "cell_type": "code",
   "execution_count": 2,
   "metadata": {},
   "outputs": [],
   "source": [
    "# day_x=get_feather('test_nextclick_FE.feather')"
   ]
  },
  {
   "cell_type": "code",
   "execution_count": 21,
   "metadata": {
    "scrolled": true
   },
   "outputs": [
    {
     "name": "stdout",
     "output_type": "stream",
     "text": [
      "Grouping by ['ip', 'day', 'hour'], and aggregating channel with count\n",
      "Grouping by ['ip', 'app'], and aggregating channel with count\n",
      "Grouping by ['ip', 'app', 'os'], and aggregating channel with count\n",
      "Grouping by ['ip', 'app', 'day', 'hour'], and aggregating channel with count\n",
      "Grouping by ['ip', 'app', 'channel'], and aggregating hour with mean\n",
      "Grouping by ['ip'], and aggregating channel with count\n",
      "Grouping by ['app'], and aggregating channel with count\n",
      "Grouping by ['channel'], and aggregating app with count\n",
      "Grouping by ['ip', 'device', 'os'], and aggregating None with size\n",
      "Grouping by ['ip', 'device', 'os', 'app'], and aggregating None with size\n",
      "Grouping by ['ip', 'app', 'os'], and aggregating None with size\n"
     ]
    }
   ],
   "source": [
    "# Apply all the groupby transformations\n",
    "for spec in GROUPBY_AGGREGATIONS:\n",
    "    day_x,_=groupby_agg(spec,day_x)"
   ]
  },
  {
   "cell_type": "code",
   "execution_count": 5,
   "metadata": {},
   "outputs": [
    {
     "data": {
      "text/plain": [
       "378"
      ]
     },
     "execution_count": 5,
     "metadata": {},
     "output_type": "execute_result"
    }
   ],
   "source": [
    "temp = filename[:-8]+ '_FE.feather'\n",
    "day_x.to_feather(PATH/ temp)\n",
    "gc.collect()"
   ]
  },
  {
   "cell_type": "code",
   "execution_count": 25,
   "metadata": {},
   "outputs": [
    {
     "data": {
      "text/plain": [
       "Index(['ip', 'app', 'device', 'os', 'channel', 'ip_next_click',\n",
       "       'ip_prev_click', 'ip_app_next_click', 'ip_app_prev_click',\n",
       "       'ip_channel_next_click', 'ip_channel_prev_click', 'ip_os_next_click',\n",
       "       'ip_os_prev_click', 'ip_os_device_next_click',\n",
       "       'ip_os_device_prev_click', 'ip_os_device_app_next_click',\n",
       "       'ip_os_device_app_prev_click', 'ip_os_cumcount', 'ip_app_cumcount',\n",
       "       'ip_device_os_app_cumcount', 'ip_cumcount', 'day', 'hour', 'minute',\n",
       "       'second', 'ip_day_hour_count_channel', 'ip_app_count_channel',\n",
       "       'ip_app_os_count_channel', 'ip_app_day_hour_count_channel',\n",
       "       'ip_app_channel_mean_hour', 'ip_count_channel', 'app_count_channel',\n",
       "       'channel_count_app', 'ip_device_os_size_None',\n",
       "       'ip_device_os_app_size_None', 'ip_app_os_size_None'],\n",
       "      dtype='object')"
      ]
     },
     "execution_count": 25,
     "metadata": {},
     "output_type": "execute_result"
    }
   ],
   "source": [
    "day_x.columns"
   ]
  },
  {
   "cell_type": "code",
   "execution_count": 31,
   "metadata": {},
   "outputs": [],
   "source": [
    "# day_x = day_x[['ip', 'app', 'device', 'os', 'channel','day', 'hour', 'ip_next_click', 'ip_prev_click', 'ip_app_next_click', 'ip_app_prev_click', 'ip_channel_next_click', 'ip_channel_prev_click', 'ip_os_next_click', 'ip_os_prev_click', 'ip_os_device_next_click', 'ip_os_device_prev_click', 'ip_os_device_app_next_click', 'ip_os_device_app_prev_click', 'ip_os_cumcount', 'ip_app_cumcount', 'ip_device_os_app_cumcount', 'ip_cumcount', 'ip_day_hour_count_channel', 'ip_app_count_channel', 'ip_app_os_count_channel', 'ip_app_day_hour_count_channel', 'ip_app_channel_mean_hour', 'ip_count_channel', 'app_count_channel', 'channel_count_app', 'ip_device_os_size_None', 'ip_device_os_app_size_None', 'ip_app_os_size_None', 'minute', 'second']]"
   ]
  },
  {
   "cell_type": "code",
   "execution_count": 33,
   "metadata": {},
   "outputs": [
    {
     "data": {
      "text/plain": [
       "['ip',\n",
       " 'app',\n",
       " 'device',\n",
       " 'os',\n",
       " 'channel',\n",
       " 'is_attributed',\n",
       " 'day',\n",
       " 'hour',\n",
       " 'ip_next_click',\n",
       " 'ip_prev_click',\n",
       " 'ip_app_next_click',\n",
       " 'ip_app_prev_click',\n",
       " 'ip_channel_next_click',\n",
       " 'ip_channel_prev_click',\n",
       " 'ip_os_next_click',\n",
       " 'ip_os_prev_click',\n",
       " 'ip_os_device_next_click',\n",
       " 'ip_os_device_prev_click',\n",
       " 'ip_os_device_app_next_click',\n",
       " 'ip_os_device_app_prev_click',\n",
       " 'ip_os_cumcount',\n",
       " 'ip_app_cumcount',\n",
       " 'ip_device_os_app_cumcount',\n",
       " 'ip_cumcount',\n",
       " 'ip_day_hour_count_channel',\n",
       " 'ip_app_count_channel',\n",
       " 'ip_app_os_count_channel',\n",
       " 'ip_app_day_hour_count_channel',\n",
       " 'ip_app_channel_mean_hour',\n",
       " 'ip_count_channel',\n",
       " 'app_count_channel',\n",
       " 'channel_count_app',\n",
       " 'ip_device_os_size_None',\n",
       " 'ip_device_os_app_size_None',\n",
       " 'ip_app_os_size_None',\n",
       " 'minute',\n",
       " 'second']"
      ]
     },
     "execution_count": 33,
     "metadata": {},
     "output_type": "execute_result"
    }
   ],
   "source": [
    "a"
   ]
  },
  {
   "cell_type": "code",
   "execution_count": 6,
   "metadata": {},
   "outputs": [
    {
     "data": {
      "text/plain": [
       "(43546887, 37)"
      ]
     },
     "execution_count": 6,
     "metadata": {},
     "output_type": "execute_result"
    }
   ],
   "source": [
    "day_x.shape"
   ]
  },
  {
   "cell_type": "markdown",
   "metadata": {},
   "source": [
    "# Time features"
   ]
  },
  {
   "cell_type": "code",
   "execution_count": 19,
   "metadata": {},
   "outputs": [],
   "source": [
    "day_x = time_feature(day_x)"
   ]
  },
  {
   "cell_type": "code",
   "execution_count": 34,
   "metadata": {},
   "outputs": [
    {
     "data": {
      "text/plain": [
       "166"
      ]
     },
     "execution_count": 34,
     "metadata": {},
     "output_type": "execute_result"
    }
   ],
   "source": [
    "temp = filename[:-8]+ '_FE.feather'\n",
    "day_x.to_feather(PATH/ temp)\n",
    "gc.collect()"
   ]
  },
  {
   "cell_type": "markdown",
   "metadata": {},
   "source": [
    "# Mean encoding (frequency) (lagging from previous day)"
   ]
  },
  {
   "cell_type": "markdown",
   "metadata": {},
   "source": [
    "prev_mean_target. mean_df is saved to merge into validation/test set\n",
    "\n",
    "TODO: 3to6_prev_mean_target, 7to11_prev_mean_target, 12to16_prev_mean_target"
   ]
  }
 ],
 "metadata": {
  "kernelspec": {
   "display_name": "Python 3",
   "language": "python",
   "name": "python3"
  },
  "language_info": {
   "codemirror_mode": {
    "name": "ipython",
    "version": 3
   },
   "file_extension": ".py",
   "mimetype": "text/x-python",
   "name": "python",
   "nbconvert_exporter": "python",
   "pygments_lexer": "ipython3",
   "version": "3.6.5"
  },
  "latex_envs": {
   "LaTeX_envs_menu_present": true,
   "autoclose": false,
   "autocomplete": true,
   "bibliofile": "biblio.bib",
   "cite_by": "apalike",
   "current_citInitial": 1,
   "eqLabelWithNumbers": true,
   "eqNumInitial": 1,
   "hotkeys": {
    "equation": "Ctrl-E",
    "itemize": "Ctrl-I"
   },
   "labels_anchors": false,
   "latex_user_defs": false,
   "report_style_numbering": false,
   "user_envs_cfg": false
  },
  "toc": {
   "base_numbering": 1,
   "nav_menu": {},
   "number_sections": true,
   "sideBar": true,
   "skip_h1_title": false,
   "title_cell": "Table of Contents",
   "title_sidebar": "Contents",
   "toc_cell": false,
   "toc_position": {},
   "toc_section_display": true,
   "toc_window_display": false
  },
  "varInspector": {
   "cols": {
    "lenName": 16,
    "lenType": 16,
    "lenVar": 40
   },
   "kernels_config": {
    "python": {
     "delete_cmd_postfix": "",
     "delete_cmd_prefix": "del ",
     "library": "var_list.py",
     "varRefreshCmd": "print(var_dic_list())"
    },
    "r": {
     "delete_cmd_postfix": ") ",
     "delete_cmd_prefix": "rm(",
     "library": "var_list.r",
     "varRefreshCmd": "cat(var_dic_list()) "
    }
   },
   "oldHeight": 255,
   "position": {
    "height": "277px",
    "left": "1447px",
    "right": "20px",
    "top": "139px",
    "width": "350px"
   },
   "types_to_exclude": [
    "module",
    "function",
    "builtin_function_or_method",
    "instance",
    "_Feature"
   ],
   "varInspector_section_display": "block",
   "window_display": false
  }
 },
 "nbformat": 4,
 "nbformat_minor": 2
}
